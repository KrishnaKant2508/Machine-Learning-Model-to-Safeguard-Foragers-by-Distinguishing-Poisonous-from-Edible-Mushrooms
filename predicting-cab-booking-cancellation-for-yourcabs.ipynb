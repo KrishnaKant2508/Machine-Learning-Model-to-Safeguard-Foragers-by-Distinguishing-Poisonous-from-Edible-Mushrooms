{
 "cells": [
  {
   "cell_type": "code",
   "execution_count": 1,
   "id": "f8081973",
   "metadata": {
    "_cell_guid": "b1076dfc-b9ad-4769-8c92-a6c4dae69d19",
    "_uuid": "8f2839f25d086af736a60e9eeb907d3b93b6e0e5",
    "execution": {
     "iopub.execute_input": "2022-03-14T19:35:41.390596Z",
     "iopub.status.busy": "2022-03-14T19:35:41.389479Z",
     "iopub.status.idle": "2022-03-14T19:35:41.407249Z",
     "shell.execute_reply": "2022-03-14T19:35:41.407798Z",
     "shell.execute_reply.started": "2022-03-14T19:25:27.246090Z"
    },
    "papermill": {
     "duration": 0.083192,
     "end_time": "2022-03-14T19:35:41.408117",
     "exception": false,
     "start_time": "2022-03-14T19:35:41.324925",
     "status": "completed"
    },
    "tags": []
   },
   "outputs": [
    {
     "name": "stdout",
     "output_type": "stream",
     "text": [
      "/kaggle/input/yourcabs/YourCabs_score.csv\n",
      "/kaggle/input/yourcabs/YourCabs_training.csv\n"
     ]
    }
   ],
   "source": [
    "# This Python 3 environment comes with many helpful analytics libraries installed\n",
    "# It is defined by the kaggle/python Docker image: https://github.com/kaggle/docker-python\n",
    "# For example, here's several helpful packages to load\n",
    "\n",
    "import numpy as np # linear algebra\n",
    "import pandas as pd # data processing, CSV file I/O (e.g. pd.read_csv)\n",
    "\n",
    "# Input data files are available in the read-only \"../input/\" directory\n",
    "# For example, running this (by clicking run or pressing Shift+Enter) will list all files under the input directory\n",
    "\n",
    "import os\n",
    "for dirname, _, filenames in os.walk('/kaggle/input'):\n",
    "    for filename in filenames:\n",
    "        print(os.path.join(dirname, filename))\n",
    "\n",
    "# You can write up to 20GB to the current directory (/kaggle/working/) that gets preserved as output when you create a version using \"Save & Run All\" \n",
    "# You can also write temporary files to /kaggle/temp/, but they won't be saved outside of the current session"
   ]
  },
  {
   "cell_type": "code",
   "execution_count": null,
   "id": "7bc0da67",
   "metadata": {},
   "outputs": [],
   "source": []
  },
  {
   "cell_type": "code",
   "execution_count": 2,
   "id": "dc26e544",
   "metadata": {
    "execution": {
     "iopub.execute_input": "2022-03-14T19:35:41.542203Z",
     "iopub.status.busy": "2022-03-14T19:35:41.541550Z",
     "iopub.status.idle": "2022-03-14T19:35:42.599934Z",
     "shell.execute_reply": "2022-03-14T19:35:42.599224Z",
     "shell.execute_reply.started": "2022-03-14T19:25:27.268110Z"
    },
    "papermill": {
     "duration": 1.129679,
     "end_time": "2022-03-14T19:35:42.600075",
     "exception": false,
     "start_time": "2022-03-14T19:35:41.470396",
     "status": "completed"
    },
    "tags": []
   },
   "outputs": [],
   "source": [
    "import numpy as np\n",
    "import pandas as pd\n",
    "import matplotlib.pyplot as plt\n",
    "import seaborn as sns"
   ]
  },
  {
   "cell_type": "code",
   "execution_count": 3,
   "id": "3c45af55",
   "metadata": {
    "execution": {
     "iopub.execute_input": "2022-03-14T19:35:42.724484Z",
     "iopub.status.busy": "2022-03-14T19:35:42.723857Z",
     "iopub.status.idle": "2022-03-14T19:35:42.842803Z",
     "shell.execute_reply": "2022-03-14T19:35:42.843310Z",
     "shell.execute_reply.started": "2022-03-14T19:25:27.844205Z"
    },
    "papermill": {
     "duration": 0.184182,
     "end_time": "2022-03-14T19:35:42.843477",
     "exception": false,
     "start_time": "2022-03-14T19:35:42.659295",
     "status": "completed"
    },
    "tags": []
   },
   "outputs": [],
   "source": [
    "from geopy import distance"
   ]
  },
  {
   "cell_type": "markdown",
   "id": "d5f99eec",
   "metadata": {
    "papermill": {
     "duration": 0.060623,
     "end_time": "2022-03-14T19:35:42.965922",
     "exception": false,
     "start_time": "2022-03-14T19:35:42.905299",
     "status": "completed"
    },
    "tags": []
   },
   "source": [
    "## Importing Data"
   ]
  },
  {
   "cell_type": "code",
   "execution_count": 4,
   "id": "d97f2438",
   "metadata": {
    "execution": {
     "iopub.execute_input": "2022-03-14T19:35:43.128720Z",
     "iopub.status.busy": "2022-03-14T19:35:43.127518Z",
     "iopub.status.idle": "2022-03-14T19:35:43.354377Z",
     "shell.execute_reply": "2022-03-14T19:35:43.354885Z",
     "shell.execute_reply.started": "2022-03-14T19:25:27.934833Z"
    },
    "papermill": {
     "duration": 0.307606,
     "end_time": "2022-03-14T19:35:43.355064",
     "exception": false,
     "start_time": "2022-03-14T19:35:43.047458",
     "status": "completed"
    },
    "tags": []
   },
   "outputs": [],
   "source": [
    "df = pd.read_csv('/kaggle/input/yourcabs/YourCabs_training.csv')"
   ]
  },
  {
   "cell_type": "code",
   "execution_count": 5,
   "id": "df8aa06c",
   "metadata": {
    "execution": {
     "iopub.execute_input": "2022-03-14T19:35:43.477297Z",
     "iopub.status.busy": "2022-03-14T19:35:43.476626Z",
     "iopub.status.idle": "2022-03-14T19:35:43.503228Z",
     "shell.execute_reply": "2022-03-14T19:35:43.502604Z",
     "shell.execute_reply.started": "2022-03-14T19:25:28.149729Z"
    },
    "papermill": {
     "duration": 0.088463,
     "end_time": "2022-03-14T19:35:43.503380",
     "exception": false,
     "start_time": "2022-03-14T19:35:43.414917",
     "status": "completed"
    },
    "tags": []
   },
   "outputs": [
    {
     "data": {
      "text/html": [
       "<div>\n",
       "<style scoped>\n",
       "    .dataframe tbody tr th:only-of-type {\n",
       "        vertical-align: middle;\n",
       "    }\n",
       "\n",
       "    .dataframe tbody tr th {\n",
       "        vertical-align: top;\n",
       "    }\n",
       "\n",
       "    .dataframe thead th {\n",
       "        text-align: right;\n",
       "    }\n",
       "</style>\n",
       "<table border=\"1\" class=\"dataframe\">\n",
       "  <thead>\n",
       "    <tr style=\"text-align: right;\">\n",
       "      <th></th>\n",
       "      <th>id</th>\n",
       "      <th>user_id</th>\n",
       "      <th>vehicle_model_id</th>\n",
       "      <th>package_id</th>\n",
       "      <th>travel_type_id</th>\n",
       "      <th>from_area_id</th>\n",
       "      <th>to_area_id</th>\n",
       "      <th>from_city_id</th>\n",
       "      <th>to_city_id</th>\n",
       "      <th>from_date</th>\n",
       "      <th>to_date</th>\n",
       "      <th>online_booking</th>\n",
       "      <th>mobile_site_booking</th>\n",
       "      <th>booking_created</th>\n",
       "      <th>from_lat</th>\n",
       "      <th>from_long</th>\n",
       "      <th>to_lat</th>\n",
       "      <th>to_long</th>\n",
       "      <th>Car_Cancellation</th>\n",
       "      <th>Cost_of_error</th>\n",
       "    </tr>\n",
       "  </thead>\n",
       "  <tbody>\n",
       "    <tr>\n",
       "      <th>0</th>\n",
       "      <td>132512</td>\n",
       "      <td>22177</td>\n",
       "      <td>28</td>\n",
       "      <td>NaN</td>\n",
       "      <td>2</td>\n",
       "      <td>83.0</td>\n",
       "      <td>448.0</td>\n",
       "      <td>NaN</td>\n",
       "      <td>NaN</td>\n",
       "      <td>1/1/2013 2:00</td>\n",
       "      <td>NaN</td>\n",
       "      <td>0</td>\n",
       "      <td>0</td>\n",
       "      <td>1/1/2013 1:39</td>\n",
       "      <td>12.924150</td>\n",
       "      <td>77.672290</td>\n",
       "      <td>12.927320</td>\n",
       "      <td>77.635750</td>\n",
       "      <td>0</td>\n",
       "      <td>1.0</td>\n",
       "    </tr>\n",
       "    <tr>\n",
       "      <th>1</th>\n",
       "      <td>132513</td>\n",
       "      <td>21413</td>\n",
       "      <td>12</td>\n",
       "      <td>NaN</td>\n",
       "      <td>2</td>\n",
       "      <td>1010.0</td>\n",
       "      <td>540.0</td>\n",
       "      <td>NaN</td>\n",
       "      <td>NaN</td>\n",
       "      <td>1/1/2013 9:00</td>\n",
       "      <td>NaN</td>\n",
       "      <td>0</td>\n",
       "      <td>0</td>\n",
       "      <td>1/1/2013 2:25</td>\n",
       "      <td>12.966910</td>\n",
       "      <td>77.749350</td>\n",
       "      <td>12.927680</td>\n",
       "      <td>77.626640</td>\n",
       "      <td>0</td>\n",
       "      <td>1.0</td>\n",
       "    </tr>\n",
       "    <tr>\n",
       "      <th>2</th>\n",
       "      <td>132514</td>\n",
       "      <td>22178</td>\n",
       "      <td>12</td>\n",
       "      <td>NaN</td>\n",
       "      <td>2</td>\n",
       "      <td>1301.0</td>\n",
       "      <td>1034.0</td>\n",
       "      <td>NaN</td>\n",
       "      <td>NaN</td>\n",
       "      <td>1/1/2013 3:30</td>\n",
       "      <td>NaN</td>\n",
       "      <td>0</td>\n",
       "      <td>0</td>\n",
       "      <td>1/1/2013 3:08</td>\n",
       "      <td>12.937222</td>\n",
       "      <td>77.626915</td>\n",
       "      <td>13.047926</td>\n",
       "      <td>77.597766</td>\n",
       "      <td>0</td>\n",
       "      <td>1.0</td>\n",
       "    </tr>\n",
       "    <tr>\n",
       "      <th>3</th>\n",
       "      <td>132515</td>\n",
       "      <td>13034</td>\n",
       "      <td>12</td>\n",
       "      <td>NaN</td>\n",
       "      <td>2</td>\n",
       "      <td>768.0</td>\n",
       "      <td>398.0</td>\n",
       "      <td>NaN</td>\n",
       "      <td>NaN</td>\n",
       "      <td>1/1/2013 5:45</td>\n",
       "      <td>NaN</td>\n",
       "      <td>0</td>\n",
       "      <td>0</td>\n",
       "      <td>1/1/2013 4:39</td>\n",
       "      <td>12.989990</td>\n",
       "      <td>77.553320</td>\n",
       "      <td>12.971430</td>\n",
       "      <td>77.639140</td>\n",
       "      <td>0</td>\n",
       "      <td>1.0</td>\n",
       "    </tr>\n",
       "    <tr>\n",
       "      <th>4</th>\n",
       "      <td>132517</td>\n",
       "      <td>22180</td>\n",
       "      <td>12</td>\n",
       "      <td>NaN</td>\n",
       "      <td>2</td>\n",
       "      <td>1365.0</td>\n",
       "      <td>849.0</td>\n",
       "      <td>NaN</td>\n",
       "      <td>NaN</td>\n",
       "      <td>1/1/2013 9:00</td>\n",
       "      <td>NaN</td>\n",
       "      <td>0</td>\n",
       "      <td>0</td>\n",
       "      <td>1/1/2013 7:53</td>\n",
       "      <td>12.845653</td>\n",
       "      <td>77.677925</td>\n",
       "      <td>12.954340</td>\n",
       "      <td>77.600720</td>\n",
       "      <td>0</td>\n",
       "      <td>1.0</td>\n",
       "    </tr>\n",
       "  </tbody>\n",
       "</table>\n",
       "</div>"
      ],
      "text/plain": [
       "       id  user_id  vehicle_model_id  package_id  travel_type_id  \\\n",
       "0  132512    22177                28         NaN               2   \n",
       "1  132513    21413                12         NaN               2   \n",
       "2  132514    22178                12         NaN               2   \n",
       "3  132515    13034                12         NaN               2   \n",
       "4  132517    22180                12         NaN               2   \n",
       "\n",
       "   from_area_id  to_area_id  from_city_id  to_city_id      from_date  to_date  \\\n",
       "0          83.0       448.0           NaN         NaN  1/1/2013 2:00      NaN   \n",
       "1        1010.0       540.0           NaN         NaN  1/1/2013 9:00      NaN   \n",
       "2        1301.0      1034.0           NaN         NaN  1/1/2013 3:30      NaN   \n",
       "3         768.0       398.0           NaN         NaN  1/1/2013 5:45      NaN   \n",
       "4        1365.0       849.0           NaN         NaN  1/1/2013 9:00      NaN   \n",
       "\n",
       "   online_booking  mobile_site_booking booking_created   from_lat  from_long  \\\n",
       "0               0                    0   1/1/2013 1:39  12.924150  77.672290   \n",
       "1               0                    0   1/1/2013 2:25  12.966910  77.749350   \n",
       "2               0                    0   1/1/2013 3:08  12.937222  77.626915   \n",
       "3               0                    0   1/1/2013 4:39  12.989990  77.553320   \n",
       "4               0                    0   1/1/2013 7:53  12.845653  77.677925   \n",
       "\n",
       "      to_lat    to_long  Car_Cancellation  Cost_of_error  \n",
       "0  12.927320  77.635750                 0            1.0  \n",
       "1  12.927680  77.626640                 0            1.0  \n",
       "2  13.047926  77.597766                 0            1.0  \n",
       "3  12.971430  77.639140                 0            1.0  \n",
       "4  12.954340  77.600720                 0            1.0  "
      ]
     },
     "execution_count": 5,
     "metadata": {},
     "output_type": "execute_result"
    }
   ],
   "source": [
    "df.head()"
   ]
  },
  {
   "cell_type": "code",
   "execution_count": 6,
   "id": "ff5021b0",
   "metadata": {
    "execution": {
     "iopub.execute_input": "2022-03-14T19:35:43.628146Z",
     "iopub.status.busy": "2022-03-14T19:35:43.627424Z",
     "iopub.status.idle": "2022-03-14T19:35:43.630413Z",
     "shell.execute_reply": "2022-03-14T19:35:43.629973Z",
     "shell.execute_reply.started": "2022-03-14T19:25:28.180118Z"
    },
    "papermill": {
     "duration": 0.067263,
     "end_time": "2022-03-14T19:35:43.630553",
     "exception": false,
     "start_time": "2022-03-14T19:35:43.563290",
     "status": "completed"
    },
    "tags": []
   },
   "outputs": [
    {
     "data": {
      "text/plain": [
       "(43431, 20)"
      ]
     },
     "execution_count": 6,
     "metadata": {},
     "output_type": "execute_result"
    }
   ],
   "source": [
    "df.shape"
   ]
  },
  {
   "cell_type": "code",
   "execution_count": 7,
   "id": "8e91e0f0",
   "metadata": {
    "execution": {
     "iopub.execute_input": "2022-03-14T19:35:43.757269Z",
     "iopub.status.busy": "2022-03-14T19:35:43.756512Z",
     "iopub.status.idle": "2022-03-14T19:35:43.773179Z",
     "shell.execute_reply": "2022-03-14T19:35:43.772516Z",
     "shell.execute_reply.started": "2022-03-14T19:25:28.189763Z"
    },
    "papermill": {
     "duration": 0.080944,
     "end_time": "2022-03-14T19:35:43.773321",
     "exception": false,
     "start_time": "2022-03-14T19:35:43.692377",
     "status": "completed"
    },
    "tags": []
   },
   "outputs": [],
   "source": [
    "data = df.drop(['Car_Cancellation', 'Cost_of_error'], axis=1)\n",
    "target = df[['Car_Cancellation']]"
   ]
  },
  {
   "cell_type": "code",
   "execution_count": 8,
   "id": "2354a703",
   "metadata": {
    "execution": {
     "iopub.execute_input": "2022-03-14T19:35:43.904258Z",
     "iopub.status.busy": "2022-03-14T19:35:43.903572Z",
     "iopub.status.idle": "2022-03-14T19:35:43.928582Z",
     "shell.execute_reply": "2022-03-14T19:35:43.927948Z",
     "shell.execute_reply.started": "2022-03-14T19:25:28.211396Z"
    },
    "papermill": {
     "duration": 0.091008,
     "end_time": "2022-03-14T19:35:43.928729",
     "exception": false,
     "start_time": "2022-03-14T19:35:43.837721",
     "status": "completed"
    },
    "tags": []
   },
   "outputs": [
    {
     "name": "stdout",
     "output_type": "stream",
     "text": [
      "<class 'pandas.core.frame.DataFrame'>\n",
      "RangeIndex: 43431 entries, 0 to 43430\n",
      "Data columns (total 18 columns):\n",
      " #   Column               Non-Null Count  Dtype  \n",
      "---  ------               --------------  -----  \n",
      " 0   id                   43431 non-null  int64  \n",
      " 1   user_id              43431 non-null  int64  \n",
      " 2   vehicle_model_id     43431 non-null  int64  \n",
      " 3   package_id           7550 non-null   float64\n",
      " 4   travel_type_id       43431 non-null  int64  \n",
      " 5   from_area_id         43343 non-null  float64\n",
      " 6   to_area_id           34293 non-null  float64\n",
      " 7   from_city_id         16345 non-null  float64\n",
      " 8   to_city_id           1588 non-null   float64\n",
      " 9   from_date            43431 non-null  object \n",
      " 10  to_date              25541 non-null  float64\n",
      " 11  online_booking       43431 non-null  int64  \n",
      " 12  mobile_site_booking  43431 non-null  int64  \n",
      " 13  booking_created      43431 non-null  object \n",
      " 14  from_lat             43338 non-null  float64\n",
      " 15  from_long            43338 non-null  float64\n",
      " 16  to_lat               34293 non-null  float64\n",
      " 17  to_long              34293 non-null  float64\n",
      "dtypes: float64(10), int64(6), object(2)\n",
      "memory usage: 6.0+ MB\n"
     ]
    }
   ],
   "source": [
    "data.info()"
   ]
  },
  {
   "cell_type": "markdown",
   "id": "d26442b6",
   "metadata": {
    "papermill": {
     "duration": 0.06235,
     "end_time": "2022-03-14T19:35:44.052982",
     "exception": false,
     "start_time": "2022-03-14T19:35:43.990632",
     "status": "completed"
    },
    "tags": []
   },
   "source": [
    "## Checking for Missing Values"
   ]
  },
  {
   "cell_type": "code",
   "execution_count": 9,
   "id": "49bb44e0",
   "metadata": {
    "execution": {
     "iopub.execute_input": "2022-03-14T19:35:44.185382Z",
     "iopub.status.busy": "2022-03-14T19:35:44.184767Z",
     "iopub.status.idle": "2022-03-14T19:35:44.195985Z",
     "shell.execute_reply": "2022-03-14T19:35:44.196396Z",
     "shell.execute_reply.started": "2022-03-14T19:25:28.251031Z"
    },
    "papermill": {
     "duration": 0.077664,
     "end_time": "2022-03-14T19:35:44.196564",
     "exception": false,
     "start_time": "2022-03-14T19:35:44.118900",
     "status": "completed"
    },
    "tags": []
   },
   "outputs": [
    {
     "data": {
      "text/plain": [
       "id                     0.000000\n",
       "user_id                0.000000\n",
       "vehicle_model_id       0.000000\n",
       "package_id             0.826161\n",
       "travel_type_id         0.000000\n",
       "from_area_id           0.002026\n",
       "to_area_id             0.210403\n",
       "from_city_id           0.623656\n",
       "to_city_id             0.963436\n",
       "from_date              0.000000\n",
       "to_date                0.411918\n",
       "online_booking         0.000000\n",
       "mobile_site_booking    0.000000\n",
       "booking_created        0.000000\n",
       "from_lat               0.002141\n",
       "from_long              0.002141\n",
       "to_lat                 0.210403\n",
       "to_long                0.210403\n",
       "dtype: float64"
      ]
     },
     "execution_count": 9,
     "metadata": {},
     "output_type": "execute_result"
    }
   ],
   "source": [
    "data.isnull().mean()"
   ]
  },
  {
   "cell_type": "markdown",
   "id": "5d13035d",
   "metadata": {
    "papermill": {
     "duration": 0.061703,
     "end_time": "2022-03-14T19:35:44.320095",
     "exception": false,
     "start_time": "2022-03-14T19:35:44.258392",
     "status": "completed"
    },
    "tags": []
   },
   "source": [
    "## Data Cleaning"
   ]
  },
  {
   "cell_type": "code",
   "execution_count": 10,
   "id": "92b5b7af",
   "metadata": {
    "execution": {
     "iopub.execute_input": "2022-03-14T19:35:44.448947Z",
     "iopub.status.busy": "2022-03-14T19:35:44.448266Z",
     "iopub.status.idle": "2022-03-14T19:35:44.455049Z",
     "shell.execute_reply": "2022-03-14T19:35:44.455488Z",
     "shell.execute_reply.started": "2022-03-14T19:25:28.273977Z"
    },
    "papermill": {
     "duration": 0.073611,
     "end_time": "2022-03-14T19:35:44.455668",
     "exception": false,
     "start_time": "2022-03-14T19:35:44.382057",
     "status": "completed"
    },
    "tags": []
   },
   "outputs": [],
   "source": [
    "data=data.drop(['id','user_id','package_id','to_area_id','from_city_id','to_city_id','to_date'],axis=1)"
   ]
  },
  {
   "cell_type": "code",
   "execution_count": 11,
   "id": "fb45924b",
   "metadata": {
    "execution": {
     "iopub.execute_input": "2022-03-14T19:35:44.581292Z",
     "iopub.status.busy": "2022-03-14T19:35:44.580609Z",
     "iopub.status.idle": "2022-03-14T19:35:44.585198Z",
     "shell.execute_reply": "2022-03-14T19:35:44.585721Z",
     "shell.execute_reply.started": "2022-03-14T19:25:28.286419Z"
    },
    "papermill": {
     "duration": 0.068874,
     "end_time": "2022-03-14T19:35:44.585914",
     "exception": false,
     "start_time": "2022-03-14T19:35:44.517040",
     "status": "completed"
    },
    "tags": []
   },
   "outputs": [
    {
     "data": {
      "text/plain": [
       "(43431, 11)"
      ]
     },
     "execution_count": 11,
     "metadata": {},
     "output_type": "execute_result"
    }
   ],
   "source": [
    "data.shape"
   ]
  },
  {
   "cell_type": "code",
   "execution_count": 12,
   "id": "898d7a6c",
   "metadata": {
    "execution": {
     "iopub.execute_input": "2022-03-14T19:35:44.713095Z",
     "iopub.status.busy": "2022-03-14T19:35:44.712452Z",
     "iopub.status.idle": "2022-03-14T19:35:44.722425Z",
     "shell.execute_reply": "2022-03-14T19:35:44.723335Z",
     "shell.execute_reply.started": "2022-03-14T19:25:28.307024Z"
    },
    "papermill": {
     "duration": 0.074985,
     "end_time": "2022-03-14T19:35:44.723589",
     "exception": false,
     "start_time": "2022-03-14T19:35:44.648604",
     "status": "completed"
    },
    "tags": []
   },
   "outputs": [
    {
     "data": {
      "text/plain": [
       "12    73.355437\n",
       "85     5.542124\n",
       "89     5.505284\n",
       "65     4.402385\n",
       "28     3.918860\n",
       "24     3.439939\n",
       "87     1.300914\n",
       "90     0.718381\n",
       "23     0.683843\n",
       "86     0.283208\n",
       "10     0.239460\n",
       "64     0.195713\n",
       "54     0.168083\n",
       "17     0.092100\n",
       "91     0.057563\n",
       "30     0.032235\n",
       "36     0.020723\n",
       "13     0.016118\n",
       "72     0.004605\n",
       "1      0.004605\n",
       "43     0.004605\n",
       "14     0.002303\n",
       "69     0.002303\n",
       "76     0.002303\n",
       "75     0.002303\n",
       "70     0.002303\n",
       "39     0.002303\n",
       "Name: vehicle_model_id, dtype: float64"
      ]
     },
     "execution_count": 12,
     "metadata": {},
     "output_type": "execute_result"
    }
   ],
   "source": [
    "data['vehicle_model_id'].value_counts(normalize=True)*100\n",
    "\n",
    "#so as we can see 12 is covering for 73% of the entire column of vehicle_model_id"
   ]
  },
  {
   "cell_type": "code",
   "execution_count": 13,
   "id": "f9653523",
   "metadata": {
    "execution": {
     "iopub.execute_input": "2022-03-14T19:35:44.914344Z",
     "iopub.status.busy": "2022-03-14T19:35:44.913695Z",
     "iopub.status.idle": "2022-03-14T19:35:44.921540Z",
     "shell.execute_reply": "2022-03-14T19:35:44.922256Z",
     "shell.execute_reply.started": "2022-03-14T19:25:28.330137Z"
    },
    "papermill": {
     "duration": 0.102202,
     "end_time": "2022-03-14T19:35:44.922428",
     "exception": false,
     "start_time": "2022-03-14T19:35:44.820226",
     "status": "completed"
    },
    "tags": []
   },
   "outputs": [],
   "source": [
    "data=data.drop(['vehicle_model_id'],axis=1) #Dropping as single value has more percentage"
   ]
  },
  {
   "cell_type": "code",
   "execution_count": 14,
   "id": "b52aa15f",
   "metadata": {
    "execution": {
     "iopub.execute_input": "2022-03-14T19:35:45.066079Z",
     "iopub.status.busy": "2022-03-14T19:35:45.065468Z",
     "iopub.status.idle": "2022-03-14T19:35:45.082983Z",
     "shell.execute_reply": "2022-03-14T19:35:45.083985Z",
     "shell.execute_reply.started": "2022-03-14T19:25:28.342691Z"
    },
    "papermill": {
     "duration": 0.096568,
     "end_time": "2022-03-14T19:35:45.084234",
     "exception": false,
     "start_time": "2022-03-14T19:35:44.987666",
     "status": "completed"
    },
    "tags": []
   },
   "outputs": [
    {
     "data": {
      "text/html": [
       "<div>\n",
       "<style scoped>\n",
       "    .dataframe tbody tr th:only-of-type {\n",
       "        vertical-align: middle;\n",
       "    }\n",
       "\n",
       "    .dataframe tbody tr th {\n",
       "        vertical-align: top;\n",
       "    }\n",
       "\n",
       "    .dataframe thead th {\n",
       "        text-align: right;\n",
       "    }\n",
       "</style>\n",
       "<table border=\"1\" class=\"dataframe\">\n",
       "  <thead>\n",
       "    <tr style=\"text-align: right;\">\n",
       "      <th></th>\n",
       "      <th>travel_type_id</th>\n",
       "      <th>from_area_id</th>\n",
       "      <th>from_date</th>\n",
       "      <th>online_booking</th>\n",
       "      <th>mobile_site_booking</th>\n",
       "      <th>booking_created</th>\n",
       "      <th>from_lat</th>\n",
       "      <th>from_long</th>\n",
       "      <th>to_lat</th>\n",
       "      <th>to_long</th>\n",
       "    </tr>\n",
       "  </thead>\n",
       "  <tbody>\n",
       "    <tr>\n",
       "      <th>0</th>\n",
       "      <td>2</td>\n",
       "      <td>83.0</td>\n",
       "      <td>1/1/2013 2:00</td>\n",
       "      <td>0</td>\n",
       "      <td>0</td>\n",
       "      <td>1/1/2013 1:39</td>\n",
       "      <td>12.924150</td>\n",
       "      <td>77.672290</td>\n",
       "      <td>12.927320</td>\n",
       "      <td>77.635750</td>\n",
       "    </tr>\n",
       "    <tr>\n",
       "      <th>1</th>\n",
       "      <td>2</td>\n",
       "      <td>1010.0</td>\n",
       "      <td>1/1/2013 9:00</td>\n",
       "      <td>0</td>\n",
       "      <td>0</td>\n",
       "      <td>1/1/2013 2:25</td>\n",
       "      <td>12.966910</td>\n",
       "      <td>77.749350</td>\n",
       "      <td>12.927680</td>\n",
       "      <td>77.626640</td>\n",
       "    </tr>\n",
       "    <tr>\n",
       "      <th>2</th>\n",
       "      <td>2</td>\n",
       "      <td>1301.0</td>\n",
       "      <td>1/1/2013 3:30</td>\n",
       "      <td>0</td>\n",
       "      <td>0</td>\n",
       "      <td>1/1/2013 3:08</td>\n",
       "      <td>12.937222</td>\n",
       "      <td>77.626915</td>\n",
       "      <td>13.047926</td>\n",
       "      <td>77.597766</td>\n",
       "    </tr>\n",
       "    <tr>\n",
       "      <th>3</th>\n",
       "      <td>2</td>\n",
       "      <td>768.0</td>\n",
       "      <td>1/1/2013 5:45</td>\n",
       "      <td>0</td>\n",
       "      <td>0</td>\n",
       "      <td>1/1/2013 4:39</td>\n",
       "      <td>12.989990</td>\n",
       "      <td>77.553320</td>\n",
       "      <td>12.971430</td>\n",
       "      <td>77.639140</td>\n",
       "    </tr>\n",
       "    <tr>\n",
       "      <th>4</th>\n",
       "      <td>2</td>\n",
       "      <td>1365.0</td>\n",
       "      <td>1/1/2013 9:00</td>\n",
       "      <td>0</td>\n",
       "      <td>0</td>\n",
       "      <td>1/1/2013 7:53</td>\n",
       "      <td>12.845653</td>\n",
       "      <td>77.677925</td>\n",
       "      <td>12.954340</td>\n",
       "      <td>77.600720</td>\n",
       "    </tr>\n",
       "  </tbody>\n",
       "</table>\n",
       "</div>"
      ],
      "text/plain": [
       "   travel_type_id  from_area_id      from_date  online_booking  \\\n",
       "0               2          83.0  1/1/2013 2:00               0   \n",
       "1               2        1010.0  1/1/2013 9:00               0   \n",
       "2               2        1301.0  1/1/2013 3:30               0   \n",
       "3               2         768.0  1/1/2013 5:45               0   \n",
       "4               2        1365.0  1/1/2013 9:00               0   \n",
       "\n",
       "   mobile_site_booking booking_created   from_lat  from_long     to_lat  \\\n",
       "0                    0   1/1/2013 1:39  12.924150  77.672290  12.927320   \n",
       "1                    0   1/1/2013 2:25  12.966910  77.749350  12.927680   \n",
       "2                    0   1/1/2013 3:08  12.937222  77.626915  13.047926   \n",
       "3                    0   1/1/2013 4:39  12.989990  77.553320  12.971430   \n",
       "4                    0   1/1/2013 7:53  12.845653  77.677925  12.954340   \n",
       "\n",
       "     to_long  \n",
       "0  77.635750  \n",
       "1  77.626640  \n",
       "2  77.597766  \n",
       "3  77.639140  \n",
       "4  77.600720  "
      ]
     },
     "execution_count": 14,
     "metadata": {},
     "output_type": "execute_result"
    }
   ],
   "source": [
    "data.head()"
   ]
  },
  {
   "cell_type": "markdown",
   "id": "38508ddb",
   "metadata": {
    "papermill": {
     "duration": 0.061768,
     "end_time": "2022-03-14T19:35:45.221606",
     "exception": false,
     "start_time": "2022-03-14T19:35:45.159838",
     "status": "completed"
    },
    "tags": []
   },
   "source": [
    "## Data Transformation"
   ]
  },
  {
   "cell_type": "code",
   "execution_count": 15,
   "id": "aba477b2",
   "metadata": {
    "execution": {
     "iopub.execute_input": "2022-03-14T19:35:45.351408Z",
     "iopub.status.busy": "2022-03-14T19:35:45.350431Z",
     "iopub.status.idle": "2022-03-14T19:35:45.362141Z",
     "shell.execute_reply": "2022-03-14T19:35:45.361342Z",
     "shell.execute_reply.started": "2022-03-14T19:25:28.371600Z"
    },
    "papermill": {
     "duration": 0.078052,
     "end_time": "2022-03-14T19:35:45.362338",
     "exception": false,
     "start_time": "2022-03-14T19:35:45.284286",
     "status": "completed"
    },
    "tags": []
   },
   "outputs": [
    {
     "name": "stdout",
     "output_type": "stream",
     "text": [
      "1044.0\n",
      "12.968887\n",
      "77.63575\n"
     ]
    }
   ],
   "source": [
    "print(data[data['from_lat'] == data['from_lat'].median()]['from_area_id'].max())\n",
    "print(data['from_lat'].median())\n",
    "print(data['from_long'].median())"
   ]
  },
  {
   "cell_type": "code",
   "execution_count": 16,
   "id": "9422f71a",
   "metadata": {
    "execution": {
     "iopub.execute_input": "2022-03-14T19:35:45.503778Z",
     "iopub.status.busy": "2022-03-14T19:35:45.502843Z",
     "iopub.status.idle": "2022-03-14T19:35:45.510159Z",
     "shell.execute_reply": "2022-03-14T19:35:45.510868Z",
     "shell.execute_reply.started": "2022-03-14T19:25:28.391067Z"
    },
    "papermill": {
     "duration": 0.076172,
     "end_time": "2022-03-14T19:35:45.511092",
     "exception": false,
     "start_time": "2022-03-14T19:35:45.434920",
     "status": "completed"
    },
    "tags": []
   },
   "outputs": [
    {
     "data": {
      "text/plain": [
       "276      1044.0\n",
       "277      1044.0\n",
       "1517     1044.0\n",
       "1668     1044.0\n",
       "3057     1044.0\n",
       "3628     1044.0\n",
       "3826     1044.0\n",
       "4255     1044.0\n",
       "4365     1044.0\n",
       "4619     1044.0\n",
       "4832     1044.0\n",
       "4988     1044.0\n",
       "5179     1044.0\n",
       "7284     1044.0\n",
       "7518     1044.0\n",
       "7694     1044.0\n",
       "8054     1044.0\n",
       "8302     1044.0\n",
       "8401     1044.0\n",
       "10858    1044.0\n",
       "11199    1044.0\n",
       "11202    1044.0\n",
       "11244    1044.0\n",
       "14469    1044.0\n",
       "15858    1044.0\n",
       "15995    1044.0\n",
       "16915    1044.0\n",
       "16916    1044.0\n",
       "17959    1044.0\n",
       "18429    1044.0\n",
       "18658    1044.0\n",
       "21592    1044.0\n",
       "22055    1044.0\n",
       "25121    1044.0\n",
       "26336    1044.0\n",
       "29975    1044.0\n",
       "32812    1044.0\n",
       "35767    1044.0\n",
       "36869    1044.0\n",
       "37378    1044.0\n",
       "39314    1044.0\n",
       "40148    1044.0\n",
       "Name: from_area_id, dtype: float64"
      ]
     },
     "execution_count": 16,
     "metadata": {},
     "output_type": "execute_result"
    }
   ],
   "source": [
    "data[data['from_lat'] == data['from_lat'].median()]['from_area_id']"
   ]
  },
  {
   "cell_type": "code",
   "execution_count": 17,
   "id": "efbf8b14",
   "metadata": {
    "execution": {
     "iopub.execute_input": "2022-03-14T19:35:45.652460Z",
     "iopub.status.busy": "2022-03-14T19:35:45.651500Z",
     "iopub.status.idle": "2022-03-14T19:35:45.656747Z",
     "shell.execute_reply": "2022-03-14T19:35:45.657261Z",
     "shell.execute_reply.started": "2022-03-14T19:25:28.409804Z"
    },
    "papermill": {
     "duration": 0.074181,
     "end_time": "2022-03-14T19:35:45.657438",
     "exception": false,
     "start_time": "2022-03-14T19:35:45.583257",
     "status": "completed"
    },
    "tags": []
   },
   "outputs": [
    {
     "data": {
      "text/plain": [
       "(42, 10)"
      ]
     },
     "execution_count": 17,
     "metadata": {},
     "output_type": "execute_result"
    }
   ],
   "source": [
    "data[data['from_lat'] == data['from_lat'].median()].shape"
   ]
  },
  {
   "cell_type": "markdown",
   "id": "dd813be0",
   "metadata": {
    "papermill": {
     "duration": 0.064275,
     "end_time": "2022-03-14T19:35:45.785780",
     "exception": false,
     "start_time": "2022-03-14T19:35:45.721505",
     "status": "completed"
    },
    "tags": []
   },
   "source": [
    "## Fill missing values"
   ]
  },
  {
   "cell_type": "code",
   "execution_count": 18,
   "id": "8a16e69c",
   "metadata": {
    "execution": {
     "iopub.execute_input": "2022-03-14T19:35:45.916848Z",
     "iopub.status.busy": "2022-03-14T19:35:45.914772Z",
     "iopub.status.idle": "2022-03-14T19:35:45.921136Z",
     "shell.execute_reply": "2022-03-14T19:35:45.921546Z",
     "shell.execute_reply.started": "2022-03-14T19:25:28.421913Z"
    },
    "papermill": {
     "duration": 0.07232,
     "end_time": "2022-03-14T19:35:45.921718",
     "exception": false,
     "start_time": "2022-03-14T19:35:45.849398",
     "status": "completed"
    },
    "tags": []
   },
   "outputs": [],
   "source": [
    "data['from_lat'].fillna(data['from_lat'].median(), inplace=True)\n",
    "data['from_long'].fillna(data['from_long'].median(), inplace=True)"
   ]
  },
  {
   "cell_type": "code",
   "execution_count": 19,
   "id": "794dd63c",
   "metadata": {
    "execution": {
     "iopub.execute_input": "2022-03-14T19:35:46.054573Z",
     "iopub.status.busy": "2022-03-14T19:35:46.053931Z",
     "iopub.status.idle": "2022-03-14T19:35:46.070300Z",
     "shell.execute_reply": "2022-03-14T19:35:46.069721Z",
     "shell.execute_reply.started": "2022-03-14T19:25:28.435280Z"
    },
    "papermill": {
     "duration": 0.08534,
     "end_time": "2022-03-14T19:35:46.070444",
     "exception": false,
     "start_time": "2022-03-14T19:35:45.985104",
     "status": "completed"
    },
    "scrolled": true,
    "tags": []
   },
   "outputs": [
    {
     "name": "stdout",
     "output_type": "stream",
     "text": [
      "<class 'pandas.core.frame.DataFrame'>\n",
      "RangeIndex: 43431 entries, 0 to 43430\n",
      "Data columns (total 10 columns):\n",
      " #   Column               Non-Null Count  Dtype  \n",
      "---  ------               --------------  -----  \n",
      " 0   travel_type_id       43431 non-null  int64  \n",
      " 1   from_area_id         43343 non-null  float64\n",
      " 2   from_date            43431 non-null  object \n",
      " 3   online_booking       43431 non-null  int64  \n",
      " 4   mobile_site_booking  43431 non-null  int64  \n",
      " 5   booking_created      43431 non-null  object \n",
      " 6   from_lat             43431 non-null  float64\n",
      " 7   from_long            43431 non-null  float64\n",
      " 8   to_lat               34293 non-null  float64\n",
      " 9   to_long              34293 non-null  float64\n",
      "dtypes: float64(5), int64(3), object(2)\n",
      "memory usage: 3.3+ MB\n"
     ]
    }
   ],
   "source": [
    "data.info()"
   ]
  },
  {
   "cell_type": "code",
   "execution_count": 20,
   "id": "f27f65e3",
   "metadata": {
    "execution": {
     "iopub.execute_input": "2022-03-14T19:35:46.202969Z",
     "iopub.status.busy": "2022-03-14T19:35:46.202358Z",
     "iopub.status.idle": "2022-03-14T19:35:46.208470Z",
     "shell.execute_reply": "2022-03-14T19:35:46.208969Z",
     "shell.execute_reply.started": "2022-03-14T19:25:28.470517Z"
    },
    "papermill": {
     "duration": 0.07345,
     "end_time": "2022-03-14T19:35:46.209138",
     "exception": false,
     "start_time": "2022-03-14T19:35:46.135688",
     "status": "completed"
    },
    "tags": []
   },
   "outputs": [],
   "source": [
    "data['from_area_id'].fillna(data[data['from_lat'] == data['from_lat'].median()]['from_area_id'].max(), inplace=True)"
   ]
  },
  {
   "cell_type": "code",
   "execution_count": 21,
   "id": "6da1732c",
   "metadata": {
    "execution": {
     "iopub.execute_input": "2022-03-14T19:35:46.340538Z",
     "iopub.status.busy": "2022-03-14T19:35:46.339921Z",
     "iopub.status.idle": "2022-03-14T19:35:46.351834Z",
     "shell.execute_reply": "2022-03-14T19:35:46.351145Z",
     "shell.execute_reply.started": "2022-03-14T19:25:28.481045Z"
    },
    "papermill": {
     "duration": 0.079017,
     "end_time": "2022-03-14T19:35:46.351988",
     "exception": false,
     "start_time": "2022-03-14T19:35:46.272971",
     "status": "completed"
    },
    "tags": []
   },
   "outputs": [],
   "source": [
    "data['to_lat'].fillna(df.groupby('from_area_id')['to_lat'].transform('median'), inplace=True)\n",
    "#Fill null with median for Continuous data and mode for Discrete data\n",
    "#filling na values of to_lat with median of each group where the group is formed based on from_area_id"
   ]
  },
  {
   "cell_type": "code",
   "execution_count": 22,
   "id": "c3c9cce7",
   "metadata": {
    "execution": {
     "iopub.execute_input": "2022-03-14T19:35:46.483166Z",
     "iopub.status.busy": "2022-03-14T19:35:46.482507Z",
     "iopub.status.idle": "2022-03-14T19:35:46.491761Z",
     "shell.execute_reply": "2022-03-14T19:35:46.491236Z",
     "shell.execute_reply.started": "2022-03-14T19:25:28.498757Z"
    },
    "papermill": {
     "duration": 0.07638,
     "end_time": "2022-03-14T19:35:46.491931",
     "exception": false,
     "start_time": "2022-03-14T19:35:46.415551",
     "status": "completed"
    },
    "tags": []
   },
   "outputs": [],
   "source": [
    "data['to_long'] = data['to_long'].fillna(df.groupby('from_area_id')['to_long'].transform('median'))\n",
    "#filling na values of to_long with median of each group where the group is formed based on from_area_id"
   ]
  },
  {
   "cell_type": "code",
   "execution_count": 23,
   "id": "92e019c8",
   "metadata": {
    "execution": {
     "iopub.execute_input": "2022-03-14T19:35:46.627712Z",
     "iopub.status.busy": "2022-03-14T19:35:46.627054Z",
     "iopub.status.idle": "2022-03-14T19:35:46.641517Z",
     "shell.execute_reply": "2022-03-14T19:35:46.641991Z",
     "shell.execute_reply.started": "2022-03-14T19:25:28.515250Z"
    },
    "papermill": {
     "duration": 0.085878,
     "end_time": "2022-03-14T19:35:46.642162",
     "exception": false,
     "start_time": "2022-03-14T19:35:46.556284",
     "status": "completed"
    },
    "tags": []
   },
   "outputs": [
    {
     "name": "stdout",
     "output_type": "stream",
     "text": [
      "<class 'pandas.core.frame.DataFrame'>\n",
      "RangeIndex: 43431 entries, 0 to 43430\n",
      "Data columns (total 10 columns):\n",
      " #   Column               Non-Null Count  Dtype  \n",
      "---  ------               --------------  -----  \n",
      " 0   travel_type_id       43431 non-null  int64  \n",
      " 1   from_area_id         43431 non-null  float64\n",
      " 2   from_date            43431 non-null  object \n",
      " 3   online_booking       43431 non-null  int64  \n",
      " 4   mobile_site_booking  43431 non-null  int64  \n",
      " 5   booking_created      43431 non-null  object \n",
      " 6   from_lat             43431 non-null  float64\n",
      " 7   from_long            43431 non-null  float64\n",
      " 8   to_lat               43326 non-null  float64\n",
      " 9   to_long              43326 non-null  float64\n",
      "dtypes: float64(5), int64(3), object(2)\n",
      "memory usage: 3.3+ MB\n"
     ]
    }
   ],
   "source": [
    "data.info()"
   ]
  },
  {
   "cell_type": "code",
   "execution_count": 24,
   "id": "d493ebc5",
   "metadata": {
    "execution": {
     "iopub.execute_input": "2022-03-14T19:35:46.775601Z",
     "iopub.status.busy": "2022-03-14T19:35:46.774633Z",
     "iopub.status.idle": "2022-03-14T19:35:46.789370Z",
     "shell.execute_reply": "2022-03-14T19:35:46.789952Z",
     "shell.execute_reply.started": "2022-03-14T19:25:28.545904Z"
    },
    "papermill": {
     "duration": 0.083528,
     "end_time": "2022-03-14T19:35:46.790132",
     "exception": false,
     "start_time": "2022-03-14T19:35:46.706604",
     "status": "completed"
    },
    "tags": []
   },
   "outputs": [
    {
     "data": {
      "text/html": [
       "<div>\n",
       "<style scoped>\n",
       "    .dataframe tbody tr th:only-of-type {\n",
       "        vertical-align: middle;\n",
       "    }\n",
       "\n",
       "    .dataframe tbody tr th {\n",
       "        vertical-align: top;\n",
       "    }\n",
       "\n",
       "    .dataframe thead th {\n",
       "        text-align: right;\n",
       "    }\n",
       "</style>\n",
       "<table border=\"1\" class=\"dataframe\">\n",
       "  <thead>\n",
       "    <tr style=\"text-align: right;\">\n",
       "      <th></th>\n",
       "      <th>travel_type_id</th>\n",
       "      <th>from_area_id</th>\n",
       "      <th>from_date</th>\n",
       "      <th>online_booking</th>\n",
       "      <th>mobile_site_booking</th>\n",
       "      <th>booking_created</th>\n",
       "      <th>from_lat</th>\n",
       "      <th>from_long</th>\n",
       "      <th>to_lat</th>\n",
       "      <th>to_long</th>\n",
       "    </tr>\n",
       "  </thead>\n",
       "  <tbody>\n",
       "    <tr>\n",
       "      <th>2158</th>\n",
       "      <td>1</td>\n",
       "      <td>483.0</td>\n",
       "      <td>1/25/2013 6:00</td>\n",
       "      <td>1</td>\n",
       "      <td>0</td>\n",
       "      <td>1/24/2013 15:32</td>\n",
       "      <td>12.953020</td>\n",
       "      <td>77.56333</td>\n",
       "      <td>NaN</td>\n",
       "      <td>NaN</td>\n",
       "    </tr>\n",
       "    <tr>\n",
       "      <th>3945</th>\n",
       "      <td>1</td>\n",
       "      <td>1397.0</td>\n",
       "      <td>2/10/2013 16:30</td>\n",
       "      <td>1</td>\n",
       "      <td>0</td>\n",
       "      <td>2/10/2013 13:26</td>\n",
       "      <td>12.968887</td>\n",
       "      <td>77.63575</td>\n",
       "      <td>NaN</td>\n",
       "      <td>NaN</td>\n",
       "    </tr>\n",
       "    <tr>\n",
       "      <th>4912</th>\n",
       "      <td>1</td>\n",
       "      <td>1397.0</td>\n",
       "      <td>2/23/2013 6:30</td>\n",
       "      <td>1</td>\n",
       "      <td>0</td>\n",
       "      <td>2/19/2013 21:29</td>\n",
       "      <td>12.968887</td>\n",
       "      <td>77.63575</td>\n",
       "      <td>NaN</td>\n",
       "      <td>NaN</td>\n",
       "    </tr>\n",
       "    <tr>\n",
       "      <th>5144</th>\n",
       "      <td>1</td>\n",
       "      <td>1397.0</td>\n",
       "      <td>2/22/2013 13:30</td>\n",
       "      <td>1</td>\n",
       "      <td>0</td>\n",
       "      <td>2/22/2013 10:22</td>\n",
       "      <td>12.968887</td>\n",
       "      <td>77.63575</td>\n",
       "      <td>NaN</td>\n",
       "      <td>NaN</td>\n",
       "    </tr>\n",
       "    <tr>\n",
       "      <th>5970</th>\n",
       "      <td>1</td>\n",
       "      <td>1397.0</td>\n",
       "      <td>3/4/2013 7:00</td>\n",
       "      <td>0</td>\n",
       "      <td>0</td>\n",
       "      <td>3/2/2013 17:48</td>\n",
       "      <td>12.968887</td>\n",
       "      <td>77.63575</td>\n",
       "      <td>NaN</td>\n",
       "      <td>NaN</td>\n",
       "    </tr>\n",
       "  </tbody>\n",
       "</table>\n",
       "</div>"
      ],
      "text/plain": [
       "      travel_type_id  from_area_id        from_date  online_booking  \\\n",
       "2158               1         483.0   1/25/2013 6:00               1   \n",
       "3945               1        1397.0  2/10/2013 16:30               1   \n",
       "4912               1        1397.0   2/23/2013 6:30               1   \n",
       "5144               1        1397.0  2/22/2013 13:30               1   \n",
       "5970               1        1397.0    3/4/2013 7:00               0   \n",
       "\n",
       "      mobile_site_booking  booking_created   from_lat  from_long  to_lat  \\\n",
       "2158                    0  1/24/2013 15:32  12.953020   77.56333     NaN   \n",
       "3945                    0  2/10/2013 13:26  12.968887   77.63575     NaN   \n",
       "4912                    0  2/19/2013 21:29  12.968887   77.63575     NaN   \n",
       "5144                    0  2/22/2013 10:22  12.968887   77.63575     NaN   \n",
       "5970                    0   3/2/2013 17:48  12.968887   77.63575     NaN   \n",
       "\n",
       "      to_long  \n",
       "2158      NaN  \n",
       "3945      NaN  \n",
       "4912      NaN  \n",
       "5144      NaN  \n",
       "5970      NaN  "
      ]
     },
     "execution_count": 24,
     "metadata": {},
     "output_type": "execute_result"
    }
   ],
   "source": [
    "data[data['to_lat'].isnull()].head()"
   ]
  },
  {
   "cell_type": "code",
   "execution_count": 25,
   "id": "f21f09d5",
   "metadata": {
    "execution": {
     "iopub.execute_input": "2022-03-14T19:35:46.932785Z",
     "iopub.status.busy": "2022-03-14T19:35:46.925582Z",
     "iopub.status.idle": "2022-03-14T19:35:46.935746Z",
     "shell.execute_reply": "2022-03-14T19:35:46.936290Z",
     "shell.execute_reply.started": "2022-03-14T19:25:28.568510Z"
    },
    "papermill": {
     "duration": 0.079941,
     "end_time": "2022-03-14T19:35:46.936458",
     "exception": false,
     "start_time": "2022-03-14T19:35:46.856517",
     "status": "completed"
    },
    "tags": []
   },
   "outputs": [
    {
     "data": {
      "text/plain": [
       "1397.0    90\n",
       "1396.0     3\n",
       "173.0      2\n",
       "17.0       2\n",
       "483.0      1\n",
       "1215.0     1\n",
       "1265.0     1\n",
       "215.0      1\n",
       "1080.0     1\n",
       "802.0      1\n",
       "1164.0     1\n",
       "178.0      1\n",
       "Name: from_area_id, dtype: int64"
      ]
     },
     "execution_count": 25,
     "metadata": {},
     "output_type": "execute_result"
    }
   ],
   "source": [
    "data[data['to_lat'].isnull()]['from_area_id'].value_counts()"
   ]
  },
  {
   "cell_type": "code",
   "execution_count": 26,
   "id": "5ab0bd97",
   "metadata": {
    "execution": {
     "iopub.execute_input": "2022-03-14T19:35:47.076614Z",
     "iopub.status.busy": "2022-03-14T19:35:47.073984Z",
     "iopub.status.idle": "2022-03-14T19:35:47.081693Z",
     "shell.execute_reply": "2022-03-14T19:35:47.082293Z",
     "shell.execute_reply.started": "2022-03-14T19:25:28.580566Z"
    },
    "papermill": {
     "duration": 0.07772,
     "end_time": "2022-03-14T19:35:47.082473",
     "exception": false,
     "start_time": "2022-03-14T19:35:47.004753",
     "status": "completed"
    },
    "tags": []
   },
   "outputs": [],
   "source": [
    "data['to_lat'].fillna(data['to_lat'].median(), inplace=True)\n",
    "data['to_long'].fillna(data['to_long'].median(), inplace=True)"
   ]
  },
  {
   "cell_type": "code",
   "execution_count": 27,
   "id": "9927ab95",
   "metadata": {
    "execution": {
     "iopub.execute_input": "2022-03-14T19:35:47.217431Z",
     "iopub.status.busy": "2022-03-14T19:35:47.215283Z",
     "iopub.status.idle": "2022-03-14T19:35:47.231228Z",
     "shell.execute_reply": "2022-03-14T19:35:47.231716Z",
     "shell.execute_reply.started": "2022-03-14T19:25:28.597648Z"
    },
    "papermill": {
     "duration": 0.083934,
     "end_time": "2022-03-14T19:35:47.231912",
     "exception": false,
     "start_time": "2022-03-14T19:35:47.147978",
     "status": "completed"
    },
    "tags": []
   },
   "outputs": [
    {
     "name": "stdout",
     "output_type": "stream",
     "text": [
      "<class 'pandas.core.frame.DataFrame'>\n",
      "RangeIndex: 43431 entries, 0 to 43430\n",
      "Data columns (total 10 columns):\n",
      " #   Column               Non-Null Count  Dtype  \n",
      "---  ------               --------------  -----  \n",
      " 0   travel_type_id       43431 non-null  int64  \n",
      " 1   from_area_id         43431 non-null  float64\n",
      " 2   from_date            43431 non-null  object \n",
      " 3   online_booking       43431 non-null  int64  \n",
      " 4   mobile_site_booking  43431 non-null  int64  \n",
      " 5   booking_created      43431 non-null  object \n",
      " 6   from_lat             43431 non-null  float64\n",
      " 7   from_long            43431 non-null  float64\n",
      " 8   to_lat               43431 non-null  float64\n",
      " 9   to_long              43431 non-null  float64\n",
      "dtypes: float64(5), int64(3), object(2)\n",
      "memory usage: 3.3+ MB\n"
     ]
    }
   ],
   "source": [
    "data.info()"
   ]
  },
  {
   "cell_type": "markdown",
   "id": "ce1c5af5",
   "metadata": {
    "papermill": {
     "duration": 0.064719,
     "end_time": "2022-03-14T19:35:47.362019",
     "exception": false,
     "start_time": "2022-03-14T19:35:47.297300",
     "status": "completed"
    },
    "tags": []
   },
   "source": [
    "## Encoding"
   ]
  },
  {
   "cell_type": "code",
   "execution_count": 28,
   "id": "04922bd8",
   "metadata": {
    "execution": {
     "iopub.execute_input": "2022-03-14T19:35:47.496117Z",
     "iopub.status.busy": "2022-03-14T19:35:47.495495Z",
     "iopub.status.idle": "2022-03-14T19:35:47.504618Z",
     "shell.execute_reply": "2022-03-14T19:35:47.504070Z",
     "shell.execute_reply.started": "2022-03-14T19:25:28.626804Z"
    },
    "papermill": {
     "duration": 0.077475,
     "end_time": "2022-03-14T19:35:47.504754",
     "exception": false,
     "start_time": "2022-03-14T19:35:47.427279",
     "status": "completed"
    },
    "tags": []
   },
   "outputs": [],
   "source": [
    "traveltype = pd.get_dummies(data['travel_type_id'],drop_first=True)"
   ]
  },
  {
   "cell_type": "code",
   "execution_count": 29,
   "id": "ab0f967d",
   "metadata": {
    "execution": {
     "iopub.execute_input": "2022-03-14T19:35:47.638774Z",
     "iopub.status.busy": "2022-03-14T19:35:47.638081Z",
     "iopub.status.idle": "2022-03-14T19:35:47.651250Z",
     "shell.execute_reply": "2022-03-14T19:35:47.651707Z",
     "shell.execute_reply.started": "2022-03-14T19:25:28.635275Z"
    },
    "papermill": {
     "duration": 0.082291,
     "end_time": "2022-03-14T19:35:47.651913",
     "exception": false,
     "start_time": "2022-03-14T19:35:47.569622",
     "status": "completed"
    },
    "tags": []
   },
   "outputs": [],
   "source": [
    "data = pd.concat([data,traveltype],axis=1)\n",
    "data = data.drop(['travel_type_id'],axis=1)"
   ]
  },
  {
   "cell_type": "code",
   "execution_count": 30,
   "id": "d3b98483",
   "metadata": {
    "execution": {
     "iopub.execute_input": "2022-03-14T19:35:47.787507Z",
     "iopub.status.busy": "2022-03-14T19:35:47.786927Z",
     "iopub.status.idle": "2022-03-14T19:35:47.789659Z",
     "shell.execute_reply": "2022-03-14T19:35:47.789195Z",
     "shell.execute_reply.started": "2022-03-14T19:25:28.661121Z"
    },
    "papermill": {
     "duration": 0.072793,
     "end_time": "2022-03-14T19:35:47.789796",
     "exception": false,
     "start_time": "2022-03-14T19:35:47.717003",
     "status": "completed"
    },
    "tags": []
   },
   "outputs": [],
   "source": [
    "data.rename(columns={2:'traveltype_pointtopoint',3:'traveltype_hourly'},inplace=True)"
   ]
  },
  {
   "cell_type": "code",
   "execution_count": 31,
   "id": "7f8bb6ba",
   "metadata": {
    "execution": {
     "iopub.execute_input": "2022-03-14T19:35:47.924803Z",
     "iopub.status.busy": "2022-03-14T19:35:47.924098Z",
     "iopub.status.idle": "2022-03-14T19:35:47.925444Z",
     "shell.execute_reply": "2022-03-14T19:35:47.925930Z",
     "shell.execute_reply.started": "2022-03-14T19:25:28.670076Z"
    },
    "papermill": {
     "duration": 0.071966,
     "end_time": "2022-03-14T19:35:47.926098",
     "exception": false,
     "start_time": "2022-03-14T19:35:47.854132",
     "status": "completed"
    },
    "tags": []
   },
   "outputs": [],
   "source": [
    "def cal_distance(from_lat,from_long,to_lat,to_long):\n",
    "  return distance.distance((from_lat,from_long),(to_lat,to_long)).km"
   ]
  },
  {
   "cell_type": "code",
   "execution_count": 32,
   "id": "80ef2ef7",
   "metadata": {
    "execution": {
     "iopub.execute_input": "2022-03-14T19:35:48.062351Z",
     "iopub.status.busy": "2022-03-14T19:35:48.061696Z",
     "iopub.status.idle": "2022-03-14T19:35:57.810105Z",
     "shell.execute_reply": "2022-03-14T19:35:57.809318Z",
     "shell.execute_reply.started": "2022-03-14T19:25:28.682345Z"
    },
    "papermill": {
     "duration": 9.817857,
     "end_time": "2022-03-14T19:35:57.810261",
     "exception": false,
     "start_time": "2022-03-14T19:35:47.992404",
     "status": "completed"
    },
    "tags": []
   },
   "outputs": [],
   "source": [
    "data['distance'] = data.apply(lambda row: cal_distance(row['from_lat'],row['from_long'],row['to_lat'],row['to_long']),axis=1)"
   ]
  },
  {
   "cell_type": "code",
   "execution_count": 33,
   "id": "1ee368c4",
   "metadata": {
    "execution": {
     "iopub.execute_input": "2022-03-14T19:35:57.947594Z",
     "iopub.status.busy": "2022-03-14T19:35:57.946948Z",
     "iopub.status.idle": "2022-03-14T19:35:57.952836Z",
     "shell.execute_reply": "2022-03-14T19:35:57.953570Z",
     "shell.execute_reply.started": "2022-03-14T19:25:41.935441Z"
    },
    "papermill": {
     "duration": 0.077156,
     "end_time": "2022-03-14T19:35:57.953760",
     "exception": false,
     "start_time": "2022-03-14T19:35:57.876604",
     "status": "completed"
    },
    "tags": []
   },
   "outputs": [],
   "source": [
    "data = data.drop(['from_lat','from_long','to_lat','to_long'],axis=1)"
   ]
  },
  {
   "cell_type": "markdown",
   "id": "b11eff13",
   "metadata": {
    "papermill": {
     "duration": 0.067021,
     "end_time": "2022-03-14T19:35:58.086435",
     "exception": false,
     "start_time": "2022-03-14T19:35:58.019414",
     "status": "completed"
    },
    "tags": []
   },
   "source": [
    "## Extracting date and time from timestamp"
   ]
  },
  {
   "cell_type": "code",
   "execution_count": 34,
   "id": "75556c20",
   "metadata": {
    "execution": {
     "iopub.execute_input": "2022-03-14T19:35:58.223498Z",
     "iopub.status.busy": "2022-03-14T19:35:58.222806Z",
     "iopub.status.idle": "2022-03-14T19:36:09.615378Z",
     "shell.execute_reply": "2022-03-14T19:36:09.615925Z",
     "shell.execute_reply.started": "2022-03-14T19:25:41.949462Z"
    },
    "papermill": {
     "duration": 11.462084,
     "end_time": "2022-03-14T19:36:09.616112",
     "exception": false,
     "start_time": "2022-03-14T19:35:58.154028",
     "status": "completed"
    },
    "tags": []
   },
   "outputs": [],
   "source": [
    "data['from_date_dt'] = pd.to_datetime(data['from_date']).dt.strftime('%m/%d/%Y')\n",
    "data['from_time_tm'] = pd.to_datetime(data['from_date']).dt.strftime('%H:%M')\n",
    "data['booking_created_dt'] = pd.to_datetime(data['booking_created']).dt.strftime('%m/%d/%Y')\n",
    "data['booking_created_tm'] = pd.to_datetime(data['booking_created']).dt.strftime('%H:%M')"
   ]
  },
  {
   "cell_type": "code",
   "execution_count": 35,
   "id": "f0afd440",
   "metadata": {
    "execution": {
     "iopub.execute_input": "2022-03-14T19:36:09.750615Z",
     "iopub.status.busy": "2022-03-14T19:36:09.750023Z",
     "iopub.status.idle": "2022-03-14T19:36:09.865159Z",
     "shell.execute_reply": "2022-03-14T19:36:09.865692Z",
     "shell.execute_reply.started": "2022-03-14T19:25:56.237775Z"
    },
    "papermill": {
     "duration": 0.184467,
     "end_time": "2022-03-14T19:36:09.865892",
     "exception": false,
     "start_time": "2022-03-14T19:36:09.681425",
     "status": "completed"
    },
    "tags": []
   },
   "outputs": [],
   "source": [
    "data['from_date_day'] = pd.to_datetime(data['from_date_dt']).dt.day_name()\n",
    "data['booking_created_day'] = pd.to_datetime(data['booking_created_dt']).dt.day_name()\n",
    "data['from_date_month'] = pd.to_datetime(data['from_date_dt']).dt.month_name()\n",
    "data['booking_created_month'] = pd.to_datetime(data['booking_created_dt']).dt.month_name()\n",
    "data['from_date_week'] = np.where((data['from_date_day']=='Saturday') | (data['from_date_day']=='Sunday'),'Weekend','Weekday')\n",
    "data['booking_created_week'] = np.where((data['booking_created_day']=='Saturday') | (data['booking_created_day']=='Sunday'),'Weekend','Weekday')"
   ]
  },
  {
   "cell_type": "code",
   "execution_count": 36,
   "id": "04137a88",
   "metadata": {
    "execution": {
     "iopub.execute_input": "2022-03-14T19:36:10.000447Z",
     "iopub.status.busy": "2022-03-14T19:36:09.999849Z",
     "iopub.status.idle": "2022-03-14T19:36:10.132037Z",
     "shell.execute_reply": "2022-03-14T19:36:10.131455Z",
     "shell.execute_reply.started": "2022-03-14T19:25:56.404406Z"
    },
    "papermill": {
     "duration": 0.199933,
     "end_time": "2022-03-14T19:36:10.132190",
     "exception": false,
     "start_time": "2022-03-14T19:36:09.932257",
     "status": "completed"
    },
    "tags": []
   },
   "outputs": [],
   "source": [
    "cond = [(pd.to_datetime(data['from_time_tm']).dt.hour.between(5, 8)),\n",
    "        (pd.to_datetime(data['from_time_tm']).dt.hour.between(9, 12)),\n",
    "        (pd.to_datetime(data['from_time_tm']).dt.hour.between(13, 16)),\n",
    "        (pd.to_datetime(data['from_time_tm']).dt.hour.between(17, 20)),\n",
    "        ((pd.to_datetime(data['from_time_tm']).dt.hour.between(21, 24)) | (pd.to_datetime(data['from_time_tm']).dt.hour==0)),\n",
    "        (pd.to_datetime(data['from_time_tm']).dt.hour.between(1, 4))]\n",
    "values = ['Early Morning','Morning','Afternoon','Evening','Night','Late Night']\n",
    "data['from_date_session'] = np.select(cond,values)"
   ]
  },
  {
   "cell_type": "code",
   "execution_count": 37,
   "id": "525bb179",
   "metadata": {
    "execution": {
     "iopub.execute_input": "2022-03-14T19:36:10.309036Z",
     "iopub.status.busy": "2022-03-14T19:36:10.272946Z",
     "iopub.status.idle": "2022-03-14T19:36:20.941197Z",
     "shell.execute_reply": "2022-03-14T19:36:20.940597Z",
     "shell.execute_reply.started": "2022-03-14T19:25:56.594073Z"
    },
    "papermill": {
     "duration": 10.742733,
     "end_time": "2022-03-14T19:36:20.941349",
     "exception": false,
     "start_time": "2022-03-14T19:36:10.198616",
     "status": "completed"
    },
    "tags": []
   },
   "outputs": [],
   "source": [
    "cond = [(pd.to_datetime(data['booking_created_tm']).dt.hour.between(5, 8)),\n",
    "        (pd.to_datetime(data['booking_created_tm']).dt.hour.between(9, 12)),\n",
    "        (pd.to_datetime(data['booking_created_tm']).dt.hour.between(13, 16)),\n",
    "        (pd.to_datetime(data['booking_created_tm']).dt.hour.between(17, 20)),\n",
    "        ((pd.to_datetime(data['booking_created_tm']).dt.hour.between(21, 24)) | (pd.to_datetime(data['booking_created_tm']).dt.hour==0)),\n",
    "        (pd.to_datetime(data['booking_created_tm']).dt.hour.between(1, 4))]\n",
    "values = ['Early Morning','Morning','Afternoon','Evening','Night','Late Night']\n",
    "data['booking_created_session'] = np.select(cond,values)"
   ]
  },
  {
   "cell_type": "code",
   "execution_count": 38,
   "id": "2d617ac4",
   "metadata": {
    "execution": {
     "iopub.execute_input": "2022-03-14T19:36:21.084073Z",
     "iopub.status.busy": "2022-03-14T19:36:21.083160Z",
     "iopub.status.idle": "2022-03-14T19:36:26.361074Z",
     "shell.execute_reply": "2022-03-14T19:36:26.361586Z",
     "shell.execute_reply.started": "2022-03-14T19:26:09.747288Z"
    },
    "papermill": {
     "duration": 5.350383,
     "end_time": "2022-03-14T19:36:26.361779",
     "exception": false,
     "start_time": "2022-03-14T19:36:21.011396",
     "status": "completed"
    },
    "tags": []
   },
   "outputs": [],
   "source": [
    "data['time_diff'] = (pd.to_datetime(data['from_date']) - pd.to_datetime(data['booking_created'])).astype('timedelta64[m]')"
   ]
  },
  {
   "cell_type": "code",
   "execution_count": 39,
   "id": "396cd01c",
   "metadata": {
    "execution": {
     "iopub.execute_input": "2022-03-14T19:36:26.494784Z",
     "iopub.status.busy": "2022-03-14T19:36:26.494196Z",
     "iopub.status.idle": "2022-03-14T19:36:26.542164Z",
     "shell.execute_reply": "2022-03-14T19:36:26.542612Z",
     "shell.execute_reply.started": "2022-03-14T19:26:16.215288Z"
    },
    "papermill": {
     "duration": 0.115527,
     "end_time": "2022-03-14T19:36:26.542776",
     "exception": false,
     "start_time": "2022-03-14T19:36:26.427249",
     "status": "completed"
    },
    "tags": []
   },
   "outputs": [
    {
     "data": {
      "text/html": [
       "<div>\n",
       "<style scoped>\n",
       "    .dataframe tbody tr th:only-of-type {\n",
       "        vertical-align: middle;\n",
       "    }\n",
       "\n",
       "    .dataframe tbody tr th {\n",
       "        vertical-align: top;\n",
       "    }\n",
       "\n",
       "    .dataframe thead th {\n",
       "        text-align: right;\n",
       "    }\n",
       "</style>\n",
       "<table border=\"1\" class=\"dataframe\">\n",
       "  <thead>\n",
       "    <tr style=\"text-align: right;\">\n",
       "      <th></th>\n",
       "      <th>from_area_id</th>\n",
       "      <th>from_date</th>\n",
       "      <th>online_booking</th>\n",
       "      <th>mobile_site_booking</th>\n",
       "      <th>booking_created</th>\n",
       "      <th>traveltype_pointtopoint</th>\n",
       "      <th>traveltype_hourly</th>\n",
       "      <th>distance</th>\n",
       "      <th>from_date_dt</th>\n",
       "      <th>from_time_tm</th>\n",
       "      <th>...</th>\n",
       "      <th>booking_created_tm</th>\n",
       "      <th>from_date_day</th>\n",
       "      <th>booking_created_day</th>\n",
       "      <th>from_date_month</th>\n",
       "      <th>booking_created_month</th>\n",
       "      <th>from_date_week</th>\n",
       "      <th>booking_created_week</th>\n",
       "      <th>from_date_session</th>\n",
       "      <th>booking_created_session</th>\n",
       "      <th>time_diff</th>\n",
       "    </tr>\n",
       "  </thead>\n",
       "  <tbody>\n",
       "    <tr>\n",
       "      <th>1763</th>\n",
       "      <td>1298.0</td>\n",
       "      <td>1/20/2013 14:15</td>\n",
       "      <td>0</td>\n",
       "      <td>0</td>\n",
       "      <td>1/20/2013 15:01</td>\n",
       "      <td>0</td>\n",
       "      <td>1</td>\n",
       "      <td>8.482630</td>\n",
       "      <td>01/20/2013</td>\n",
       "      <td>14:15</td>\n",
       "      <td>...</td>\n",
       "      <td>15:01</td>\n",
       "      <td>Sunday</td>\n",
       "      <td>Sunday</td>\n",
       "      <td>January</td>\n",
       "      <td>January</td>\n",
       "      <td>Weekend</td>\n",
       "      <td>Weekend</td>\n",
       "      <td>Afternoon</td>\n",
       "      <td>Afternoon</td>\n",
       "      <td>-46.0</td>\n",
       "    </tr>\n",
       "    <tr>\n",
       "      <th>2990</th>\n",
       "      <td>393.0</td>\n",
       "      <td>2/1/2013 9:45</td>\n",
       "      <td>0</td>\n",
       "      <td>0</td>\n",
       "      <td>2/1/2013 13:18</td>\n",
       "      <td>0</td>\n",
       "      <td>1</td>\n",
       "      <td>28.576256</td>\n",
       "      <td>02/01/2013</td>\n",
       "      <td>09:45</td>\n",
       "      <td>...</td>\n",
       "      <td>13:18</td>\n",
       "      <td>Friday</td>\n",
       "      <td>Friday</td>\n",
       "      <td>February</td>\n",
       "      <td>February</td>\n",
       "      <td>Weekday</td>\n",
       "      <td>Weekday</td>\n",
       "      <td>Morning</td>\n",
       "      <td>Afternoon</td>\n",
       "      <td>-213.0</td>\n",
       "    </tr>\n",
       "    <tr>\n",
       "      <th>4228</th>\n",
       "      <td>571.0</td>\n",
       "      <td>2/13/2013 18:00</td>\n",
       "      <td>0</td>\n",
       "      <td>0</td>\n",
       "      <td>2/13/2013 18:29</td>\n",
       "      <td>0</td>\n",
       "      <td>1</td>\n",
       "      <td>5.866543</td>\n",
       "      <td>02/13/2013</td>\n",
       "      <td>18:00</td>\n",
       "      <td>...</td>\n",
       "      <td>18:29</td>\n",
       "      <td>Wednesday</td>\n",
       "      <td>Wednesday</td>\n",
       "      <td>February</td>\n",
       "      <td>February</td>\n",
       "      <td>Weekday</td>\n",
       "      <td>Weekday</td>\n",
       "      <td>Evening</td>\n",
       "      <td>Evening</td>\n",
       "      <td>-29.0</td>\n",
       "    </tr>\n",
       "    <tr>\n",
       "      <th>5303</th>\n",
       "      <td>1068.0</td>\n",
       "      <td>2/23/2013 18:00</td>\n",
       "      <td>0</td>\n",
       "      <td>0</td>\n",
       "      <td>2/23/2013 18:03</td>\n",
       "      <td>0</td>\n",
       "      <td>1</td>\n",
       "      <td>3.547502</td>\n",
       "      <td>02/23/2013</td>\n",
       "      <td>18:00</td>\n",
       "      <td>...</td>\n",
       "      <td>18:03</td>\n",
       "      <td>Saturday</td>\n",
       "      <td>Saturday</td>\n",
       "      <td>February</td>\n",
       "      <td>February</td>\n",
       "      <td>Weekend</td>\n",
       "      <td>Weekend</td>\n",
       "      <td>Evening</td>\n",
       "      <td>Evening</td>\n",
       "      <td>-3.0</td>\n",
       "    </tr>\n",
       "    <tr>\n",
       "      <th>6106</th>\n",
       "      <td>1010.0</td>\n",
       "      <td>3/4/2013 0:30</td>\n",
       "      <td>0</td>\n",
       "      <td>0</td>\n",
       "      <td>3/4/2013 2:00</td>\n",
       "      <td>0</td>\n",
       "      <td>1</td>\n",
       "      <td>10.133543</td>\n",
       "      <td>03/04/2013</td>\n",
       "      <td>00:30</td>\n",
       "      <td>...</td>\n",
       "      <td>02:00</td>\n",
       "      <td>Monday</td>\n",
       "      <td>Monday</td>\n",
       "      <td>March</td>\n",
       "      <td>March</td>\n",
       "      <td>Weekday</td>\n",
       "      <td>Weekday</td>\n",
       "      <td>Night</td>\n",
       "      <td>Late Night</td>\n",
       "      <td>-90.0</td>\n",
       "    </tr>\n",
       "  </tbody>\n",
       "</table>\n",
       "<p>5 rows × 21 columns</p>\n",
       "</div>"
      ],
      "text/plain": [
       "      from_area_id        from_date  online_booking  mobile_site_booking  \\\n",
       "1763        1298.0  1/20/2013 14:15               0                    0   \n",
       "2990         393.0    2/1/2013 9:45               0                    0   \n",
       "4228         571.0  2/13/2013 18:00               0                    0   \n",
       "5303        1068.0  2/23/2013 18:00               0                    0   \n",
       "6106        1010.0    3/4/2013 0:30               0                    0   \n",
       "\n",
       "      booking_created  traveltype_pointtopoint  traveltype_hourly   distance  \\\n",
       "1763  1/20/2013 15:01                        0                  1   8.482630   \n",
       "2990   2/1/2013 13:18                        0                  1  28.576256   \n",
       "4228  2/13/2013 18:29                        0                  1   5.866543   \n",
       "5303  2/23/2013 18:03                        0                  1   3.547502   \n",
       "6106    3/4/2013 2:00                        0                  1  10.133543   \n",
       "\n",
       "     from_date_dt from_time_tm  ... booking_created_tm from_date_day  \\\n",
       "1763   01/20/2013        14:15  ...              15:01        Sunday   \n",
       "2990   02/01/2013        09:45  ...              13:18        Friday   \n",
       "4228   02/13/2013        18:00  ...              18:29     Wednesday   \n",
       "5303   02/23/2013        18:00  ...              18:03      Saturday   \n",
       "6106   03/04/2013        00:30  ...              02:00        Monday   \n",
       "\n",
       "     booking_created_day from_date_month booking_created_month from_date_week  \\\n",
       "1763              Sunday         January               January        Weekend   \n",
       "2990              Friday        February              February        Weekday   \n",
       "4228           Wednesday        February              February        Weekday   \n",
       "5303            Saturday        February              February        Weekend   \n",
       "6106              Monday           March                 March        Weekday   \n",
       "\n",
       "     booking_created_week from_date_session booking_created_session time_diff  \n",
       "1763              Weekend         Afternoon               Afternoon     -46.0  \n",
       "2990              Weekday           Morning               Afternoon    -213.0  \n",
       "4228              Weekday           Evening                 Evening     -29.0  \n",
       "5303              Weekend           Evening                 Evening      -3.0  \n",
       "6106              Weekday             Night              Late Night     -90.0  \n",
       "\n",
       "[5 rows x 21 columns]"
      ]
     },
     "execution_count": 39,
     "metadata": {},
     "output_type": "execute_result"
    }
   ],
   "source": [
    "data[data['time_diff'] < 0].head()"
   ]
  },
  {
   "cell_type": "code",
   "execution_count": 40,
   "id": "58d83478",
   "metadata": {
    "execution": {
     "iopub.execute_input": "2022-03-14T19:36:26.676892Z",
     "iopub.status.busy": "2022-03-14T19:36:26.676303Z",
     "iopub.status.idle": "2022-03-14T19:36:26.682295Z",
     "shell.execute_reply": "2022-03-14T19:36:26.682746Z",
     "shell.execute_reply.started": "2022-03-14T19:26:16.281416Z"
    },
    "papermill": {
     "duration": 0.074301,
     "end_time": "2022-03-14T19:36:26.682930",
     "exception": false,
     "start_time": "2022-03-14T19:36:26.608629",
     "status": "completed"
    },
    "tags": []
   },
   "outputs": [
    {
     "data": {
      "text/plain": [
       "42"
      ]
     },
     "execution_count": 40,
     "metadata": {},
     "output_type": "execute_result"
    }
   ],
   "source": [
    "data[data['time_diff'] < 0]['time_diff'].count()"
   ]
  },
  {
   "cell_type": "code",
   "execution_count": 41,
   "id": "297df0bc",
   "metadata": {
    "execution": {
     "iopub.execute_input": "2022-03-14T19:36:26.820877Z",
     "iopub.status.busy": "2022-03-14T19:36:26.820286Z",
     "iopub.status.idle": "2022-03-14T19:36:26.835020Z",
     "shell.execute_reply": "2022-03-14T19:36:26.835516Z",
     "shell.execute_reply.started": "2022-03-14T19:26:16.294992Z"
    },
    "papermill": {
     "duration": 0.086654,
     "end_time": "2022-03-14T19:36:26.835699",
     "exception": false,
     "start_time": "2022-03-14T19:36:26.749045",
     "status": "completed"
    },
    "tags": []
   },
   "outputs": [],
   "source": [
    "data = data.drop(['from_date','booking_created'],axis=1)"
   ]
  },
  {
   "cell_type": "code",
   "execution_count": 42,
   "id": "076e04e9",
   "metadata": {
    "execution": {
     "iopub.execute_input": "2022-03-14T19:36:26.980148Z",
     "iopub.status.busy": "2022-03-14T19:36:26.978973Z",
     "iopub.status.idle": "2022-03-14T19:36:26.991629Z",
     "shell.execute_reply": "2022-03-14T19:36:26.992183Z",
     "shell.execute_reply.started": "2022-03-14T19:26:16.316629Z"
    },
    "papermill": {
     "duration": 0.089038,
     "end_time": "2022-03-14T19:36:26.992365",
     "exception": false,
     "start_time": "2022-03-14T19:36:26.903327",
     "status": "completed"
    },
    "tags": []
   },
   "outputs": [],
   "source": [
    "data = data.drop(['from_date_dt','from_time_tm','booking_created_dt','booking_created_tm'],axis=1)"
   ]
  },
  {
   "cell_type": "code",
   "execution_count": 43,
   "id": "d9cecf79",
   "metadata": {
    "execution": {
     "iopub.execute_input": "2022-03-14T19:36:27.153613Z",
     "iopub.status.busy": "2022-03-14T19:36:27.153036Z",
     "iopub.status.idle": "2022-03-14T19:36:27.168466Z",
     "shell.execute_reply": "2022-03-14T19:36:27.167928Z",
     "shell.execute_reply.started": "2022-03-14T19:26:16.338806Z"
    },
    "papermill": {
     "duration": 0.087512,
     "end_time": "2022-03-14T19:36:27.168611",
     "exception": false,
     "start_time": "2022-03-14T19:36:27.081099",
     "status": "completed"
    },
    "tags": []
   },
   "outputs": [],
   "source": [
    "data_merged = pd.concat([data,target],axis=1,join='inner')\n",
    "data['from_area_id'] = round(data_merged.groupby('from_area_id')['Car_Cancellation'].sum()/data_merged.groupby('from_area_id')['Car_Cancellation'].count(),2)\n",
    "data['from_area_id'].replace(np.nan,0,inplace=True)"
   ]
  },
  {
   "cell_type": "code",
   "execution_count": 44,
   "id": "f1b9de75",
   "metadata": {
    "execution": {
     "iopub.execute_input": "2022-03-14T19:36:27.306171Z",
     "iopub.status.busy": "2022-03-14T19:36:27.305442Z",
     "iopub.status.idle": "2022-03-14T19:36:27.320885Z",
     "shell.execute_reply": "2022-03-14T19:36:27.321368Z",
     "shell.execute_reply.started": "2022-03-14T19:26:16.362449Z"
    },
    "papermill": {
     "duration": 0.084732,
     "end_time": "2022-03-14T19:36:27.321540",
     "exception": false,
     "start_time": "2022-03-14T19:36:27.236808",
     "status": "completed"
    },
    "tags": []
   },
   "outputs": [],
   "source": [
    "cond = [(data['from_area_id'].astype('float').between(0,0.33)),\n",
    "        (data['from_area_id'].astype('float').between(0.34,0.66)),\n",
    "        (data['from_area_id'].astype('float').between(0.67,1.0))]\n",
    "values = ['Low Cancellation','Medium Cancellation','High Cancellation']\n",
    "data['from_area_id'] = np.select(cond,values)"
   ]
  },
  {
   "cell_type": "code",
   "execution_count": 45,
   "id": "7e1eaecb",
   "metadata": {
    "execution": {
     "iopub.execute_input": "2022-03-14T19:36:27.456947Z",
     "iopub.status.busy": "2022-03-14T19:36:27.456324Z",
     "iopub.status.idle": "2022-03-14T19:36:27.471187Z",
     "shell.execute_reply": "2022-03-14T19:36:27.471698Z",
     "shell.execute_reply.started": "2022-03-14T19:26:16.384747Z"
    },
    "papermill": {
     "duration": 0.083952,
     "end_time": "2022-03-14T19:36:27.471890",
     "exception": false,
     "start_time": "2022-03-14T19:36:27.387938",
     "status": "completed"
    },
    "tags": []
   },
   "outputs": [
    {
     "data": {
      "text/html": [
       "<div>\n",
       "<style scoped>\n",
       "    .dataframe tbody tr th:only-of-type {\n",
       "        vertical-align: middle;\n",
       "    }\n",
       "\n",
       "    .dataframe tbody tr th {\n",
       "        vertical-align: top;\n",
       "    }\n",
       "\n",
       "    .dataframe thead th {\n",
       "        text-align: right;\n",
       "    }\n",
       "</style>\n",
       "<table border=\"1\" class=\"dataframe\">\n",
       "  <thead>\n",
       "    <tr style=\"text-align: right;\">\n",
       "      <th></th>\n",
       "      <th>from_area_id</th>\n",
       "      <th>online_booking</th>\n",
       "      <th>mobile_site_booking</th>\n",
       "      <th>traveltype_pointtopoint</th>\n",
       "      <th>traveltype_hourly</th>\n",
       "      <th>distance</th>\n",
       "      <th>from_date_day</th>\n",
       "      <th>booking_created_day</th>\n",
       "      <th>from_date_month</th>\n",
       "      <th>booking_created_month</th>\n",
       "      <th>from_date_week</th>\n",
       "      <th>booking_created_week</th>\n",
       "      <th>from_date_session</th>\n",
       "      <th>booking_created_session</th>\n",
       "      <th>time_diff</th>\n",
       "    </tr>\n",
       "  </thead>\n",
       "  <tbody>\n",
       "    <tr>\n",
       "      <th>0</th>\n",
       "      <td>Low Cancellation</td>\n",
       "      <td>0</td>\n",
       "      <td>0</td>\n",
       "      <td>1</td>\n",
       "      <td>0</td>\n",
       "      <td>3.980687</td>\n",
       "      <td>Tuesday</td>\n",
       "      <td>Tuesday</td>\n",
       "      <td>January</td>\n",
       "      <td>January</td>\n",
       "      <td>Weekday</td>\n",
       "      <td>Weekday</td>\n",
       "      <td>Late Night</td>\n",
       "      <td>Late Night</td>\n",
       "      <td>21.0</td>\n",
       "    </tr>\n",
       "    <tr>\n",
       "      <th>1</th>\n",
       "      <td>Low Cancellation</td>\n",
       "      <td>0</td>\n",
       "      <td>0</td>\n",
       "      <td>1</td>\n",
       "      <td>0</td>\n",
       "      <td>14.004432</td>\n",
       "      <td>Tuesday</td>\n",
       "      <td>Tuesday</td>\n",
       "      <td>January</td>\n",
       "      <td>January</td>\n",
       "      <td>Weekday</td>\n",
       "      <td>Weekday</td>\n",
       "      <td>Morning</td>\n",
       "      <td>Late Night</td>\n",
       "      <td>395.0</td>\n",
       "    </tr>\n",
       "    <tr>\n",
       "      <th>2</th>\n",
       "      <td>Low Cancellation</td>\n",
       "      <td>0</td>\n",
       "      <td>0</td>\n",
       "      <td>1</td>\n",
       "      <td>0</td>\n",
       "      <td>12.648909</td>\n",
       "      <td>Tuesday</td>\n",
       "      <td>Tuesday</td>\n",
       "      <td>January</td>\n",
       "      <td>January</td>\n",
       "      <td>Weekday</td>\n",
       "      <td>Weekday</td>\n",
       "      <td>Late Night</td>\n",
       "      <td>Late Night</td>\n",
       "      <td>22.0</td>\n",
       "    </tr>\n",
       "    <tr>\n",
       "      <th>3</th>\n",
       "      <td>Low Cancellation</td>\n",
       "      <td>0</td>\n",
       "      <td>0</td>\n",
       "      <td>1</td>\n",
       "      <td>0</td>\n",
       "      <td>9.534596</td>\n",
       "      <td>Tuesday</td>\n",
       "      <td>Tuesday</td>\n",
       "      <td>January</td>\n",
       "      <td>January</td>\n",
       "      <td>Weekday</td>\n",
       "      <td>Weekday</td>\n",
       "      <td>Early Morning</td>\n",
       "      <td>Late Night</td>\n",
       "      <td>66.0</td>\n",
       "    </tr>\n",
       "    <tr>\n",
       "      <th>4</th>\n",
       "      <td>Low Cancellation</td>\n",
       "      <td>0</td>\n",
       "      <td>0</td>\n",
       "      <td>1</td>\n",
       "      <td>0</td>\n",
       "      <td>14.655467</td>\n",
       "      <td>Tuesday</td>\n",
       "      <td>Tuesday</td>\n",
       "      <td>January</td>\n",
       "      <td>January</td>\n",
       "      <td>Weekday</td>\n",
       "      <td>Weekday</td>\n",
       "      <td>Morning</td>\n",
       "      <td>Early Morning</td>\n",
       "      <td>67.0</td>\n",
       "    </tr>\n",
       "  </tbody>\n",
       "</table>\n",
       "</div>"
      ],
      "text/plain": [
       "       from_area_id  online_booking  mobile_site_booking  \\\n",
       "0  Low Cancellation               0                    0   \n",
       "1  Low Cancellation               0                    0   \n",
       "2  Low Cancellation               0                    0   \n",
       "3  Low Cancellation               0                    0   \n",
       "4  Low Cancellation               0                    0   \n",
       "\n",
       "   traveltype_pointtopoint  traveltype_hourly   distance from_date_day  \\\n",
       "0                        1                  0   3.980687       Tuesday   \n",
       "1                        1                  0  14.004432       Tuesday   \n",
       "2                        1                  0  12.648909       Tuesday   \n",
       "3                        1                  0   9.534596       Tuesday   \n",
       "4                        1                  0  14.655467       Tuesday   \n",
       "\n",
       "  booking_created_day from_date_month booking_created_month from_date_week  \\\n",
       "0             Tuesday         January               January        Weekday   \n",
       "1             Tuesday         January               January        Weekday   \n",
       "2             Tuesday         January               January        Weekday   \n",
       "3             Tuesday         January               January        Weekday   \n",
       "4             Tuesday         January               January        Weekday   \n",
       "\n",
       "  booking_created_week from_date_session booking_created_session  time_diff  \n",
       "0              Weekday        Late Night              Late Night       21.0  \n",
       "1              Weekday           Morning              Late Night      395.0  \n",
       "2              Weekday        Late Night              Late Night       22.0  \n",
       "3              Weekday     Early Morning              Late Night       66.0  \n",
       "4              Weekday           Morning           Early Morning       67.0  "
      ]
     },
     "execution_count": 45,
     "metadata": {},
     "output_type": "execute_result"
    }
   ],
   "source": [
    "data.head()"
   ]
  },
  {
   "cell_type": "markdown",
   "id": "55221e30",
   "metadata": {
    "papermill": {
     "duration": 0.06569,
     "end_time": "2022-03-14T19:36:27.605035",
     "exception": false,
     "start_time": "2022-03-14T19:36:27.539345",
     "status": "completed"
    },
    "tags": []
   },
   "source": [
    "## Data Visualization"
   ]
  },
  {
   "cell_type": "code",
   "execution_count": 46,
   "id": "a48b16b8",
   "metadata": {
    "execution": {
     "iopub.execute_input": "2022-03-14T19:36:27.741682Z",
     "iopub.status.busy": "2022-03-14T19:36:27.741112Z",
     "iopub.status.idle": "2022-03-14T19:36:27.751544Z",
     "shell.execute_reply": "2022-03-14T19:36:27.752155Z",
     "shell.execute_reply.started": "2022-03-14T19:26:16.407201Z"
    },
    "papermill": {
     "duration": 0.080735,
     "end_time": "2022-03-14T19:36:27.752325",
     "exception": false,
     "start_time": "2022-03-14T19:36:27.671590",
     "status": "completed"
    },
    "tags": []
   },
   "outputs": [
    {
     "data": {
      "text/plain": [
       "Low Cancellation       43415\n",
       "Medium Cancellation       11\n",
       "High Cancellation          5\n",
       "Name: from_area_id, dtype: int64"
      ]
     },
     "execution_count": 46,
     "metadata": {},
     "output_type": "execute_result"
    }
   ],
   "source": [
    "data['from_area_id'].value_counts()"
   ]
  },
  {
   "cell_type": "code",
   "execution_count": 47,
   "id": "4a6e3ba3",
   "metadata": {
    "execution": {
     "iopub.execute_input": "2022-03-14T19:36:27.891064Z",
     "iopub.status.busy": "2022-03-14T19:36:27.890423Z",
     "iopub.status.idle": "2022-03-14T19:36:29.580001Z",
     "shell.execute_reply": "2022-03-14T19:36:29.579468Z",
     "shell.execute_reply.started": "2022-03-14T19:26:16.432639Z"
    },
    "papermill": {
     "duration": 1.760588,
     "end_time": "2022-03-14T19:36:29.580164",
     "exception": false,
     "start_time": "2022-03-14T19:36:27.819576",
     "status": "completed"
    },
    "tags": []
   },
   "outputs": [
    {
     "data": {
      "image/png": "[encoded data removed]",
      "text/plain": [
       "<Figure size 432x288 with 1 Axes>"
      ]
     },
     "metadata": {
      "needs_background": "light"
     },
     "output_type": "display_data"
    },
    {
     "data": {
      "image/png": "[encoded data removed]",
      "text/plain": [
       "<Figure size 432x288 with 1 Axes>"
      ]
     },
     "metadata": {
      "needs_background": "light"
     },
     "output_type": "display_data"
    },
    {
     "data": {
      "image/png": "[encoded data removed]",
      "text/plain": [
       "<Figure size 432x288 with 1 Axes>"
      ]
     },
     "metadata": {
      "needs_background": "light"
     },
     "output_type": "display_data"
    },
    {
     "data": {
      "image/png": "[encoded data removed]",
      "text/plain": [
       "<Figure size 432x288 with 1 Axes>"
      ]
     },
     "metadata": {
      "needs_background": "light"
     },
     "output_type": "display_data"
    },
    {
     "data": {
      "image/png": "[encoded data removed]",
      "text/plain": [
       "<Figure size 432x288 with 1 Axes>"
      ]
     },
     "metadata": {
      "needs_background": "light"
     },
     "output_type": "display_data"
    },
    {
     "data": {
      "image/png": "[encoded data removed]",
      "text/plain": [
       "<Figure size 432x288 with 1 Axes>"
      ]
     },
     "metadata": {
      "needs_background": "light"
     },
     "output_type": "display_data"
    },
    {
     "data": {
      "image/png": "[encoded data removed]",
      "text/plain": [
       "<Figure size 432x288 with 1 Axes>"
      ]
     },
     "metadata": {
      "needs_background": "light"
     },
     "output_type": "display_data"
    },
    {
     "data": {
      "image/png": "[encoded data removed]",
      "text/plain": [
       "<Figure size 432x288 with 1 Axes>"
      ]
     },
     "metadata": {
      "needs_background": "light"
     },
     "output_type": "display_data"
    },
    {
     "data": {
      "image/png": "[encoded data removed]",
      "text/plain": [
       "<Figure size 432x288 with 1 Axes>"
      ]
     },
     "metadata": {
      "needs_background": "light"
     },
     "output_type": "display_data"
    }
   ],
   "source": [
    "for col in data.columns:\n",
    "  if data[col].dtype == 'object':\n",
    "    data[col].value_counts().plot.bar()\n",
    "    plt.title(col)\n",
    "    plt.show()"
   ]
  },
  {
   "cell_type": "markdown",
   "id": "21215d09",
   "metadata": {
    "papermill": {
     "duration": 0.074345,
     "end_time": "2022-03-14T19:36:29.728865",
     "exception": false,
     "start_time": "2022-03-14T19:36:29.654520",
     "status": "completed"
    },
    "tags": []
   },
   "source": [
    "## Dividing data into Numerical and Categorical dataframes"
   ]
  },
  {
   "cell_type": "code",
   "execution_count": 48,
   "id": "8613c4d9",
   "metadata": {
    "execution": {
     "iopub.execute_input": "2022-03-14T19:36:29.882075Z",
     "iopub.status.busy": "2022-03-14T19:36:29.881430Z",
     "iopub.status.idle": "2022-03-14T19:36:29.903630Z",
     "shell.execute_reply": "2022-03-14T19:36:29.904116Z",
     "shell.execute_reply.started": "2022-03-14T19:26:18.463990Z"
    },
    "papermill": {
     "duration": 0.099352,
     "end_time": "2022-03-14T19:36:29.904297",
     "exception": false,
     "start_time": "2022-03-14T19:36:29.804945",
     "status": "completed"
    },
    "tags": []
   },
   "outputs": [],
   "source": [
    "num = data.select_dtypes(include='number')\n",
    "char = data.select_dtypes(include='object')"
   ]
  },
  {
   "cell_type": "code",
   "execution_count": 49,
   "id": "244eabf4",
   "metadata": {
    "execution": {
     "iopub.execute_input": "2022-03-14T19:36:30.057725Z",
     "iopub.status.busy": "2022-03-14T19:36:30.056916Z",
     "iopub.status.idle": "2022-03-14T19:36:30.066733Z",
     "shell.execute_reply": "2022-03-14T19:36:30.066214Z",
     "shell.execute_reply.started": "2022-03-14T19:26:18.495119Z"
    },
    "papermill": {
     "duration": 0.088788,
     "end_time": "2022-03-14T19:36:30.066901",
     "exception": false,
     "start_time": "2022-03-14T19:36:29.978113",
     "status": "completed"
    },
    "tags": []
   },
   "outputs": [
    {
     "data": {
      "text/html": [
       "<div>\n",
       "<style scoped>\n",
       "    .dataframe tbody tr th:only-of-type {\n",
       "        vertical-align: middle;\n",
       "    }\n",
       "\n",
       "    .dataframe tbody tr th {\n",
       "        vertical-align: top;\n",
       "    }\n",
       "\n",
       "    .dataframe thead th {\n",
       "        text-align: right;\n",
       "    }\n",
       "</style>\n",
       "<table border=\"1\" class=\"dataframe\">\n",
       "  <thead>\n",
       "    <tr style=\"text-align: right;\">\n",
       "      <th></th>\n",
       "      <th>online_booking</th>\n",
       "      <th>mobile_site_booking</th>\n",
       "      <th>traveltype_pointtopoint</th>\n",
       "      <th>traveltype_hourly</th>\n",
       "      <th>distance</th>\n",
       "      <th>time_diff</th>\n",
       "    </tr>\n",
       "  </thead>\n",
       "  <tbody>\n",
       "    <tr>\n",
       "      <th>0</th>\n",
       "      <td>0</td>\n",
       "      <td>0</td>\n",
       "      <td>1</td>\n",
       "      <td>0</td>\n",
       "      <td>3.980687</td>\n",
       "      <td>21.0</td>\n",
       "    </tr>\n",
       "    <tr>\n",
       "      <th>1</th>\n",
       "      <td>0</td>\n",
       "      <td>0</td>\n",
       "      <td>1</td>\n",
       "      <td>0</td>\n",
       "      <td>14.004432</td>\n",
       "      <td>395.0</td>\n",
       "    </tr>\n",
       "    <tr>\n",
       "      <th>2</th>\n",
       "      <td>0</td>\n",
       "      <td>0</td>\n",
       "      <td>1</td>\n",
       "      <td>0</td>\n",
       "      <td>12.648909</td>\n",
       "      <td>22.0</td>\n",
       "    </tr>\n",
       "    <tr>\n",
       "      <th>3</th>\n",
       "      <td>0</td>\n",
       "      <td>0</td>\n",
       "      <td>1</td>\n",
       "      <td>0</td>\n",
       "      <td>9.534596</td>\n",
       "      <td>66.0</td>\n",
       "    </tr>\n",
       "    <tr>\n",
       "      <th>4</th>\n",
       "      <td>0</td>\n",
       "      <td>0</td>\n",
       "      <td>1</td>\n",
       "      <td>0</td>\n",
       "      <td>14.655467</td>\n",
       "      <td>67.0</td>\n",
       "    </tr>\n",
       "  </tbody>\n",
       "</table>\n",
       "</div>"
      ],
      "text/plain": [
       "   online_booking  mobile_site_booking  traveltype_pointtopoint  \\\n",
       "0               0                    0                        1   \n",
       "1               0                    0                        1   \n",
       "2               0                    0                        1   \n",
       "3               0                    0                        1   \n",
       "4               0                    0                        1   \n",
       "\n",
       "   traveltype_hourly   distance  time_diff  \n",
       "0                  0   3.980687       21.0  \n",
       "1                  0  14.004432      395.0  \n",
       "2                  0  12.648909       22.0  \n",
       "3                  0   9.534596       66.0  \n",
       "4                  0  14.655467       67.0  "
      ]
     },
     "execution_count": 49,
     "metadata": {},
     "output_type": "execute_result"
    }
   ],
   "source": [
    "num.head()"
   ]
  },
  {
   "cell_type": "code",
   "execution_count": 50,
   "id": "1932533d",
   "metadata": {
    "execution": {
     "iopub.execute_input": "2022-03-14T19:36:30.223433Z",
     "iopub.status.busy": "2022-03-14T19:36:30.222560Z",
     "iopub.status.idle": "2022-03-14T19:36:30.231201Z",
     "shell.execute_reply": "2022-03-14T19:36:30.231673Z",
     "shell.execute_reply.started": "2022-03-14T19:26:18.512490Z"
    },
    "papermill": {
     "duration": 0.089876,
     "end_time": "2022-03-14T19:36:30.231848",
     "exception": false,
     "start_time": "2022-03-14T19:36:30.141972",
     "status": "completed"
    },
    "tags": []
   },
   "outputs": [
    {
     "data": {
      "text/html": [
       "<div>\n",
       "<style scoped>\n",
       "    .dataframe tbody tr th:only-of-type {\n",
       "        vertical-align: middle;\n",
       "    }\n",
       "\n",
       "    .dataframe tbody tr th {\n",
       "        vertical-align: top;\n",
       "    }\n",
       "\n",
       "    .dataframe thead th {\n",
       "        text-align: right;\n",
       "    }\n",
       "</style>\n",
       "<table border=\"1\" class=\"dataframe\">\n",
       "  <thead>\n",
       "    <tr style=\"text-align: right;\">\n",
       "      <th></th>\n",
       "      <th>from_area_id</th>\n",
       "      <th>from_date_day</th>\n",
       "      <th>booking_created_day</th>\n",
       "      <th>from_date_month</th>\n",
       "      <th>booking_created_month</th>\n",
       "      <th>from_date_week</th>\n",
       "      <th>booking_created_week</th>\n",
       "      <th>from_date_session</th>\n",
       "      <th>booking_created_session</th>\n",
       "    </tr>\n",
       "  </thead>\n",
       "  <tbody>\n",
       "    <tr>\n",
       "      <th>0</th>\n",
       "      <td>Low Cancellation</td>\n",
       "      <td>Tuesday</td>\n",
       "      <td>Tuesday</td>\n",
       "      <td>January</td>\n",
       "      <td>January</td>\n",
       "      <td>Weekday</td>\n",
       "      <td>Weekday</td>\n",
       "      <td>Late Night</td>\n",
       "      <td>Late Night</td>\n",
       "    </tr>\n",
       "    <tr>\n",
       "      <th>1</th>\n",
       "      <td>Low Cancellation</td>\n",
       "      <td>Tuesday</td>\n",
       "      <td>Tuesday</td>\n",
       "      <td>January</td>\n",
       "      <td>January</td>\n",
       "      <td>Weekday</td>\n",
       "      <td>Weekday</td>\n",
       "      <td>Morning</td>\n",
       "      <td>Late Night</td>\n",
       "    </tr>\n",
       "    <tr>\n",
       "      <th>2</th>\n",
       "      <td>Low Cancellation</td>\n",
       "      <td>Tuesday</td>\n",
       "      <td>Tuesday</td>\n",
       "      <td>January</td>\n",
       "      <td>January</td>\n",
       "      <td>Weekday</td>\n",
       "      <td>Weekday</td>\n",
       "      <td>Late Night</td>\n",
       "      <td>Late Night</td>\n",
       "    </tr>\n",
       "    <tr>\n",
       "      <th>3</th>\n",
       "      <td>Low Cancellation</td>\n",
       "      <td>Tuesday</td>\n",
       "      <td>Tuesday</td>\n",
       "      <td>January</td>\n",
       "      <td>January</td>\n",
       "      <td>Weekday</td>\n",
       "      <td>Weekday</td>\n",
       "      <td>Early Morning</td>\n",
       "      <td>Late Night</td>\n",
       "    </tr>\n",
       "    <tr>\n",
       "      <th>4</th>\n",
       "      <td>Low Cancellation</td>\n",
       "      <td>Tuesday</td>\n",
       "      <td>Tuesday</td>\n",
       "      <td>January</td>\n",
       "      <td>January</td>\n",
       "      <td>Weekday</td>\n",
       "      <td>Weekday</td>\n",
       "      <td>Morning</td>\n",
       "      <td>Early Morning</td>\n",
       "    </tr>\n",
       "  </tbody>\n",
       "</table>\n",
       "</div>"
      ],
      "text/plain": [
       "       from_area_id from_date_day booking_created_day from_date_month  \\\n",
       "0  Low Cancellation       Tuesday             Tuesday         January   \n",
       "1  Low Cancellation       Tuesday             Tuesday         January   \n",
       "2  Low Cancellation       Tuesday             Tuesday         January   \n",
       "3  Low Cancellation       Tuesday             Tuesday         January   \n",
       "4  Low Cancellation       Tuesday             Tuesday         January   \n",
       "\n",
       "  booking_created_month from_date_week booking_created_week from_date_session  \\\n",
       "0               January        Weekday              Weekday        Late Night   \n",
       "1               January        Weekday              Weekday           Morning   \n",
       "2               January        Weekday              Weekday        Late Night   \n",
       "3               January        Weekday              Weekday     Early Morning   \n",
       "4               January        Weekday              Weekday           Morning   \n",
       "\n",
       "  booking_created_session  \n",
       "0              Late Night  \n",
       "1              Late Night  \n",
       "2              Late Night  \n",
       "3              Late Night  \n",
       "4           Early Morning  "
      ]
     },
     "execution_count": 50,
     "metadata": {},
     "output_type": "execute_result"
    }
   ],
   "source": [
    "char.head()"
   ]
  },
  {
   "cell_type": "code",
   "execution_count": 51,
   "id": "057f32cc",
   "metadata": {
    "execution": {
     "iopub.execute_input": "2022-03-14T19:36:30.386376Z",
     "iopub.status.busy": "2022-03-14T19:36:30.385673Z",
     "iopub.status.idle": "2022-03-14T19:36:43.780649Z",
     "shell.execute_reply": "2022-03-14T19:36:43.780135Z",
     "shell.execute_reply.started": "2022-03-14T19:26:18.535076Z"
    },
    "papermill": {
     "duration": 13.472957,
     "end_time": "2022-03-14T19:36:43.780804",
     "exception": false,
     "start_time": "2022-03-14T19:36:30.307847",
     "status": "completed"
    },
    "tags": []
   },
   "outputs": [
    {
     "data": {
      "image/png": "[encoded data removed]",
      "text/plain": [
       "<Figure size 432x288 with 1 Axes>"
      ]
     },
     "metadata": {
      "needs_background": "light"
     },
     "output_type": "display_data"
    },
    {
     "data": {
      "image/png": "[encoded data removed]",
      "text/plain": [
       "<Figure size 432x288 with 1 Axes>"
      ]
     },
     "metadata": {
      "needs_background": "light"
     },
     "output_type": "display_data"
    },
    {
     "data": {
      "image/png": "[encoded data removed]",
      "text/plain": [
       "<Figure size 432x288 with 1 Axes>"
      ]
     },
     "metadata": {
      "needs_background": "light"
     },
     "output_type": "display_data"
    },
    {
     "data": {
      "image/png": "[encoded data removed]",
      "text/plain": [
       "<Figure size 432x288 with 1 Axes>"
      ]
     },
     "metadata": {
      "needs_background": "light"
     },
     "output_type": "display_data"
    },
    {
     "data": {
      "image/png": "[encoded data removed]",
      "text/plain": [
       "<Figure size 432x288 with 1 Axes>"
      ]
     },
     "metadata": {
      "needs_background": "light"
     },
     "output_type": "display_data"
    },
    {
     "data": {
      "image/png": "[encoded data removed]",
      "text/plain": [
       "<Figure size 432x288 with 1 Axes>"
      ]
     },
     "metadata": {
      "needs_background": "light"
     },
     "output_type": "display_data"
    },
    {
     "data": {
      "image/png": "[encoded data removed]",
      "text/plain": [
       "<Figure size 432x288 with 1 Axes>"
      ]
     },
     "metadata": {
      "needs_background": "light"
     },
     "output_type": "display_data"
    },
    {
     "data": {
      "image/png": "[encoded data removed]",
      "text/plain": [
       "<Figure size 432x288 with 1 Axes>"
      ]
     },
     "metadata": {
      "needs_background": "light"
     },
     "output_type": "display_data"
    },
    {
     "data": {
      "image/png": "[encoded data removed]",
      "text/plain": [
       "<Figure size 432x288 with 1 Axes>"
      ]
     },
     "metadata": {
      "needs_background": "light"
     },
     "output_type": "display_data"
    }
   ],
   "source": [
    "X_char_merged = pd.concat([char,target],axis=1,join='inner')\n",
    "\n",
    "from numpy import mean\n",
    "for col in (char.columns):\n",
    "    plt.figure()\n",
    "    sns.lineplot(x=col, y=X_char_merged['Car_Cancellation'].mean(), data=X_char_merged,estimator=mean, color='red')\n",
    "    sns.barplot(x=col, y='Car_Cancellation', data=X_char_merged,estimator=mean)\n",
    "plt.show()"
   ]
  },
  {
   "cell_type": "markdown",
   "id": "b0a6bb14",
   "metadata": {
    "papermill": {
     "duration": 0.081217,
     "end_time": "2022-03-14T19:36:43.944416",
     "exception": false,
     "start_time": "2022-03-14T19:36:43.863199",
     "status": "completed"
    },
    "tags": []
   },
   "source": [
    "## Encoding Categorical variables"
   ]
  },
  {
   "cell_type": "code",
   "execution_count": 52,
   "id": "bc802c5a",
   "metadata": {
    "execution": {
     "iopub.execute_input": "2022-03-14T19:36:44.112929Z",
     "iopub.status.busy": "2022-03-14T19:36:44.112218Z",
     "iopub.status.idle": "2022-03-14T19:36:44.178598Z",
     "shell.execute_reply": "2022-03-14T19:36:44.178089Z",
     "shell.execute_reply.started": "2022-03-14T19:26:33.240594Z"
    },
    "papermill": {
     "duration": 0.153102,
     "end_time": "2022-03-14T19:36:44.178740",
     "exception": false,
     "start_time": "2022-03-14T19:36:44.025638",
     "status": "completed"
    },
    "tags": []
   },
   "outputs": [
    {
     "data": {
      "text/plain": [
       "(43431, 47)"
      ]
     },
     "execution_count": 52,
     "metadata": {},
     "output_type": "execute_result"
    }
   ],
   "source": [
    "X_char_dum = pd.get_dummies(char, drop_first = True)\n",
    "X_char_dum.shape"
   ]
  },
  {
   "cell_type": "code",
   "execution_count": 53,
   "id": "4ee0ecea",
   "metadata": {
    "execution": {
     "iopub.execute_input": "2022-03-14T19:36:44.347329Z",
     "iopub.status.busy": "2022-03-14T19:36:44.346663Z",
     "iopub.status.idle": "2022-03-14T19:36:44.363123Z",
     "shell.execute_reply": "2022-03-14T19:36:44.362458Z",
     "shell.execute_reply.started": "2022-03-14T19:26:33.324175Z"
    },
    "papermill": {
     "duration": 0.10083,
     "end_time": "2022-03-14T19:36:44.363264",
     "exception": false,
     "start_time": "2022-03-14T19:36:44.262434",
     "status": "completed"
    },
    "tags": []
   },
   "outputs": [
    {
     "data": {
      "text/html": [
       "<div>\n",
       "<style scoped>\n",
       "    .dataframe tbody tr th:only-of-type {\n",
       "        vertical-align: middle;\n",
       "    }\n",
       "\n",
       "    .dataframe tbody tr th {\n",
       "        vertical-align: top;\n",
       "    }\n",
       "\n",
       "    .dataframe thead th {\n",
       "        text-align: right;\n",
       "    }\n",
       "</style>\n",
       "<table border=\"1\" class=\"dataframe\">\n",
       "  <thead>\n",
       "    <tr style=\"text-align: right;\">\n",
       "      <th></th>\n",
       "      <th>from_area_id_Low Cancellation</th>\n",
       "      <th>from_area_id_Medium Cancellation</th>\n",
       "      <th>from_date_day_Monday</th>\n",
       "      <th>from_date_day_Saturday</th>\n",
       "      <th>from_date_day_Sunday</th>\n",
       "      <th>from_date_day_Thursday</th>\n",
       "      <th>from_date_day_Tuesday</th>\n",
       "      <th>from_date_day_Wednesday</th>\n",
       "      <th>booking_created_day_Monday</th>\n",
       "      <th>booking_created_day_Saturday</th>\n",
       "      <th>...</th>\n",
       "      <th>from_date_session_Early Morning</th>\n",
       "      <th>from_date_session_Evening</th>\n",
       "      <th>from_date_session_Late Night</th>\n",
       "      <th>from_date_session_Morning</th>\n",
       "      <th>from_date_session_Night</th>\n",
       "      <th>booking_created_session_Early Morning</th>\n",
       "      <th>booking_created_session_Evening</th>\n",
       "      <th>booking_created_session_Late Night</th>\n",
       "      <th>booking_created_session_Morning</th>\n",
       "      <th>booking_created_session_Night</th>\n",
       "    </tr>\n",
       "  </thead>\n",
       "  <tbody>\n",
       "    <tr>\n",
       "      <th>0</th>\n",
       "      <td>1</td>\n",
       "      <td>0</td>\n",
       "      <td>0</td>\n",
       "      <td>0</td>\n",
       "      <td>0</td>\n",
       "      <td>0</td>\n",
       "      <td>1</td>\n",
       "      <td>0</td>\n",
       "      <td>0</td>\n",
       "      <td>0</td>\n",
       "      <td>...</td>\n",
       "      <td>0</td>\n",
       "      <td>0</td>\n",
       "      <td>1</td>\n",
       "      <td>0</td>\n",
       "      <td>0</td>\n",
       "      <td>0</td>\n",
       "      <td>0</td>\n",
       "      <td>1</td>\n",
       "      <td>0</td>\n",
       "      <td>0</td>\n",
       "    </tr>\n",
       "    <tr>\n",
       "      <th>1</th>\n",
       "      <td>1</td>\n",
       "      <td>0</td>\n",
       "      <td>0</td>\n",
       "      <td>0</td>\n",
       "      <td>0</td>\n",
       "      <td>0</td>\n",
       "      <td>1</td>\n",
       "      <td>0</td>\n",
       "      <td>0</td>\n",
       "      <td>0</td>\n",
       "      <td>...</td>\n",
       "      <td>0</td>\n",
       "      <td>0</td>\n",
       "      <td>0</td>\n",
       "      <td>1</td>\n",
       "      <td>0</td>\n",
       "      <td>0</td>\n",
       "      <td>0</td>\n",
       "      <td>1</td>\n",
       "      <td>0</td>\n",
       "      <td>0</td>\n",
       "    </tr>\n",
       "    <tr>\n",
       "      <th>2</th>\n",
       "      <td>1</td>\n",
       "      <td>0</td>\n",
       "      <td>0</td>\n",
       "      <td>0</td>\n",
       "      <td>0</td>\n",
       "      <td>0</td>\n",
       "      <td>1</td>\n",
       "      <td>0</td>\n",
       "      <td>0</td>\n",
       "      <td>0</td>\n",
       "      <td>...</td>\n",
       "      <td>0</td>\n",
       "      <td>0</td>\n",
       "      <td>1</td>\n",
       "      <td>0</td>\n",
       "      <td>0</td>\n",
       "      <td>0</td>\n",
       "      <td>0</td>\n",
       "      <td>1</td>\n",
       "      <td>0</td>\n",
       "      <td>0</td>\n",
       "    </tr>\n",
       "    <tr>\n",
       "      <th>3</th>\n",
       "      <td>1</td>\n",
       "      <td>0</td>\n",
       "      <td>0</td>\n",
       "      <td>0</td>\n",
       "      <td>0</td>\n",
       "      <td>0</td>\n",
       "      <td>1</td>\n",
       "      <td>0</td>\n",
       "      <td>0</td>\n",
       "      <td>0</td>\n",
       "      <td>...</td>\n",
       "      <td>1</td>\n",
       "      <td>0</td>\n",
       "      <td>0</td>\n",
       "      <td>0</td>\n",
       "      <td>0</td>\n",
       "      <td>0</td>\n",
       "      <td>0</td>\n",
       "      <td>1</td>\n",
       "      <td>0</td>\n",
       "      <td>0</td>\n",
       "    </tr>\n",
       "    <tr>\n",
       "      <th>4</th>\n",
       "      <td>1</td>\n",
       "      <td>0</td>\n",
       "      <td>0</td>\n",
       "      <td>0</td>\n",
       "      <td>0</td>\n",
       "      <td>0</td>\n",
       "      <td>1</td>\n",
       "      <td>0</td>\n",
       "      <td>0</td>\n",
       "      <td>0</td>\n",
       "      <td>...</td>\n",
       "      <td>0</td>\n",
       "      <td>0</td>\n",
       "      <td>0</td>\n",
       "      <td>1</td>\n",
       "      <td>0</td>\n",
       "      <td>1</td>\n",
       "      <td>0</td>\n",
       "      <td>0</td>\n",
       "      <td>0</td>\n",
       "      <td>0</td>\n",
       "    </tr>\n",
       "  </tbody>\n",
       "</table>\n",
       "<p>5 rows × 47 columns</p>\n",
       "</div>"
      ],
      "text/plain": [
       "   from_area_id_Low Cancellation  from_area_id_Medium Cancellation  \\\n",
       "0                              1                                 0   \n",
       "1                              1                                 0   \n",
       "2                              1                                 0   \n",
       "3                              1                                 0   \n",
       "4                              1                                 0   \n",
       "\n",
       "   from_date_day_Monday  from_date_day_Saturday  from_date_day_Sunday  \\\n",
       "0                     0                       0                     0   \n",
       "1                     0                       0                     0   \n",
       "2                     0                       0                     0   \n",
       "3                     0                       0                     0   \n",
       "4                     0                       0                     0   \n",
       "\n",
       "   from_date_day_Thursday  from_date_day_Tuesday  from_date_day_Wednesday  \\\n",
       "0                       0                      1                        0   \n",
       "1                       0                      1                        0   \n",
       "2                       0                      1                        0   \n",
       "3                       0                      1                        0   \n",
       "4                       0                      1                        0   \n",
       "\n",
       "   booking_created_day_Monday  booking_created_day_Saturday  ...  \\\n",
       "0                           0                             0  ...   \n",
       "1                           0                             0  ...   \n",
       "2                           0                             0  ...   \n",
       "3                           0                             0  ...   \n",
       "4                           0                             0  ...   \n",
       "\n",
       "   from_date_session_Early Morning  from_date_session_Evening  \\\n",
       "0                                0                          0   \n",
       "1                                0                          0   \n",
       "2                                0                          0   \n",
       "3                                1                          0   \n",
       "4                                0                          0   \n",
       "\n",
       "   from_date_session_Late Night  from_date_session_Morning  \\\n",
       "0                             1                          0   \n",
       "1                             0                          1   \n",
       "2                             1                          0   \n",
       "3                             0                          0   \n",
       "4                             0                          1   \n",
       "\n",
       "   from_date_session_Night  booking_created_session_Early Morning  \\\n",
       "0                        0                                      0   \n",
       "1                        0                                      0   \n",
       "2                        0                                      0   \n",
       "3                        0                                      0   \n",
       "4                        0                                      1   \n",
       "\n",
       "   booking_created_session_Evening  booking_created_session_Late Night  \\\n",
       "0                                0                                   1   \n",
       "1                                0                                   1   \n",
       "2                                0                                   1   \n",
       "3                                0                                   1   \n",
       "4                                0                                   0   \n",
       "\n",
       "   booking_created_session_Morning  booking_created_session_Night  \n",
       "0                                0                              0  \n",
       "1                                0                              0  \n",
       "2                                0                              0  \n",
       "3                                0                              0  \n",
       "4                                0                              0  \n",
       "\n",
       "[5 rows x 47 columns]"
      ]
     },
     "execution_count": 53,
     "metadata": {},
     "output_type": "execute_result"
    }
   ],
   "source": [
    "X_char_dum.head()"
   ]
  },
  {
   "cell_type": "code",
   "execution_count": 54,
   "id": "10be2f95",
   "metadata": {
    "execution": {
     "iopub.execute_input": "2022-03-14T19:36:44.534758Z",
     "iopub.status.busy": "2022-03-14T19:36:44.534144Z",
     "iopub.status.idle": "2022-03-14T19:36:44.538077Z",
     "shell.execute_reply": "2022-03-14T19:36:44.538517Z",
     "shell.execute_reply.started": "2022-03-14T19:26:33.346422Z"
    },
    "papermill": {
     "duration": 0.091633,
     "end_time": "2022-03-14T19:36:44.538700",
     "exception": false,
     "start_time": "2022-03-14T19:36:44.447067",
     "status": "completed"
    },
    "tags": []
   },
   "outputs": [],
   "source": [
    "data_all = pd.concat([num,X_char_dum],axis=1,join='inner')"
   ]
  },
  {
   "cell_type": "code",
   "execution_count": 55,
   "id": "24ded958",
   "metadata": {
    "execution": {
     "iopub.execute_input": "2022-03-14T19:36:44.706544Z",
     "iopub.status.busy": "2022-03-14T19:36:44.705913Z",
     "iopub.status.idle": "2022-03-14T19:36:44.722163Z",
     "shell.execute_reply": "2022-03-14T19:36:44.722579Z",
     "shell.execute_reply.started": "2022-03-14T19:26:33.356604Z"
    },
    "papermill": {
     "duration": 0.101463,
     "end_time": "2022-03-14T19:36:44.722756",
     "exception": false,
     "start_time": "2022-03-14T19:36:44.621293",
     "status": "completed"
    },
    "tags": []
   },
   "outputs": [
    {
     "data": {
      "text/html": [
       "<div>\n",
       "<style scoped>\n",
       "    .dataframe tbody tr th:only-of-type {\n",
       "        vertical-align: middle;\n",
       "    }\n",
       "\n",
       "    .dataframe tbody tr th {\n",
       "        vertical-align: top;\n",
       "    }\n",
       "\n",
       "    .dataframe thead th {\n",
       "        text-align: right;\n",
       "    }\n",
       "</style>\n",
       "<table border=\"1\" class=\"dataframe\">\n",
       "  <thead>\n",
       "    <tr style=\"text-align: right;\">\n",
       "      <th></th>\n",
       "      <th>online_booking</th>\n",
       "      <th>mobile_site_booking</th>\n",
       "      <th>traveltype_pointtopoint</th>\n",
       "      <th>traveltype_hourly</th>\n",
       "      <th>distance</th>\n",
       "      <th>time_diff</th>\n",
       "      <th>from_area_id_Low Cancellation</th>\n",
       "      <th>from_area_id_Medium Cancellation</th>\n",
       "      <th>from_date_day_Monday</th>\n",
       "      <th>from_date_day_Saturday</th>\n",
       "      <th>...</th>\n",
       "      <th>from_date_session_Early Morning</th>\n",
       "      <th>from_date_session_Evening</th>\n",
       "      <th>from_date_session_Late Night</th>\n",
       "      <th>from_date_session_Morning</th>\n",
       "      <th>from_date_session_Night</th>\n",
       "      <th>booking_created_session_Early Morning</th>\n",
       "      <th>booking_created_session_Evening</th>\n",
       "      <th>booking_created_session_Late Night</th>\n",
       "      <th>booking_created_session_Morning</th>\n",
       "      <th>booking_created_session_Night</th>\n",
       "    </tr>\n",
       "  </thead>\n",
       "  <tbody>\n",
       "    <tr>\n",
       "      <th>0</th>\n",
       "      <td>0</td>\n",
       "      <td>0</td>\n",
       "      <td>1</td>\n",
       "      <td>0</td>\n",
       "      <td>3.980687</td>\n",
       "      <td>21.0</td>\n",
       "      <td>1</td>\n",
       "      <td>0</td>\n",
       "      <td>0</td>\n",
       "      <td>0</td>\n",
       "      <td>...</td>\n",
       "      <td>0</td>\n",
       "      <td>0</td>\n",
       "      <td>1</td>\n",
       "      <td>0</td>\n",
       "      <td>0</td>\n",
       "      <td>0</td>\n",
       "      <td>0</td>\n",
       "      <td>1</td>\n",
       "      <td>0</td>\n",
       "      <td>0</td>\n",
       "    </tr>\n",
       "    <tr>\n",
       "      <th>1</th>\n",
       "      <td>0</td>\n",
       "      <td>0</td>\n",
       "      <td>1</td>\n",
       "      <td>0</td>\n",
       "      <td>14.004432</td>\n",
       "      <td>395.0</td>\n",
       "      <td>1</td>\n",
       "      <td>0</td>\n",
       "      <td>0</td>\n",
       "      <td>0</td>\n",
       "      <td>...</td>\n",
       "      <td>0</td>\n",
       "      <td>0</td>\n",
       "      <td>0</td>\n",
       "      <td>1</td>\n",
       "      <td>0</td>\n",
       "      <td>0</td>\n",
       "      <td>0</td>\n",
       "      <td>1</td>\n",
       "      <td>0</td>\n",
       "      <td>0</td>\n",
       "    </tr>\n",
       "    <tr>\n",
       "      <th>2</th>\n",
       "      <td>0</td>\n",
       "      <td>0</td>\n",
       "      <td>1</td>\n",
       "      <td>0</td>\n",
       "      <td>12.648909</td>\n",
       "      <td>22.0</td>\n",
       "      <td>1</td>\n",
       "      <td>0</td>\n",
       "      <td>0</td>\n",
       "      <td>0</td>\n",
       "      <td>...</td>\n",
       "      <td>0</td>\n",
       "      <td>0</td>\n",
       "      <td>1</td>\n",
       "      <td>0</td>\n",
       "      <td>0</td>\n",
       "      <td>0</td>\n",
       "      <td>0</td>\n",
       "      <td>1</td>\n",
       "      <td>0</td>\n",
       "      <td>0</td>\n",
       "    </tr>\n",
       "    <tr>\n",
       "      <th>3</th>\n",
       "      <td>0</td>\n",
       "      <td>0</td>\n",
       "      <td>1</td>\n",
       "      <td>0</td>\n",
       "      <td>9.534596</td>\n",
       "      <td>66.0</td>\n",
       "      <td>1</td>\n",
       "      <td>0</td>\n",
       "      <td>0</td>\n",
       "      <td>0</td>\n",
       "      <td>...</td>\n",
       "      <td>1</td>\n",
       "      <td>0</td>\n",
       "      <td>0</td>\n",
       "      <td>0</td>\n",
       "      <td>0</td>\n",
       "      <td>0</td>\n",
       "      <td>0</td>\n",
       "      <td>1</td>\n",
       "      <td>0</td>\n",
       "      <td>0</td>\n",
       "    </tr>\n",
       "    <tr>\n",
       "      <th>4</th>\n",
       "      <td>0</td>\n",
       "      <td>0</td>\n",
       "      <td>1</td>\n",
       "      <td>0</td>\n",
       "      <td>14.655467</td>\n",
       "      <td>67.0</td>\n",
       "      <td>1</td>\n",
       "      <td>0</td>\n",
       "      <td>0</td>\n",
       "      <td>0</td>\n",
       "      <td>...</td>\n",
       "      <td>0</td>\n",
       "      <td>0</td>\n",
       "      <td>0</td>\n",
       "      <td>1</td>\n",
       "      <td>0</td>\n",
       "      <td>1</td>\n",
       "      <td>0</td>\n",
       "      <td>0</td>\n",
       "      <td>0</td>\n",
       "      <td>0</td>\n",
       "    </tr>\n",
       "  </tbody>\n",
       "</table>\n",
       "<p>5 rows × 53 columns</p>\n",
       "</div>"
      ],
      "text/plain": [
       "   online_booking  mobile_site_booking  traveltype_pointtopoint  \\\n",
       "0               0                    0                        1   \n",
       "1               0                    0                        1   \n",
       "2               0                    0                        1   \n",
       "3               0                    0                        1   \n",
       "4               0                    0                        1   \n",
       "\n",
       "   traveltype_hourly   distance  time_diff  from_area_id_Low Cancellation  \\\n",
       "0                  0   3.980687       21.0                              1   \n",
       "1                  0  14.004432      395.0                              1   \n",
       "2                  0  12.648909       22.0                              1   \n",
       "3                  0   9.534596       66.0                              1   \n",
       "4                  0  14.655467       67.0                              1   \n",
       "\n",
       "   from_area_id_Medium Cancellation  from_date_day_Monday  \\\n",
       "0                                 0                     0   \n",
       "1                                 0                     0   \n",
       "2                                 0                     0   \n",
       "3                                 0                     0   \n",
       "4                                 0                     0   \n",
       "\n",
       "   from_date_day_Saturday  ...  from_date_session_Early Morning  \\\n",
       "0                       0  ...                                0   \n",
       "1                       0  ...                                0   \n",
       "2                       0  ...                                0   \n",
       "3                       0  ...                                1   \n",
       "4                       0  ...                                0   \n",
       "\n",
       "   from_date_session_Evening  from_date_session_Late Night  \\\n",
       "0                          0                             1   \n",
       "1                          0                             0   \n",
       "2                          0                             1   \n",
       "3                          0                             0   \n",
       "4                          0                             0   \n",
       "\n",
       "   from_date_session_Morning  from_date_session_Night  \\\n",
       "0                          0                        0   \n",
       "1                          1                        0   \n",
       "2                          0                        0   \n",
       "3                          0                        0   \n",
       "4                          1                        0   \n",
       "\n",
       "   booking_created_session_Early Morning  booking_created_session_Evening  \\\n",
       "0                                      0                                0   \n",
       "1                                      0                                0   \n",
       "2                                      0                                0   \n",
       "3                                      0                                0   \n",
       "4                                      1                                0   \n",
       "\n",
       "   booking_created_session_Late Night  booking_created_session_Morning  \\\n",
       "0                                   1                                0   \n",
       "1                                   1                                0   \n",
       "2                                   1                                0   \n",
       "3                                   1                                0   \n",
       "4                                   0                                0   \n",
       "\n",
       "   booking_created_session_Night  \n",
       "0                              0  \n",
       "1                              0  \n",
       "2                              0  \n",
       "3                              0  \n",
       "4                              0  \n",
       "\n",
       "[5 rows x 53 columns]"
      ]
     },
     "execution_count": 55,
     "metadata": {},
     "output_type": "execute_result"
    }
   ],
   "source": [
    "data_all.head()"
   ]
  },
  {
   "cell_type": "code",
   "execution_count": 56,
   "id": "3d402332",
   "metadata": {
    "execution": {
     "iopub.execute_input": "2022-03-14T19:36:44.890745Z",
     "iopub.status.busy": "2022-03-14T19:36:44.890161Z",
     "iopub.status.idle": "2022-03-14T19:36:44.894313Z",
     "shell.execute_reply": "2022-03-14T19:36:44.894783Z",
     "shell.execute_reply.started": "2022-03-14T19:26:33.383457Z"
    },
    "papermill": {
     "duration": 0.089399,
     "end_time": "2022-03-14T19:36:44.894972",
     "exception": false,
     "start_time": "2022-03-14T19:36:44.805573",
     "status": "completed"
    },
    "tags": []
   },
   "outputs": [
    {
     "data": {
      "text/plain": [
       "(43431, 53)"
      ]
     },
     "execution_count": 56,
     "metadata": {},
     "output_type": "execute_result"
    }
   ],
   "source": [
    "data_all.shape"
   ]
  },
  {
   "cell_type": "markdown",
   "id": "3bb83e33",
   "metadata": {
    "papermill": {
     "duration": 0.082329,
     "end_time": "2022-03-14T19:36:45.059880",
     "exception": false,
     "start_time": "2022-03-14T19:36:44.977551",
     "status": "completed"
    },
    "tags": []
   },
   "source": [
    "## Train Test Split"
   ]
  },
  {
   "cell_type": "code",
   "execution_count": 57,
   "id": "9813a98d",
   "metadata": {
    "execution": {
     "iopub.execute_input": "2022-03-14T19:36:45.227413Z",
     "iopub.status.busy": "2022-03-14T19:36:45.226800Z",
     "iopub.status.idle": "2022-03-14T19:36:45.421093Z",
     "shell.execute_reply": "2022-03-14T19:36:45.420254Z",
     "shell.execute_reply.started": "2022-03-14T19:26:33.392202Z"
    },
    "papermill": {
     "duration": 0.279702,
     "end_time": "2022-03-14T19:36:45.421260",
     "exception": false,
     "start_time": "2022-03-14T19:36:45.141558",
     "status": "completed"
    },
    "tags": []
   },
   "outputs": [],
   "source": [
    "from sklearn.model_selection import train_test_split\n",
    "X_train,X_test,y_train,y_test = train_test_split(data_all,target,test_size=0.3,random_state=1)"
   ]
  },
  {
   "cell_type": "code",
   "execution_count": 58,
   "id": "38a9ad5d",
   "metadata": {
    "execution": {
     "iopub.execute_input": "2022-03-14T19:36:45.605176Z",
     "iopub.status.busy": "2022-03-14T19:36:45.604385Z",
     "iopub.status.idle": "2022-03-14T19:36:45.608304Z",
     "shell.execute_reply": "2022-03-14T19:36:45.607801Z",
     "shell.execute_reply.started": "2022-03-14T19:26:33.489275Z"
    },
    "papermill": {
     "duration": 0.103268,
     "end_time": "2022-03-14T19:36:45.608434",
     "exception": false,
     "start_time": "2022-03-14T19:36:45.505166",
     "status": "completed"
    },
    "tags": []
   },
   "outputs": [
    {
     "data": {
      "text/html": [
       "<div>\n",
       "<style scoped>\n",
       "    .dataframe tbody tr th:only-of-type {\n",
       "        vertical-align: middle;\n",
       "    }\n",
       "\n",
       "    .dataframe tbody tr th {\n",
       "        vertical-align: top;\n",
       "    }\n",
       "\n",
       "    .dataframe thead th {\n",
       "        text-align: right;\n",
       "    }\n",
       "</style>\n",
       "<table border=\"1\" class=\"dataframe\">\n",
       "  <thead>\n",
       "    <tr style=\"text-align: right;\">\n",
       "      <th></th>\n",
       "      <th>online_booking</th>\n",
       "      <th>mobile_site_booking</th>\n",
       "      <th>traveltype_pointtopoint</th>\n",
       "      <th>traveltype_hourly</th>\n",
       "      <th>distance</th>\n",
       "      <th>time_diff</th>\n",
       "      <th>from_area_id_Low Cancellation</th>\n",
       "      <th>from_area_id_Medium Cancellation</th>\n",
       "      <th>from_date_day_Monday</th>\n",
       "      <th>from_date_day_Saturday</th>\n",
       "      <th>...</th>\n",
       "      <th>from_date_session_Early Morning</th>\n",
       "      <th>from_date_session_Evening</th>\n",
       "      <th>from_date_session_Late Night</th>\n",
       "      <th>from_date_session_Morning</th>\n",
       "      <th>from_date_session_Night</th>\n",
       "      <th>booking_created_session_Early Morning</th>\n",
       "      <th>booking_created_session_Evening</th>\n",
       "      <th>booking_created_session_Late Night</th>\n",
       "      <th>booking_created_session_Morning</th>\n",
       "      <th>booking_created_session_Night</th>\n",
       "    </tr>\n",
       "  </thead>\n",
       "  <tbody>\n",
       "    <tr>\n",
       "      <th>21506</th>\n",
       "      <td>0</td>\n",
       "      <td>0</td>\n",
       "      <td>1</td>\n",
       "      <td>0</td>\n",
       "      <td>9.236426</td>\n",
       "      <td>2832.0</td>\n",
       "      <td>1</td>\n",
       "      <td>0</td>\n",
       "      <td>1</td>\n",
       "      <td>0</td>\n",
       "      <td>...</td>\n",
       "      <td>0</td>\n",
       "      <td>0</td>\n",
       "      <td>0</td>\n",
       "      <td>0</td>\n",
       "      <td>0</td>\n",
       "      <td>0</td>\n",
       "      <td>0</td>\n",
       "      <td>0</td>\n",
       "      <td>0</td>\n",
       "      <td>0</td>\n",
       "    </tr>\n",
       "    <tr>\n",
       "      <th>12367</th>\n",
       "      <td>0</td>\n",
       "      <td>1</td>\n",
       "      <td>1</td>\n",
       "      <td>0</td>\n",
       "      <td>1.809583</td>\n",
       "      <td>1504.0</td>\n",
       "      <td>1</td>\n",
       "      <td>0</td>\n",
       "      <td>1</td>\n",
       "      <td>0</td>\n",
       "      <td>...</td>\n",
       "      <td>0</td>\n",
       "      <td>0</td>\n",
       "      <td>0</td>\n",
       "      <td>1</td>\n",
       "      <td>0</td>\n",
       "      <td>0</td>\n",
       "      <td>0</td>\n",
       "      <td>0</td>\n",
       "      <td>1</td>\n",
       "      <td>0</td>\n",
       "    </tr>\n",
       "    <tr>\n",
       "      <th>5983</th>\n",
       "      <td>0</td>\n",
       "      <td>0</td>\n",
       "      <td>1</td>\n",
       "      <td>0</td>\n",
       "      <td>13.558000</td>\n",
       "      <td>214.0</td>\n",
       "      <td>1</td>\n",
       "      <td>0</td>\n",
       "      <td>0</td>\n",
       "      <td>1</td>\n",
       "      <td>...</td>\n",
       "      <td>0</td>\n",
       "      <td>0</td>\n",
       "      <td>0</td>\n",
       "      <td>0</td>\n",
       "      <td>1</td>\n",
       "      <td>0</td>\n",
       "      <td>1</td>\n",
       "      <td>0</td>\n",
       "      <td>0</td>\n",
       "      <td>0</td>\n",
       "    </tr>\n",
       "    <tr>\n",
       "      <th>18513</th>\n",
       "      <td>0</td>\n",
       "      <td>0</td>\n",
       "      <td>0</td>\n",
       "      <td>0</td>\n",
       "      <td>18.456702</td>\n",
       "      <td>37.0</td>\n",
       "      <td>1</td>\n",
       "      <td>0</td>\n",
       "      <td>0</td>\n",
       "      <td>0</td>\n",
       "      <td>...</td>\n",
       "      <td>1</td>\n",
       "      <td>0</td>\n",
       "      <td>0</td>\n",
       "      <td>0</td>\n",
       "      <td>0</td>\n",
       "      <td>1</td>\n",
       "      <td>0</td>\n",
       "      <td>0</td>\n",
       "      <td>0</td>\n",
       "      <td>0</td>\n",
       "    </tr>\n",
       "    <tr>\n",
       "      <th>16033</th>\n",
       "      <td>1</td>\n",
       "      <td>0</td>\n",
       "      <td>1</td>\n",
       "      <td>0</td>\n",
       "      <td>13.405912</td>\n",
       "      <td>128.0</td>\n",
       "      <td>1</td>\n",
       "      <td>0</td>\n",
       "      <td>0</td>\n",
       "      <td>0</td>\n",
       "      <td>...</td>\n",
       "      <td>0</td>\n",
       "      <td>0</td>\n",
       "      <td>0</td>\n",
       "      <td>0</td>\n",
       "      <td>1</td>\n",
       "      <td>0</td>\n",
       "      <td>1</td>\n",
       "      <td>0</td>\n",
       "      <td>0</td>\n",
       "      <td>0</td>\n",
       "    </tr>\n",
       "  </tbody>\n",
       "</table>\n",
       "<p>5 rows × 53 columns</p>\n",
       "</div>"
      ],
      "text/plain": [
       "       online_booking  mobile_site_booking  traveltype_pointtopoint  \\\n",
       "21506               0                    0                        1   \n",
       "12367               0                    1                        1   \n",
       "5983                0                    0                        1   \n",
       "18513               0                    0                        0   \n",
       "16033               1                    0                        1   \n",
       "\n",
       "       traveltype_hourly   distance  time_diff  from_area_id_Low Cancellation  \\\n",
       "21506                  0   9.236426     2832.0                              1   \n",
       "12367                  0   1.809583     1504.0                              1   \n",
       "5983                   0  13.558000      214.0                              1   \n",
       "18513                  0  18.456702       37.0                              1   \n",
       "16033                  0  13.405912      128.0                              1   \n",
       "\n",
       "       from_area_id_Medium Cancellation  from_date_day_Monday  \\\n",
       "21506                                 0                     1   \n",
       "12367                                 0                     1   \n",
       "5983                                  0                     0   \n",
       "18513                                 0                     0   \n",
       "16033                                 0                     0   \n",
       "\n",
       "       from_date_day_Saturday  ...  from_date_session_Early Morning  \\\n",
       "21506                       0  ...                                0   \n",
       "12367                       0  ...                                0   \n",
       "5983                        1  ...                                0   \n",
       "18513                       0  ...                                1   \n",
       "16033                       0  ...                                0   \n",
       "\n",
       "       from_date_session_Evening  from_date_session_Late Night  \\\n",
       "21506                          0                             0   \n",
       "12367                          0                             0   \n",
       "5983                           0                             0   \n",
       "18513                          0                             0   \n",
       "16033                          0                             0   \n",
       "\n",
       "       from_date_session_Morning  from_date_session_Night  \\\n",
       "21506                          0                        0   \n",
       "12367                          1                        0   \n",
       "5983                           0                        1   \n",
       "18513                          0                        0   \n",
       "16033                          0                        1   \n",
       "\n",
       "       booking_created_session_Early Morning  booking_created_session_Evening  \\\n",
       "21506                                      0                                0   \n",
       "12367                                      0                                0   \n",
       "5983                                       0                                1   \n",
       "18513                                      1                                0   \n",
       "16033                                      0                                1   \n",
       "\n",
       "       booking_created_session_Late Night  booking_created_session_Morning  \\\n",
       "21506                                   0                                0   \n",
       "12367                                   0                                1   \n",
       "5983                                    0                                0   \n",
       "18513                                   0                                0   \n",
       "16033                                   0                                0   \n",
       "\n",
       "       booking_created_session_Night  \n",
       "21506                              0  \n",
       "12367                              0  \n",
       "5983                               0  \n",
       "18513                              0  \n",
       "16033                              0  \n",
       "\n",
       "[5 rows x 53 columns]"
      ]
     },
     "execution_count": 58,
     "metadata": {},
     "output_type": "execute_result"
    }
   ],
   "source": [
    "X_train.head()"
   ]
  },
  {
   "cell_type": "code",
   "execution_count": 59,
   "id": "66c5f264",
   "metadata": {
    "execution": {
     "iopub.execute_input": "2022-03-14T19:36:45.792430Z",
     "iopub.status.busy": "2022-03-14T19:36:45.791469Z",
     "iopub.status.idle": "2022-03-14T19:36:45.795728Z",
     "shell.execute_reply": "2022-03-14T19:36:45.795287Z",
     "shell.execute_reply.started": "2022-03-14T19:26:33.514098Z"
    },
    "papermill": {
     "duration": 0.103653,
     "end_time": "2022-03-14T19:36:45.795915",
     "exception": false,
     "start_time": "2022-03-14T19:36:45.692262",
     "status": "completed"
    },
    "tags": []
   },
   "outputs": [
    {
     "data": {
      "text/html": [
       "<div>\n",
       "<style scoped>\n",
       "    .dataframe tbody tr th:only-of-type {\n",
       "        vertical-align: middle;\n",
       "    }\n",
       "\n",
       "    .dataframe tbody tr th {\n",
       "        vertical-align: top;\n",
       "    }\n",
       "\n",
       "    .dataframe thead th {\n",
       "        text-align: right;\n",
       "    }\n",
       "</style>\n",
       "<table border=\"1\" class=\"dataframe\">\n",
       "  <thead>\n",
       "    <tr style=\"text-align: right;\">\n",
       "      <th></th>\n",
       "      <th>online_booking</th>\n",
       "      <th>mobile_site_booking</th>\n",
       "      <th>traveltype_pointtopoint</th>\n",
       "      <th>traveltype_hourly</th>\n",
       "      <th>distance</th>\n",
       "      <th>time_diff</th>\n",
       "      <th>from_area_id_Low Cancellation</th>\n",
       "      <th>from_area_id_Medium Cancellation</th>\n",
       "      <th>from_date_day_Monday</th>\n",
       "      <th>from_date_day_Saturday</th>\n",
       "      <th>...</th>\n",
       "      <th>from_date_session_Early Morning</th>\n",
       "      <th>from_date_session_Evening</th>\n",
       "      <th>from_date_session_Late Night</th>\n",
       "      <th>from_date_session_Morning</th>\n",
       "      <th>from_date_session_Night</th>\n",
       "      <th>booking_created_session_Early Morning</th>\n",
       "      <th>booking_created_session_Evening</th>\n",
       "      <th>booking_created_session_Late Night</th>\n",
       "      <th>booking_created_session_Morning</th>\n",
       "      <th>booking_created_session_Night</th>\n",
       "    </tr>\n",
       "  </thead>\n",
       "  <tbody>\n",
       "    <tr>\n",
       "      <th>26610</th>\n",
       "      <td>0</td>\n",
       "      <td>0</td>\n",
       "      <td>0</td>\n",
       "      <td>1</td>\n",
       "      <td>3.417640</td>\n",
       "      <td>208.0</td>\n",
       "      <td>1</td>\n",
       "      <td>0</td>\n",
       "      <td>0</td>\n",
       "      <td>0</td>\n",
       "      <td>...</td>\n",
       "      <td>0</td>\n",
       "      <td>0</td>\n",
       "      <td>0</td>\n",
       "      <td>0</td>\n",
       "      <td>0</td>\n",
       "      <td>0</td>\n",
       "      <td>0</td>\n",
       "      <td>0</td>\n",
       "      <td>1</td>\n",
       "      <td>0</td>\n",
       "    </tr>\n",
       "    <tr>\n",
       "      <th>38515</th>\n",
       "      <td>0</td>\n",
       "      <td>0</td>\n",
       "      <td>0</td>\n",
       "      <td>1</td>\n",
       "      <td>4.104127</td>\n",
       "      <td>69.0</td>\n",
       "      <td>1</td>\n",
       "      <td>0</td>\n",
       "      <td>0</td>\n",
       "      <td>1</td>\n",
       "      <td>...</td>\n",
       "      <td>0</td>\n",
       "      <td>0</td>\n",
       "      <td>0</td>\n",
       "      <td>1</td>\n",
       "      <td>0</td>\n",
       "      <td>0</td>\n",
       "      <td>0</td>\n",
       "      <td>0</td>\n",
       "      <td>1</td>\n",
       "      <td>0</td>\n",
       "    </tr>\n",
       "    <tr>\n",
       "      <th>29806</th>\n",
       "      <td>0</td>\n",
       "      <td>1</td>\n",
       "      <td>0</td>\n",
       "      <td>1</td>\n",
       "      <td>11.849498</td>\n",
       "      <td>457.0</td>\n",
       "      <td>1</td>\n",
       "      <td>0</td>\n",
       "      <td>0</td>\n",
       "      <td>0</td>\n",
       "      <td>...</td>\n",
       "      <td>0</td>\n",
       "      <td>1</td>\n",
       "      <td>0</td>\n",
       "      <td>0</td>\n",
       "      <td>0</td>\n",
       "      <td>0</td>\n",
       "      <td>0</td>\n",
       "      <td>0</td>\n",
       "      <td>1</td>\n",
       "      <td>0</td>\n",
       "    </tr>\n",
       "    <tr>\n",
       "      <th>28868</th>\n",
       "      <td>0</td>\n",
       "      <td>0</td>\n",
       "      <td>0</td>\n",
       "      <td>1</td>\n",
       "      <td>8.116004</td>\n",
       "      <td>2371.0</td>\n",
       "      <td>1</td>\n",
       "      <td>0</td>\n",
       "      <td>0</td>\n",
       "      <td>0</td>\n",
       "      <td>...</td>\n",
       "      <td>0</td>\n",
       "      <td>0</td>\n",
       "      <td>0</td>\n",
       "      <td>1</td>\n",
       "      <td>0</td>\n",
       "      <td>0</td>\n",
       "      <td>1</td>\n",
       "      <td>0</td>\n",
       "      <td>0</td>\n",
       "      <td>0</td>\n",
       "    </tr>\n",
       "    <tr>\n",
       "      <th>11163</th>\n",
       "      <td>1</td>\n",
       "      <td>0</td>\n",
       "      <td>1</td>\n",
       "      <td>0</td>\n",
       "      <td>27.427907</td>\n",
       "      <td>444.0</td>\n",
       "      <td>1</td>\n",
       "      <td>0</td>\n",
       "      <td>0</td>\n",
       "      <td>0</td>\n",
       "      <td>...</td>\n",
       "      <td>0</td>\n",
       "      <td>1</td>\n",
       "      <td>0</td>\n",
       "      <td>0</td>\n",
       "      <td>0</td>\n",
       "      <td>0</td>\n",
       "      <td>0</td>\n",
       "      <td>0</td>\n",
       "      <td>1</td>\n",
       "      <td>0</td>\n",
       "    </tr>\n",
       "  </tbody>\n",
       "</table>\n",
       "<p>5 rows × 53 columns</p>\n",
       "</div>"
      ],
      "text/plain": [
       "       online_booking  mobile_site_booking  traveltype_pointtopoint  \\\n",
       "26610               0                    0                        0   \n",
       "38515               0                    0                        0   \n",
       "29806               0                    1                        0   \n",
       "28868               0                    0                        0   \n",
       "11163               1                    0                        1   \n",
       "\n",
       "       traveltype_hourly   distance  time_diff  from_area_id_Low Cancellation  \\\n",
       "26610                  1   3.417640      208.0                              1   \n",
       "38515                  1   4.104127       69.0                              1   \n",
       "29806                  1  11.849498      457.0                              1   \n",
       "28868                  1   8.116004     2371.0                              1   \n",
       "11163                  0  27.427907      444.0                              1   \n",
       "\n",
       "       from_area_id_Medium Cancellation  from_date_day_Monday  \\\n",
       "26610                                 0                     0   \n",
       "38515                                 0                     0   \n",
       "29806                                 0                     0   \n",
       "28868                                 0                     0   \n",
       "11163                                 0                     0   \n",
       "\n",
       "       from_date_day_Saturday  ...  from_date_session_Early Morning  \\\n",
       "26610                       0  ...                                0   \n",
       "38515                       1  ...                                0   \n",
       "29806                       0  ...                                0   \n",
       "28868                       0  ...                                0   \n",
       "11163                       0  ...                                0   \n",
       "\n",
       "       from_date_session_Evening  from_date_session_Late Night  \\\n",
       "26610                          0                             0   \n",
       "38515                          0                             0   \n",
       "29806                          1                             0   \n",
       "28868                          0                             0   \n",
       "11163                          1                             0   \n",
       "\n",
       "       from_date_session_Morning  from_date_session_Night  \\\n",
       "26610                          0                        0   \n",
       "38515                          1                        0   \n",
       "29806                          0                        0   \n",
       "28868                          1                        0   \n",
       "11163                          0                        0   \n",
       "\n",
       "       booking_created_session_Early Morning  booking_created_session_Evening  \\\n",
       "26610                                      0                                0   \n",
       "38515                                      0                                0   \n",
       "29806                                      0                                0   \n",
       "28868                                      0                                1   \n",
       "11163                                      0                                0   \n",
       "\n",
       "       booking_created_session_Late Night  booking_created_session_Morning  \\\n",
       "26610                                   0                                1   \n",
       "38515                                   0                                1   \n",
       "29806                                   0                                1   \n",
       "28868                                   0                                0   \n",
       "11163                                   0                                1   \n",
       "\n",
       "       booking_created_session_Night  \n",
       "26610                              0  \n",
       "38515                              0  \n",
       "29806                              0  \n",
       "28868                              0  \n",
       "11163                              0  \n",
       "\n",
       "[5 rows x 53 columns]"
      ]
     },
     "execution_count": 59,
     "metadata": {},
     "output_type": "execute_result"
    }
   ],
   "source": [
    "X_test.head()"
   ]
  },
  {
   "cell_type": "code",
   "execution_count": 60,
   "id": "9218c497",
   "metadata": {
    "execution": {
     "iopub.execute_input": "2022-03-14T19:36:45.968980Z",
     "iopub.status.busy": "2022-03-14T19:36:45.968082Z",
     "iopub.status.idle": "2022-03-14T19:36:45.971162Z",
     "shell.execute_reply": "2022-03-14T19:36:45.970537Z",
     "shell.execute_reply.started": "2022-03-14T19:26:33.542163Z"
    },
    "papermill": {
     "duration": 0.091308,
     "end_time": "2022-03-14T19:36:45.971312",
     "exception": false,
     "start_time": "2022-03-14T19:36:45.880004",
     "status": "completed"
    },
    "tags": []
   },
   "outputs": [],
   "source": [
    "import warnings\n",
    "warnings.filterwarnings('ignore')"
   ]
  },
  {
   "cell_type": "markdown",
   "id": "065378f7",
   "metadata": {
    "papermill": {
     "duration": 0.086454,
     "end_time": "2022-03-14T19:36:46.141648",
     "exception": false,
     "start_time": "2022-03-14T19:36:46.055194",
     "status": "completed"
    },
    "tags": []
   },
   "source": [
    "## Model Building"
   ]
  },
  {
   "cell_type": "code",
   "execution_count": 61,
   "id": "722c748b",
   "metadata": {
    "execution": {
     "iopub.execute_input": "2022-03-14T19:36:46.315859Z",
     "iopub.status.busy": "2022-03-14T19:36:46.315221Z",
     "iopub.status.idle": "2022-03-14T19:36:47.066728Z",
     "shell.execute_reply": "2022-03-14T19:36:47.067693Z",
     "shell.execute_reply.started": "2022-03-14T19:26:33.553011Z"
    },
    "papermill": {
     "duration": 0.842469,
     "end_time": "2022-03-14T19:36:47.068019",
     "exception": false,
     "start_time": "2022-03-14T19:36:46.225550",
     "status": "completed"
    },
    "tags": []
   },
   "outputs": [
    {
     "data": {
      "text/plain": [
       "LogisticRegression(random_state=4)"
      ]
     },
     "execution_count": 61,
     "metadata": {},
     "output_type": "execute_result"
    }
   ],
   "source": [
    "from sklearn.linear_model import LogisticRegression\n",
    "lr = LogisticRegression(random_state=4)\n",
    "lr.fit(X_train,y_train)"
   ]
  },
  {
   "cell_type": "code",
   "execution_count": 62,
   "id": "322b02fa",
   "metadata": {
    "execution": {
     "iopub.execute_input": "2022-03-14T19:36:47.302112Z",
     "iopub.status.busy": "2022-03-14T19:36:47.301417Z",
     "iopub.status.idle": "2022-03-14T19:36:47.382629Z",
     "shell.execute_reply": "2022-03-14T19:36:47.382117Z",
     "shell.execute_reply.started": "2022-03-14T19:26:34.299198Z"
    },
    "papermill": {
     "duration": 0.171881,
     "end_time": "2022-03-14T19:36:47.382787",
     "exception": false,
     "start_time": "2022-03-14T19:36:47.210906",
     "status": "completed"
    },
    "tags": []
   },
   "outputs": [],
   "source": [
    "from sklearn.tree import DecisionTreeClassifier\n",
    "dtc = DecisionTreeClassifier(criterion='gini',random_state=4)"
   ]
  },
  {
   "cell_type": "code",
   "execution_count": 63,
   "id": "133e3d6b",
   "metadata": {
    "execution": {
     "iopub.execute_input": "2022-03-14T19:36:47.560265Z",
     "iopub.status.busy": "2022-03-14T19:36:47.559618Z",
     "iopub.status.idle": "2022-03-14T19:36:58.252922Z",
     "shell.execute_reply": "2022-03-14T19:36:58.252420Z",
     "shell.execute_reply.started": "2022-03-14T19:26:34.344697Z"
    },
    "papermill": {
     "duration": 10.785472,
     "end_time": "2022-03-14T19:36:58.253064",
     "exception": false,
     "start_time": "2022-03-14T19:36:47.467592",
     "status": "completed"
    },
    "tags": []
   },
   "outputs": [
    {
     "data": {
      "text/plain": [
       "GridSearchCV(cv=10, estimator=DecisionTreeClassifier(random_state=4), n_jobs=-1,\n",
       "             param_grid={'max_depth': [3, 5, 6, 7],\n",
       "                         'min_samples_split': [50, 100, 150, 200, 250]})"
      ]
     },
     "execution_count": 63,
     "metadata": {},
     "output_type": "execute_result"
    }
   ],
   "source": [
    "from sklearn.model_selection import GridSearchCV\n",
    "param_dist = {'max_depth': [3, 5, 6, 7], 'min_samples_split': [50, 100, 150, 200, 250]}\n",
    "gscv_dtc = GridSearchCV(dtc, cv=10, param_grid=param_dist, n_jobs=-1)\n",
    "gscv_dtc.fit(X_train,y_train)"
   ]
  },
  {
   "cell_type": "code",
   "execution_count": 64,
   "id": "b8b86f4c",
   "metadata": {
    "execution": {
     "iopub.execute_input": "2022-03-14T19:36:58.430843Z",
     "iopub.status.busy": "2022-03-14T19:36:58.429908Z",
     "iopub.status.idle": "2022-03-14T19:36:58.435444Z",
     "shell.execute_reply": "2022-03-14T19:36:58.436024Z",
     "shell.execute_reply.started": "2022-03-14T19:26:45.541999Z"
    },
    "papermill": {
     "duration": 0.09479,
     "end_time": "2022-03-14T19:36:58.436210",
     "exception": false,
     "start_time": "2022-03-14T19:36:58.341420",
     "status": "completed"
    },
    "tags": []
   },
   "outputs": [
    {
     "data": {
      "text/plain": [
       "{'max_depth': 7, 'min_samples_split': 50}"
      ]
     },
     "execution_count": 64,
     "metadata": {},
     "output_type": "execute_result"
    }
   ],
   "source": [
    "gscv_dtc.best_params_"
   ]
  },
  {
   "cell_type": "code",
   "execution_count": 65,
   "id": "e70b2147",
   "metadata": {
    "execution": {
     "iopub.execute_input": "2022-03-14T19:36:58.611193Z",
     "iopub.status.busy": "2022-03-14T19:36:58.610256Z",
     "iopub.status.idle": "2022-03-14T19:36:58.735516Z",
     "shell.execute_reply": "2022-03-14T19:36:58.734986Z",
     "shell.execute_reply.started": "2022-03-14T19:26:45.552197Z"
    },
    "papermill": {
     "duration": 0.213622,
     "end_time": "2022-03-14T19:36:58.735661",
     "exception": false,
     "start_time": "2022-03-14T19:36:58.522039",
     "status": "completed"
    },
    "tags": []
   },
   "outputs": [
    {
     "data": {
      "text/plain": [
       "DecisionTreeClassifier(max_depth=7, min_samples_split=50, random_state=4)"
      ]
     },
     "execution_count": 65,
     "metadata": {},
     "output_type": "execute_result"
    }
   ],
   "source": [
    "dtc=DecisionTreeClassifier(criterion='gini',random_state=4,max_depth=7,min_samples_split=50)\n",
    "dtc.fit(X_train,y_train)"
   ]
  },
  {
   "cell_type": "code",
   "execution_count": 66,
   "id": "5cd33007",
   "metadata": {
    "execution": {
     "iopub.execute_input": "2022-03-14T19:36:58.915266Z",
     "iopub.status.busy": "2022-03-14T19:36:58.914358Z",
     "iopub.status.idle": "2022-03-14T19:36:58.984953Z",
     "shell.execute_reply": "2022-03-14T19:36:58.984397Z",
     "shell.execute_reply.started": "2022-03-14T19:26:45.692830Z"
    },
    "papermill": {
     "duration": 0.161711,
     "end_time": "2022-03-14T19:36:58.985109",
     "exception": false,
     "start_time": "2022-03-14T19:36:58.823398",
     "status": "completed"
    },
    "tags": []
   },
   "outputs": [],
   "source": [
    "from sklearn.ensemble import RandomForestClassifier\n",
    "rfc = RandomForestClassifier(criterion='gini',random_state=4)"
   ]
  },
  {
   "cell_type": "code",
   "execution_count": 67,
   "id": "5196fd6b",
   "metadata": {
    "execution": {
     "iopub.execute_input": "2022-03-14T19:36:59.167464Z",
     "iopub.status.busy": "2022-03-14T19:36:59.166756Z",
     "iopub.status.idle": "2022-03-14T19:38:32.996123Z",
     "shell.execute_reply": "2022-03-14T19:38:32.996604Z",
     "shell.execute_reply.started": "2022-03-14T19:26:45.717633Z"
    },
    "papermill": {
     "duration": 93.922777,
     "end_time": "2022-03-14T19:38:32.996783",
     "exception": false,
     "start_time": "2022-03-14T19:36:59.074006",
     "status": "completed"
    },
    "tags": []
   },
   "outputs": [
    {
     "name": "stderr",
     "output_type": "stream",
     "text": [
      "/opt/conda/lib/python3.7/site-packages/sklearn/model_selection/_validation.py:681: DataConversionWarning: A column-vector y was passed when a 1d array was expected. Please change the shape of y to (n_samples,), for example using ravel().\n",
      "  estimator.fit(X_train, y_train, **fit_params)\n",
      "/opt/conda/lib/python3.7/site-packages/sklearn/model_selection/_validation.py:681: DataConversionWarning: A column-vector y was passed when a 1d array was expected. Please change the shape of y to (n_samples,), for example using ravel().\n",
      "  estimator.fit(X_train, y_train, **fit_params)\n",
      "/opt/conda/lib/python3.7/site-packages/sklearn/model_selection/_validation.py:681: DataConversionWarning: A column-vector y was passed when a 1d array was expected. Please change the shape of y to (n_samples,), for example using ravel().\n",
      "  estimator.fit(X_train, y_train, **fit_params)\n",
      "/opt/conda/lib/python3.7/site-packages/sklearn/model_selection/_validation.py:681: DataConversionWarning: A column-vector y was passed when a 1d array was expected. Please change the shape of y to (n_samples,), for example using ravel().\n",
      "  estimator.fit(X_train, y_train, **fit_params)\n",
      "/opt/conda/lib/python3.7/site-packages/sklearn/model_selection/_validation.py:681: DataConversionWarning: A column-vector y was passed when a 1d array was expected. Please change the shape of y to (n_samples,), for example using ravel().\n",
      "  estimator.fit(X_train, y_train, **fit_params)\n",
      "/opt/conda/lib/python3.7/site-packages/sklearn/model_selection/_validation.py:681: DataConversionWarning: A column-vector y was passed when a 1d array was expected. Please change the shape of y to (n_samples,), for example using ravel().\n",
      "  estimator.fit(X_train, y_train, **fit_params)\n",
      "/opt/conda/lib/python3.7/site-packages/sklearn/model_selection/_validation.py:681: DataConversionWarning: A column-vector y was passed when a 1d array was expected. Please change the shape of y to (n_samples,), for example using ravel().\n",
      "  estimator.fit(X_train, y_train, **fit_params)\n",
      "/opt/conda/lib/python3.7/site-packages/sklearn/model_selection/_validation.py:681: DataConversionWarning: A column-vector y was passed when a 1d array was expected. Please change the shape of y to (n_samples,), for example using ravel().\n",
      "  estimator.fit(X_train, y_train, **fit_params)\n",
      "/opt/conda/lib/python3.7/site-packages/sklearn/model_selection/_validation.py:681: DataConversionWarning: A column-vector y was passed when a 1d array was expected. Please change the shape of y to (n_samples,), for example using ravel().\n",
      "  estimator.fit(X_train, y_train, **fit_params)\n",
      "/opt/conda/lib/python3.7/site-packages/sklearn/model_selection/_validation.py:681: DataConversionWarning: A column-vector y was passed when a 1d array was expected. Please change the shape of y to (n_samples,), for example using ravel().\n",
      "  estimator.fit(X_train, y_train, **fit_params)\n",
      "/opt/conda/lib/python3.7/site-packages/sklearn/model_selection/_validation.py:681: DataConversionWarning: A column-vector y was passed when a 1d array was expected. Please change the shape of y to (n_samples,), for example using ravel().\n",
      "  estimator.fit(X_train, y_train, **fit_params)\n",
      "/opt/conda/lib/python3.7/site-packages/sklearn/model_selection/_validation.py:681: DataConversionWarning: A column-vector y was passed when a 1d array was expected. Please change the shape of y to (n_samples,), for example using ravel().\n",
      "  estimator.fit(X_train, y_train, **fit_params)\n",
      "/opt/conda/lib/python3.7/site-packages/sklearn/model_selection/_validation.py:681: DataConversionWarning: A column-vector y was passed when a 1d array was expected. Please change the shape of y to (n_samples,), for example using ravel().\n",
      "  estimator.fit(X_train, y_train, **fit_params)\n",
      "/opt/conda/lib/python3.7/site-packages/sklearn/model_selection/_validation.py:681: DataConversionWarning: A column-vector y was passed when a 1d array was expected. Please change the shape of y to (n_samples,), for example using ravel().\n",
      "  estimator.fit(X_train, y_train, **fit_params)\n",
      "/opt/conda/lib/python3.7/site-packages/sklearn/model_selection/_validation.py:681: DataConversionWarning: A column-vector y was passed when a 1d array was expected. Please change the shape of y to (n_samples,), for example using ravel().\n",
      "  estimator.fit(X_train, y_train, **fit_params)\n",
      "/opt/conda/lib/python3.7/site-packages/sklearn/model_selection/_validation.py:681: DataConversionWarning: A column-vector y was passed when a 1d array was expected. Please change the shape of y to (n_samples,), for example using ravel().\n",
      "  estimator.fit(X_train, y_train, **fit_params)\n",
      "/opt/conda/lib/python3.7/site-packages/sklearn/model_selection/_validation.py:681: DataConversionWarning: A column-vector y was passed when a 1d array was expected. Please change the shape of y to (n_samples,), for example using ravel().\n",
      "  estimator.fit(X_train, y_train, **fit_params)\n",
      "/opt/conda/lib/python3.7/site-packages/sklearn/model_selection/_validation.py:681: DataConversionWarning: A column-vector y was passed when a 1d array was expected. Please change the shape of y to (n_samples,), for example using ravel().\n",
      "  estimator.fit(X_train, y_train, **fit_params)\n",
      "/opt/conda/lib/python3.7/site-packages/sklearn/model_selection/_validation.py:681: DataConversionWarning: A column-vector y was passed when a 1d array was expected. Please change the shape of y to (n_samples,), for example using ravel().\n",
      "  estimator.fit(X_train, y_train, **fit_params)\n",
      "/opt/conda/lib/python3.7/site-packages/sklearn/model_selection/_validation.py:681: DataConversionWarning: A column-vector y was passed when a 1d array was expected. Please change the shape of y to (n_samples,), for example using ravel().\n",
      "  estimator.fit(X_train, y_train, **fit_params)\n",
      "/opt/conda/lib/python3.7/site-packages/sklearn/model_selection/_validation.py:681: DataConversionWarning: A column-vector y was passed when a 1d array was expected. Please change the shape of y to (n_samples,), for example using ravel().\n",
      "  estimator.fit(X_train, y_train, **fit_params)\n",
      "/opt/conda/lib/python3.7/site-packages/sklearn/model_selection/_validation.py:681: DataConversionWarning: A column-vector y was passed when a 1d array was expected. Please change the shape of y to (n_samples,), for example using ravel().\n",
      "  estimator.fit(X_train, y_train, **fit_params)\n",
      "/opt/conda/lib/python3.7/site-packages/sklearn/model_selection/_validation.py:681: DataConversionWarning: A column-vector y was passed when a 1d array was expected. Please change the shape of y to (n_samples,), for example using ravel().\n",
      "  estimator.fit(X_train, y_train, **fit_params)\n",
      "/opt/conda/lib/python3.7/site-packages/sklearn/model_selection/_validation.py:681: DataConversionWarning: A column-vector y was passed when a 1d array was expected. Please change the shape of y to (n_samples,), for example using ravel().\n",
      "  estimator.fit(X_train, y_train, **fit_params)\n",
      "/opt/conda/lib/python3.7/site-packages/sklearn/model_selection/_validation.py:681: DataConversionWarning: A column-vector y was passed when a 1d array was expected. Please change the shape of y to (n_samples,), for example using ravel().\n",
      "  estimator.fit(X_train, y_train, **fit_params)\n",
      "/opt/conda/lib/python3.7/site-packages/sklearn/model_selection/_validation.py:681: DataConversionWarning: A column-vector y was passed when a 1d array was expected. Please change the shape of y to (n_samples,), for example using ravel().\n",
      "  estimator.fit(X_train, y_train, **fit_params)\n",
      "/opt/conda/lib/python3.7/site-packages/sklearn/model_selection/_validation.py:681: DataConversionWarning: A column-vector y was passed when a 1d array was expected. Please change the shape of y to (n_samples,), for example using ravel().\n",
      "  estimator.fit(X_train, y_train, **fit_params)\n",
      "/opt/conda/lib/python3.7/site-packages/sklearn/model_selection/_validation.py:681: DataConversionWarning: A column-vector y was passed when a 1d array was expected. Please change the shape of y to (n_samples,), for example using ravel().\n",
      "  estimator.fit(X_train, y_train, **fit_params)\n",
      "/opt/conda/lib/python3.7/site-packages/sklearn/model_selection/_validation.py:681: DataConversionWarning: A column-vector y was passed when a 1d array was expected. Please change the shape of y to (n_samples,), for example using ravel().\n",
      "  estimator.fit(X_train, y_train, **fit_params)\n",
      "/opt/conda/lib/python3.7/site-packages/sklearn/model_selection/_validation.py:681: DataConversionWarning: A column-vector y was passed when a 1d array was expected. Please change the shape of y to (n_samples,), for example using ravel().\n",
      "  estimator.fit(X_train, y_train, **fit_params)\n",
      "/opt/conda/lib/python3.7/site-packages/sklearn/model_selection/_validation.py:681: DataConversionWarning: A column-vector y was passed when a 1d array was expected. Please change the shape of y to (n_samples,), for example using ravel().\n",
      "  estimator.fit(X_train, y_train, **fit_params)\n",
      "/opt/conda/lib/python3.7/site-packages/sklearn/model_selection/_validation.py:681: DataConversionWarning: A column-vector y was passed when a 1d array was expected. Please change the shape of y to (n_samples,), for example using ravel().\n",
      "  estimator.fit(X_train, y_train, **fit_params)\n",
      "/opt/conda/lib/python3.7/site-packages/sklearn/model_selection/_validation.py:681: DataConversionWarning: A column-vector y was passed when a 1d array was expected. Please change the shape of y to (n_samples,), for example using ravel().\n",
      "  estimator.fit(X_train, y_train, **fit_params)\n",
      "/opt/conda/lib/python3.7/site-packages/sklearn/model_selection/_validation.py:681: DataConversionWarning: A column-vector y was passed when a 1d array was expected. Please change the shape of y to (n_samples,), for example using ravel().\n",
      "  estimator.fit(X_train, y_train, **fit_params)\n",
      "/opt/conda/lib/python3.7/site-packages/sklearn/model_selection/_validation.py:681: DataConversionWarning: A column-vector y was passed when a 1d array was expected. Please change the shape of y to (n_samples,), for example using ravel().\n",
      "  estimator.fit(X_train, y_train, **fit_params)\n",
      "/opt/conda/lib/python3.7/site-packages/sklearn/model_selection/_validation.py:681: DataConversionWarning: A column-vector y was passed when a 1d array was expected. Please change the shape of y to (n_samples,), for example using ravel().\n",
      "  estimator.fit(X_train, y_train, **fit_params)\n",
      "/opt/conda/lib/python3.7/site-packages/sklearn/model_selection/_validation.py:681: DataConversionWarning: A column-vector y was passed when a 1d array was expected. Please change the shape of y to (n_samples,), for example using ravel().\n",
      "  estimator.fit(X_train, y_train, **fit_params)\n",
      "/opt/conda/lib/python3.7/site-packages/sklearn/model_selection/_validation.py:681: DataConversionWarning: A column-vector y was passed when a 1d array was expected. Please change the shape of y to (n_samples,), for example using ravel().\n",
      "  estimator.fit(X_train, y_train, **fit_params)\n",
      "/opt/conda/lib/python3.7/site-packages/sklearn/model_selection/_validation.py:681: DataConversionWarning: A column-vector y was passed when a 1d array was expected. Please change the shape of y to (n_samples,), for example using ravel().\n",
      "  estimator.fit(X_train, y_train, **fit_params)\n",
      "/opt/conda/lib/python3.7/site-packages/sklearn/model_selection/_validation.py:681: DataConversionWarning: A column-vector y was passed when a 1d array was expected. Please change the shape of y to (n_samples,), for example using ravel().\n",
      "  estimator.fit(X_train, y_train, **fit_params)\n",
      "/opt/conda/lib/python3.7/site-packages/sklearn/model_selection/_validation.py:681: DataConversionWarning: A column-vector y was passed when a 1d array was expected. Please change the shape of y to (n_samples,), for example using ravel().\n",
      "  estimator.fit(X_train, y_train, **fit_params)\n",
      "/opt/conda/lib/python3.7/site-packages/sklearn/model_selection/_validation.py:681: DataConversionWarning: A column-vector y was passed when a 1d array was expected. Please change the shape of y to (n_samples,), for example using ravel().\n",
      "  estimator.fit(X_train, y_train, **fit_params)\n",
      "/opt/conda/lib/python3.7/site-packages/sklearn/model_selection/_validation.py:681: DataConversionWarning: A column-vector y was passed when a 1d array was expected. Please change the shape of y to (n_samples,), for example using ravel().\n",
      "  estimator.fit(X_train, y_train, **fit_params)\n",
      "/opt/conda/lib/python3.7/site-packages/sklearn/model_selection/_validation.py:681: DataConversionWarning: A column-vector y was passed when a 1d array was expected. Please change the shape of y to (n_samples,), for example using ravel().\n",
      "  estimator.fit(X_train, y_train, **fit_params)\n",
      "/opt/conda/lib/python3.7/site-packages/sklearn/model_selection/_validation.py:681: DataConversionWarning: A column-vector y was passed when a 1d array was expected. Please change the shape of y to (n_samples,), for example using ravel().\n",
      "  estimator.fit(X_train, y_train, **fit_params)\n",
      "/opt/conda/lib/python3.7/site-packages/sklearn/model_selection/_validation.py:681: DataConversionWarning: A column-vector y was passed when a 1d array was expected. Please change the shape of y to (n_samples,), for example using ravel().\n",
      "  estimator.fit(X_train, y_train, **fit_params)\n",
      "/opt/conda/lib/python3.7/site-packages/sklearn/model_selection/_validation.py:681: DataConversionWarning: A column-vector y was passed when a 1d array was expected. Please change the shape of y to (n_samples,), for example using ravel().\n",
      "  estimator.fit(X_train, y_train, **fit_params)\n",
      "/opt/conda/lib/python3.7/site-packages/sklearn/model_selection/_validation.py:681: DataConversionWarning: A column-vector y was passed when a 1d array was expected. Please change the shape of y to (n_samples,), for example using ravel().\n",
      "  estimator.fit(X_train, y_train, **fit_params)\n",
      "/opt/conda/lib/python3.7/site-packages/sklearn/model_selection/_validation.py:681: DataConversionWarning: A column-vector y was passed when a 1d array was expected. Please change the shape of y to (n_samples,), for example using ravel().\n",
      "  estimator.fit(X_train, y_train, **fit_params)\n",
      "/opt/conda/lib/python3.7/site-packages/sklearn/model_selection/_validation.py:681: DataConversionWarning: A column-vector y was passed when a 1d array was expected. Please change the shape of y to (n_samples,), for example using ravel().\n",
      "  estimator.fit(X_train, y_train, **fit_params)\n",
      "/opt/conda/lib/python3.7/site-packages/sklearn/model_selection/_validation.py:681: DataConversionWarning: A column-vector y was passed when a 1d array was expected. Please change the shape of y to (n_samples,), for example using ravel().\n",
      "  estimator.fit(X_train, y_train, **fit_params)\n",
      "/opt/conda/lib/python3.7/site-packages/sklearn/model_selection/_validation.py:681: DataConversionWarning: A column-vector y was passed when a 1d array was expected. Please change the shape of y to (n_samples,), for example using ravel().\n",
      "  estimator.fit(X_train, y_train, **fit_params)\n",
      "/opt/conda/lib/python3.7/site-packages/sklearn/model_selection/_validation.py:681: DataConversionWarning: A column-vector y was passed when a 1d array was expected. Please change the shape of y to (n_samples,), for example using ravel().\n",
      "  estimator.fit(X_train, y_train, **fit_params)\n",
      "/opt/conda/lib/python3.7/site-packages/sklearn/model_selection/_validation.py:681: DataConversionWarning: A column-vector y was passed when a 1d array was expected. Please change the shape of y to (n_samples,), for example using ravel().\n",
      "  estimator.fit(X_train, y_train, **fit_params)\n",
      "/opt/conda/lib/python3.7/site-packages/sklearn/model_selection/_validation.py:681: DataConversionWarning: A column-vector y was passed when a 1d array was expected. Please change the shape of y to (n_samples,), for example using ravel().\n",
      "  estimator.fit(X_train, y_train, **fit_params)\n",
      "/opt/conda/lib/python3.7/site-packages/sklearn/model_selection/_validation.py:681: DataConversionWarning: A column-vector y was passed when a 1d array was expected. Please change the shape of y to (n_samples,), for example using ravel().\n",
      "  estimator.fit(X_train, y_train, **fit_params)\n",
      "/opt/conda/lib/python3.7/site-packages/sklearn/model_selection/_validation.py:681: DataConversionWarning: A column-vector y was passed when a 1d array was expected. Please change the shape of y to (n_samples,), for example using ravel().\n",
      "  estimator.fit(X_train, y_train, **fit_params)\n",
      "/opt/conda/lib/python3.7/site-packages/sklearn/model_selection/_validation.py:681: DataConversionWarning: A column-vector y was passed when a 1d array was expected. Please change the shape of y to (n_samples,), for example using ravel().\n",
      "  estimator.fit(X_train, y_train, **fit_params)\n",
      "/opt/conda/lib/python3.7/site-packages/sklearn/model_selection/_validation.py:681: DataConversionWarning: A column-vector y was passed when a 1d array was expected. Please change the shape of y to (n_samples,), for example using ravel().\n",
      "  estimator.fit(X_train, y_train, **fit_params)\n",
      "/opt/conda/lib/python3.7/site-packages/sklearn/model_selection/_validation.py:681: DataConversionWarning: A column-vector y was passed when a 1d array was expected. Please change the shape of y to (n_samples,), for example using ravel().\n",
      "  estimator.fit(X_train, y_train, **fit_params)\n",
      "/opt/conda/lib/python3.7/site-packages/sklearn/model_selection/_validation.py:681: DataConversionWarning: A column-vector y was passed when a 1d array was expected. Please change the shape of y to (n_samples,), for example using ravel().\n",
      "  estimator.fit(X_train, y_train, **fit_params)\n",
      "/opt/conda/lib/python3.7/site-packages/sklearn/model_selection/_validation.py:681: DataConversionWarning: A column-vector y was passed when a 1d array was expected. Please change the shape of y to (n_samples,), for example using ravel().\n",
      "  estimator.fit(X_train, y_train, **fit_params)\n",
      "/opt/conda/lib/python3.7/site-packages/sklearn/model_selection/_validation.py:681: DataConversionWarning: A column-vector y was passed when a 1d array was expected. Please change the shape of y to (n_samples,), for example using ravel().\n",
      "  estimator.fit(X_train, y_train, **fit_params)\n",
      "/opt/conda/lib/python3.7/site-packages/sklearn/model_selection/_validation.py:681: DataConversionWarning: A column-vector y was passed when a 1d array was expected. Please change the shape of y to (n_samples,), for example using ravel().\n",
      "  estimator.fit(X_train, y_train, **fit_params)\n",
      "/opt/conda/lib/python3.7/site-packages/sklearn/model_selection/_validation.py:681: DataConversionWarning: A column-vector y was passed when a 1d array was expected. Please change the shape of y to (n_samples,), for example using ravel().\n",
      "  estimator.fit(X_train, y_train, **fit_params)\n",
      "/opt/conda/lib/python3.7/site-packages/sklearn/model_selection/_validation.py:681: DataConversionWarning: A column-vector y was passed when a 1d array was expected. Please change the shape of y to (n_samples,), for example using ravel().\n",
      "  estimator.fit(X_train, y_train, **fit_params)\n",
      "/opt/conda/lib/python3.7/site-packages/sklearn/model_selection/_validation.py:681: DataConversionWarning: A column-vector y was passed when a 1d array was expected. Please change the shape of y to (n_samples,), for example using ravel().\n",
      "  estimator.fit(X_train, y_train, **fit_params)\n",
      "/opt/conda/lib/python3.7/site-packages/sklearn/model_selection/_validation.py:681: DataConversionWarning: A column-vector y was passed when a 1d array was expected. Please change the shape of y to (n_samples,), for example using ravel().\n",
      "  estimator.fit(X_train, y_train, **fit_params)\n",
      "/opt/conda/lib/python3.7/site-packages/sklearn/model_selection/_validation.py:681: DataConversionWarning: A column-vector y was passed when a 1d array was expected. Please change the shape of y to (n_samples,), for example using ravel().\n",
      "  estimator.fit(X_train, y_train, **fit_params)\n",
      "/opt/conda/lib/python3.7/site-packages/sklearn/model_selection/_validation.py:681: DataConversionWarning: A column-vector y was passed when a 1d array was expected. Please change the shape of y to (n_samples,), for example using ravel().\n",
      "  estimator.fit(X_train, y_train, **fit_params)\n",
      "/opt/conda/lib/python3.7/site-packages/sklearn/model_selection/_validation.py:681: DataConversionWarning: A column-vector y was passed when a 1d array was expected. Please change the shape of y to (n_samples,), for example using ravel().\n",
      "  estimator.fit(X_train, y_train, **fit_params)\n",
      "/opt/conda/lib/python3.7/site-packages/sklearn/model_selection/_validation.py:681: DataConversionWarning: A column-vector y was passed when a 1d array was expected. Please change the shape of y to (n_samples,), for example using ravel().\n",
      "  estimator.fit(X_train, y_train, **fit_params)\n",
      "/opt/conda/lib/python3.7/site-packages/sklearn/model_selection/_validation.py:681: DataConversionWarning: A column-vector y was passed when a 1d array was expected. Please change the shape of y to (n_samples,), for example using ravel().\n",
      "  estimator.fit(X_train, y_train, **fit_params)\n",
      "/opt/conda/lib/python3.7/site-packages/sklearn/model_selection/_validation.py:681: DataConversionWarning: A column-vector y was passed when a 1d array was expected. Please change the shape of y to (n_samples,), for example using ravel().\n",
      "  estimator.fit(X_train, y_train, **fit_params)\n",
      "/opt/conda/lib/python3.7/site-packages/sklearn/model_selection/_validation.py:681: DataConversionWarning: A column-vector y was passed when a 1d array was expected. Please change the shape of y to (n_samples,), for example using ravel().\n",
      "  estimator.fit(X_train, y_train, **fit_params)\n",
      "/opt/conda/lib/python3.7/site-packages/sklearn/model_selection/_validation.py:681: DataConversionWarning: A column-vector y was passed when a 1d array was expected. Please change the shape of y to (n_samples,), for example using ravel().\n",
      "  estimator.fit(X_train, y_train, **fit_params)\n",
      "/opt/conda/lib/python3.7/site-packages/sklearn/model_selection/_validation.py:681: DataConversionWarning: A column-vector y was passed when a 1d array was expected. Please change the shape of y to (n_samples,), for example using ravel().\n",
      "  estimator.fit(X_train, y_train, **fit_params)\n",
      "/opt/conda/lib/python3.7/site-packages/sklearn/model_selection/_validation.py:681: DataConversionWarning: A column-vector y was passed when a 1d array was expected. Please change the shape of y to (n_samples,), for example using ravel().\n",
      "  estimator.fit(X_train, y_train, **fit_params)\n",
      "/opt/conda/lib/python3.7/site-packages/sklearn/model_selection/_validation.py:681: DataConversionWarning: A column-vector y was passed when a 1d array was expected. Please change the shape of y to (n_samples,), for example using ravel().\n",
      "  estimator.fit(X_train, y_train, **fit_params)\n",
      "/opt/conda/lib/python3.7/site-packages/sklearn/model_selection/_validation.py:681: DataConversionWarning: A column-vector y was passed when a 1d array was expected. Please change the shape of y to (n_samples,), for example using ravel().\n",
      "  estimator.fit(X_train, y_train, **fit_params)\n",
      "/opt/conda/lib/python3.7/site-packages/sklearn/model_selection/_validation.py:681: DataConversionWarning: A column-vector y was passed when a 1d array was expected. Please change the shape of y to (n_samples,), for example using ravel().\n",
      "  estimator.fit(X_train, y_train, **fit_params)\n",
      "/opt/conda/lib/python3.7/site-packages/sklearn/model_selection/_validation.py:681: DataConversionWarning: A column-vector y was passed when a 1d array was expected. Please change the shape of y to (n_samples,), for example using ravel().\n",
      "  estimator.fit(X_train, y_train, **fit_params)\n",
      "/opt/conda/lib/python3.7/site-packages/sklearn/model_selection/_validation.py:681: DataConversionWarning: A column-vector y was passed when a 1d array was expected. Please change the shape of y to (n_samples,), for example using ravel().\n",
      "  estimator.fit(X_train, y_train, **fit_params)\n",
      "/opt/conda/lib/python3.7/site-packages/sklearn/model_selection/_validation.py:681: DataConversionWarning: A column-vector y was passed when a 1d array was expected. Please change the shape of y to (n_samples,), for example using ravel().\n",
      "  estimator.fit(X_train, y_train, **fit_params)\n",
      "/opt/conda/lib/python3.7/site-packages/sklearn/model_selection/_validation.py:681: DataConversionWarning: A column-vector y was passed when a 1d array was expected. Please change the shape of y to (n_samples,), for example using ravel().\n",
      "  estimator.fit(X_train, y_train, **fit_params)\n",
      "/opt/conda/lib/python3.7/site-packages/sklearn/model_selection/_validation.py:681: DataConversionWarning: A column-vector y was passed when a 1d array was expected. Please change the shape of y to (n_samples,), for example using ravel().\n",
      "  estimator.fit(X_train, y_train, **fit_params)\n",
      "/opt/conda/lib/python3.7/site-packages/sklearn/model_selection/_validation.py:681: DataConversionWarning: A column-vector y was passed when a 1d array was expected. Please change the shape of y to (n_samples,), for example using ravel().\n",
      "  estimator.fit(X_train, y_train, **fit_params)\n",
      "/opt/conda/lib/python3.7/site-packages/sklearn/model_selection/_validation.py:681: DataConversionWarning: A column-vector y was passed when a 1d array was expected. Please change the shape of y to (n_samples,), for example using ravel().\n",
      "  estimator.fit(X_train, y_train, **fit_params)\n",
      "/opt/conda/lib/python3.7/site-packages/sklearn/model_selection/_validation.py:681: DataConversionWarning: A column-vector y was passed when a 1d array was expected. Please change the shape of y to (n_samples,), for example using ravel().\n",
      "  estimator.fit(X_train, y_train, **fit_params)\n",
      "/opt/conda/lib/python3.7/site-packages/sklearn/model_selection/_validation.py:681: DataConversionWarning: A column-vector y was passed when a 1d array was expected. Please change the shape of y to (n_samples,), for example using ravel().\n",
      "  estimator.fit(X_train, y_train, **fit_params)\n",
      "/opt/conda/lib/python3.7/site-packages/sklearn/model_selection/_validation.py:681: DataConversionWarning: A column-vector y was passed when a 1d array was expected. Please change the shape of y to (n_samples,), for example using ravel().\n",
      "  estimator.fit(X_train, y_train, **fit_params)\n",
      "/opt/conda/lib/python3.7/site-packages/sklearn/model_selection/_validation.py:681: DataConversionWarning: A column-vector y was passed when a 1d array was expected. Please change the shape of y to (n_samples,), for example using ravel().\n",
      "  estimator.fit(X_train, y_train, **fit_params)\n",
      "/opt/conda/lib/python3.7/site-packages/sklearn/model_selection/_validation.py:681: DataConversionWarning: A column-vector y was passed when a 1d array was expected. Please change the shape of y to (n_samples,), for example using ravel().\n",
      "  estimator.fit(X_train, y_train, **fit_params)\n",
      "/opt/conda/lib/python3.7/site-packages/sklearn/model_selection/_validation.py:681: DataConversionWarning: A column-vector y was passed when a 1d array was expected. Please change the shape of y to (n_samples,), for example using ravel().\n",
      "  estimator.fit(X_train, y_train, **fit_params)\n",
      "/opt/conda/lib/python3.7/site-packages/sklearn/model_selection/_validation.py:681: DataConversionWarning: A column-vector y was passed when a 1d array was expected. Please change the shape of y to (n_samples,), for example using ravel().\n",
      "  estimator.fit(X_train, y_train, **fit_params)\n",
      "/opt/conda/lib/python3.7/site-packages/sklearn/model_selection/_validation.py:681: DataConversionWarning: A column-vector y was passed when a 1d array was expected. Please change the shape of y to (n_samples,), for example using ravel().\n",
      "  estimator.fit(X_train, y_train, **fit_params)\n",
      "/opt/conda/lib/python3.7/site-packages/sklearn/model_selection/_validation.py:681: DataConversionWarning: A column-vector y was passed when a 1d array was expected. Please change the shape of y to (n_samples,), for example using ravel().\n",
      "  estimator.fit(X_train, y_train, **fit_params)\n",
      "/opt/conda/lib/python3.7/site-packages/sklearn/model_selection/_validation.py:681: DataConversionWarning: A column-vector y was passed when a 1d array was expected. Please change the shape of y to (n_samples,), for example using ravel().\n",
      "  estimator.fit(X_train, y_train, **fit_params)\n",
      "/opt/conda/lib/python3.7/site-packages/sklearn/model_selection/_validation.py:681: DataConversionWarning: A column-vector y was passed when a 1d array was expected. Please change the shape of y to (n_samples,), for example using ravel().\n",
      "  estimator.fit(X_train, y_train, **fit_params)\n",
      "/opt/conda/lib/python3.7/site-packages/sklearn/model_selection/_validation.py:681: DataConversionWarning: A column-vector y was passed when a 1d array was expected. Please change the shape of y to (n_samples,), for example using ravel().\n",
      "  estimator.fit(X_train, y_train, **fit_params)\n",
      "/opt/conda/lib/python3.7/site-packages/sklearn/model_selection/_validation.py:681: DataConversionWarning: A column-vector y was passed when a 1d array was expected. Please change the shape of y to (n_samples,), for example using ravel().\n",
      "  estimator.fit(X_train, y_train, **fit_params)\n",
      "/opt/conda/lib/python3.7/site-packages/sklearn/model_selection/_validation.py:681: DataConversionWarning: A column-vector y was passed when a 1d array was expected. Please change the shape of y to (n_samples,), for example using ravel().\n",
      "  estimator.fit(X_train, y_train, **fit_params)\n",
      "/opt/conda/lib/python3.7/site-packages/sklearn/model_selection/_validation.py:681: DataConversionWarning: A column-vector y was passed when a 1d array was expected. Please change the shape of y to (n_samples,), for example using ravel().\n",
      "  estimator.fit(X_train, y_train, **fit_params)\n",
      "/opt/conda/lib/python3.7/site-packages/sklearn/model_selection/_validation.py:681: DataConversionWarning: A column-vector y was passed when a 1d array was expected. Please change the shape of y to (n_samples,), for example using ravel().\n",
      "  estimator.fit(X_train, y_train, **fit_params)\n",
      "/opt/conda/lib/python3.7/site-packages/sklearn/model_selection/_validation.py:681: DataConversionWarning: A column-vector y was passed when a 1d array was expected. Please change the shape of y to (n_samples,), for example using ravel().\n",
      "  estimator.fit(X_train, y_train, **fit_params)\n",
      "/opt/conda/lib/python3.7/site-packages/sklearn/model_selection/_validation.py:681: DataConversionWarning: A column-vector y was passed when a 1d array was expected. Please change the shape of y to (n_samples,), for example using ravel().\n",
      "  estimator.fit(X_train, y_train, **fit_params)\n",
      "/opt/conda/lib/python3.7/site-packages/sklearn/model_selection/_validation.py:681: DataConversionWarning: A column-vector y was passed when a 1d array was expected. Please change the shape of y to (n_samples,), for example using ravel().\n",
      "  estimator.fit(X_train, y_train, **fit_params)\n",
      "/opt/conda/lib/python3.7/site-packages/sklearn/model_selection/_validation.py:681: DataConversionWarning: A column-vector y was passed when a 1d array was expected. Please change the shape of y to (n_samples,), for example using ravel().\n",
      "  estimator.fit(X_train, y_train, **fit_params)\n",
      "/opt/conda/lib/python3.7/site-packages/sklearn/model_selection/_validation.py:681: DataConversionWarning: A column-vector y was passed when a 1d array was expected. Please change the shape of y to (n_samples,), for example using ravel().\n",
      "  estimator.fit(X_train, y_train, **fit_params)\n",
      "/opt/conda/lib/python3.7/site-packages/sklearn/model_selection/_validation.py:681: DataConversionWarning: A column-vector y was passed when a 1d array was expected. Please change the shape of y to (n_samples,), for example using ravel().\n",
      "  estimator.fit(X_train, y_train, **fit_params)\n",
      "/opt/conda/lib/python3.7/site-packages/sklearn/model_selection/_validation.py:681: DataConversionWarning: A column-vector y was passed when a 1d array was expected. Please change the shape of y to (n_samples,), for example using ravel().\n",
      "  estimator.fit(X_train, y_train, **fit_params)\n",
      "/opt/conda/lib/python3.7/site-packages/sklearn/model_selection/_validation.py:681: DataConversionWarning: A column-vector y was passed when a 1d array was expected. Please change the shape of y to (n_samples,), for example using ravel().\n",
      "  estimator.fit(X_train, y_train, **fit_params)\n",
      "/opt/conda/lib/python3.7/site-packages/sklearn/model_selection/_validation.py:681: DataConversionWarning: A column-vector y was passed when a 1d array was expected. Please change the shape of y to (n_samples,), for example using ravel().\n",
      "  estimator.fit(X_train, y_train, **fit_params)\n",
      "/opt/conda/lib/python3.7/site-packages/sklearn/model_selection/_validation.py:681: DataConversionWarning: A column-vector y was passed when a 1d array was expected. Please change the shape of y to (n_samples,), for example using ravel().\n",
      "  estimator.fit(X_train, y_train, **fit_params)\n",
      "/opt/conda/lib/python3.7/site-packages/sklearn/model_selection/_validation.py:681: DataConversionWarning: A column-vector y was passed when a 1d array was expected. Please change the shape of y to (n_samples,), for example using ravel().\n",
      "  estimator.fit(X_train, y_train, **fit_params)\n",
      "/opt/conda/lib/python3.7/site-packages/sklearn/model_selection/_validation.py:681: DataConversionWarning: A column-vector y was passed when a 1d array was expected. Please change the shape of y to (n_samples,), for example using ravel().\n",
      "  estimator.fit(X_train, y_train, **fit_params)\n"
     ]
    },
    {
     "data": {
      "text/plain": [
       "GridSearchCV(cv=10, estimator=RandomForestClassifier(random_state=4), n_jobs=-1,\n",
       "             param_grid={'max_depth': [3, 5, 6, 7],\n",
       "                         'min_samples_split': [50, 100, 150, 200, 250]})"
      ]
     },
     "execution_count": 67,
     "metadata": {},
     "output_type": "execute_result"
    }
   ],
   "source": [
    "param_dist = {'max_depth': [3, 5, 6, 7], 'min_samples_split': [50, 100, 150, 200, 250]}\n",
    "gscv_rfc = GridSearchCV(rfc, cv=10, param_grid=param_dist, n_jobs=-1)\n",
    "gscv_rfc.fit(X_train,y_train)"
   ]
  },
  {
   "cell_type": "code",
   "execution_count": 68,
   "id": "3583d622",
   "metadata": {
    "execution": {
     "iopub.execute_input": "2022-03-14T19:38:33.177256Z",
     "iopub.status.busy": "2022-03-14T19:38:33.176257Z",
     "iopub.status.idle": "2022-03-14T19:38:33.181457Z",
     "shell.execute_reply": "2022-03-14T19:38:33.182017Z",
     "shell.execute_reply.started": "2022-03-14T19:28:31.843891Z"
    },
    "papermill": {
     "duration": 0.096871,
     "end_time": "2022-03-14T19:38:33.182184",
     "exception": false,
     "start_time": "2022-03-14T19:38:33.085313",
     "status": "completed"
    },
    "tags": []
   },
   "outputs": [
    {
     "data": {
      "text/plain": [
       "{'max_depth': 7, 'min_samples_split': 50}"
      ]
     },
     "execution_count": 68,
     "metadata": {},
     "output_type": "execute_result"
    }
   ],
   "source": [
    "gscv_rfc.best_params_"
   ]
  },
  {
   "cell_type": "code",
   "execution_count": 69,
   "id": "ba3401a3",
   "metadata": {
    "execution": {
     "iopub.execute_input": "2022-03-14T19:38:33.366040Z",
     "iopub.status.busy": "2022-03-14T19:38:33.365353Z",
     "iopub.status.idle": "2022-03-14T19:38:34.863201Z",
     "shell.execute_reply": "2022-03-14T19:38:34.862629Z",
     "shell.execute_reply.started": "2022-03-14T19:28:31.852223Z"
    },
    "papermill": {
     "duration": 1.592825,
     "end_time": "2022-03-14T19:38:34.863348",
     "exception": false,
     "start_time": "2022-03-14T19:38:33.270523",
     "status": "completed"
    },
    "tags": []
   },
   "outputs": [
    {
     "data": {
      "text/plain": [
       "RandomForestClassifier(max_depth=7, min_samples_split=50, random_state=4)"
      ]
     },
     "execution_count": 69,
     "metadata": {},
     "output_type": "execute_result"
    }
   ],
   "source": [
    "rfc=RandomForestClassifier(criterion='gini',random_state=4,max_depth=7,min_samples_split=50)\n",
    "rfc.fit(X_train,y_train)"
   ]
  },
  {
   "cell_type": "markdown",
   "id": "89aa746d",
   "metadata": {
    "papermill": {
     "duration": 0.088519,
     "end_time": "2022-03-14T19:38:35.041208",
     "exception": false,
     "start_time": "2022-03-14T19:38:34.952689",
     "status": "completed"
    },
    "tags": []
   },
   "source": [
    "## Model Evaluation"
   ]
  },
  {
   "cell_type": "code",
   "execution_count": 70,
   "id": "e2072819",
   "metadata": {
    "execution": {
     "iopub.execute_input": "2022-03-14T19:38:35.224016Z",
     "iopub.status.busy": "2022-03-14T19:38:35.223361Z",
     "iopub.status.idle": "2022-03-14T19:38:35.415229Z",
     "shell.execute_reply": "2022-03-14T19:38:35.414704Z",
     "shell.execute_reply.started": "2022-03-14T19:28:33.546704Z"
    },
    "papermill": {
     "duration": 0.283851,
     "end_time": "2022-03-14T19:38:35.415383",
     "exception": false,
     "start_time": "2022-03-14T19:38:35.131532",
     "status": "completed"
    },
    "tags": []
   },
   "outputs": [],
   "source": [
    "y_pred_lr=lr.predict(X_test)\n",
    "y_pred_dtc=dtc.predict(X_test)\n",
    "y_pred_rfc=rfc.predict(X_test)"
   ]
  },
  {
   "cell_type": "code",
   "execution_count": 71,
   "id": "d7d004e8",
   "metadata": {
    "execution": {
     "iopub.execute_input": "2022-03-14T19:38:35.596344Z",
     "iopub.status.busy": "2022-03-14T19:38:35.595575Z",
     "iopub.status.idle": "2022-03-14T19:38:35.598259Z",
     "shell.execute_reply": "2022-03-14T19:38:35.597748Z",
     "shell.execute_reply.started": "2022-03-14T19:28:33.763516Z"
    },
    "papermill": {
     "duration": 0.095167,
     "end_time": "2022-03-14T19:38:35.598397",
     "exception": false,
     "start_time": "2022-03-14T19:38:35.503230",
     "status": "completed"
    },
    "tags": []
   },
   "outputs": [],
   "source": [
    "from sklearn import metrics\n",
    "from sklearn.metrics import confusion_matrix"
   ]
  },
  {
   "cell_type": "code",
   "execution_count": 72,
   "id": "9ba39994",
   "metadata": {
    "execution": {
     "iopub.execute_input": "2022-03-14T19:38:35.778730Z",
     "iopub.status.busy": "2022-03-14T19:38:35.778130Z",
     "iopub.status.idle": "2022-03-14T19:38:35.799494Z",
     "shell.execute_reply": "2022-03-14T19:38:35.799022Z",
     "shell.execute_reply.started": "2022-03-14T19:28:33.770351Z"
    },
    "papermill": {
     "duration": 0.111929,
     "end_time": "2022-03-14T19:38:35.799632",
     "exception": false,
     "start_time": "2022-03-14T19:38:35.687703",
     "status": "completed"
    },
    "tags": []
   },
   "outputs": [
    {
     "name": "stdout",
     "output_type": "stream",
     "text": [
      "Logistic Regression Metrics\n",
      "Accuracy: 0.929623944742901\n",
      "Precision: 0.5581395348837209\n",
      "Recall: 0.07725321888412018\n",
      "f1_score: 0.1357210179076343\n"
     ]
    }
   ],
   "source": [
    "print('Logistic Regression Metrics')\n",
    "print('Accuracy:', metrics.accuracy_score(y_test, y_pred_lr))\n",
    "print('Precision:', metrics.precision_score(y_test, y_pred_lr))\n",
    "print('Recall:', metrics.recall_score(y_test, y_pred_lr))\n",
    "print('f1_score:', metrics.f1_score(y_test, y_pred_lr))"
   ]
  },
  {
   "cell_type": "code",
   "execution_count": 73,
   "id": "b0aa2641",
   "metadata": {
    "execution": {
     "iopub.execute_input": "2022-03-14T19:38:35.981670Z",
     "iopub.status.busy": "2022-03-14T19:38:35.981072Z",
     "iopub.status.idle": "2022-03-14T19:38:36.275022Z",
     "shell.execute_reply": "2022-03-14T19:38:36.275504Z",
     "shell.execute_reply.started": "2022-03-14T19:28:33.804240Z"
    },
    "papermill": {
     "duration": 0.385628,
     "end_time": "2022-03-14T19:38:36.275746",
     "exception": false,
     "start_time": "2022-03-14T19:38:35.890118",
     "status": "completed"
    },
    "tags": []
   },
   "outputs": [
    {
     "data": {
      "text/plain": [
       "<sklearn.metrics._plot.confusion_matrix.ConfusionMatrixDisplay at 0x7f531d527b10>"
      ]
     },
     "execution_count": 73,
     "metadata": {},
     "output_type": "execute_result"
    },
    {
     "data": {
      "image/png": "[encoded data removed]",
      "text/plain": [
       "<Figure size 432x288 with 2 Axes>"
      ]
     },
     "metadata": {
      "needs_background": "light"
     },
     "output_type": "display_data"
    }
   ],
   "source": [
    "metrics.plot_confusion_matrix(lr,X_test,y_test)"
   ]
  },
  {
   "cell_type": "code",
   "execution_count": 74,
   "id": "3bd2586b",
   "metadata": {
    "execution": {
     "iopub.execute_input": "2022-03-14T19:38:36.463576Z",
     "iopub.status.busy": "2022-03-14T19:38:36.462989Z",
     "iopub.status.idle": "2022-03-14T19:38:36.483483Z",
     "shell.execute_reply": "2022-03-14T19:38:36.483987Z",
     "shell.execute_reply.started": "2022-03-14T19:28:34.066230Z"
    },
    "papermill": {
     "duration": 0.114175,
     "end_time": "2022-03-14T19:38:36.484159",
     "exception": false,
     "start_time": "2022-03-14T19:38:36.369984",
     "status": "completed"
    },
    "tags": []
   },
   "outputs": [
    {
     "name": "stdout",
     "output_type": "stream",
     "text": [
      "Decision Tree Metrics\n",
      "Accuracy: 0.9323100537221796\n",
      "Precision: 0.6865671641791045\n",
      "Recall: 0.09871244635193133\n",
      "f1_score: 0.1726078799249531\n"
     ]
    }
   ],
   "source": [
    "print('Decision Tree Metrics')\n",
    "print('Accuracy:', metrics.accuracy_score(y_test, y_pred_dtc))\n",
    "print('Precision:', metrics.precision_score(y_test, y_pred_dtc))\n",
    "print('Recall:', metrics.recall_score(y_test, y_pred_dtc))\n",
    "print('f1_score:', metrics.f1_score(y_test, y_pred_dtc))"
   ]
  },
  {
   "cell_type": "code",
   "execution_count": 75,
   "id": "7357e059",
   "metadata": {
    "execution": {
     "iopub.execute_input": "2022-03-14T19:38:36.671483Z",
     "iopub.status.busy": "2022-03-14T19:38:36.670598Z",
     "iopub.status.idle": "2022-03-14T19:38:36.899276Z",
     "shell.execute_reply": "2022-03-14T19:38:36.898663Z",
     "shell.execute_reply.started": "2022-03-14T19:28:34.089536Z"
    },
    "papermill": {
     "duration": 0.325342,
     "end_time": "2022-03-14T19:38:36.899409",
     "exception": false,
     "start_time": "2022-03-14T19:38:36.574067",
     "status": "completed"
    },
    "tags": []
   },
   "outputs": [
    {
     "data": {
      "text/plain": [
       "<sklearn.metrics._plot.confusion_matrix.ConfusionMatrixDisplay at 0x7f531d7e5e50>"
      ]
     },
     "execution_count": 75,
     "metadata": {},
     "output_type": "execute_result"
    },
    {
     "data": {
      "image/png": "[encoded data removed]",
      "text/plain": [
       "<Figure size 432x288 with 2 Axes>"
      ]
     },
     "metadata": {
      "needs_background": "light"
     },
     "output_type": "display_data"
    }
   ],
   "source": [
    "metrics.plot_confusion_matrix(dtc,X_test,y_test)"
   ]
  },
  {
   "cell_type": "code",
   "execution_count": 76,
   "id": "02521e94",
   "metadata": {
    "execution": {
     "iopub.execute_input": "2022-03-14T19:38:37.090801Z",
     "iopub.status.busy": "2022-03-14T19:38:37.090161Z",
     "iopub.status.idle": "2022-03-14T19:38:37.108591Z",
     "shell.execute_reply": "2022-03-14T19:38:37.109040Z",
     "shell.execute_reply.started": "2022-03-14T19:28:34.345165Z"
    },
    "papermill": {
     "duration": 0.116663,
     "end_time": "2022-03-14T19:38:37.109221",
     "exception": false,
     "start_time": "2022-03-14T19:38:36.992558",
     "status": "completed"
    },
    "tags": []
   },
   "outputs": [
    {
     "name": "stdout",
     "output_type": "stream",
     "text": [
      "Random Forest Metrics\n",
      "Accuracy: 0.930775134305449\n",
      "Precision: 1.0\n",
      "Recall: 0.032188841201716736\n",
      "f1_score: 0.06237006237006236\n"
     ]
    }
   ],
   "source": [
    "print('Random Forest Metrics')\n",
    "print('Accuracy:', metrics.accuracy_score(y_test, y_pred_rfc))\n",
    "print('Precision:', metrics.precision_score(y_test, y_pred_rfc))\n",
    "print('Recall:', metrics.recall_score(y_test, y_pred_rfc))\n",
    "print('f1_score:', metrics.f1_score(y_test, y_pred_rfc))"
   ]
  },
  {
   "cell_type": "code",
   "execution_count": 77,
   "id": "a7313b55",
   "metadata": {
    "execution": {
     "iopub.execute_input": "2022-03-14T19:38:37.299056Z",
     "iopub.status.busy": "2022-03-14T19:38:37.298435Z",
     "iopub.status.idle": "2022-03-14T19:38:37.645594Z",
     "shell.execute_reply": "2022-03-14T19:38:37.645079Z",
     "shell.execute_reply.started": "2022-03-14T19:28:34.371589Z"
    },
    "papermill": {
     "duration": 0.444966,
     "end_time": "2022-03-14T19:38:37.645742",
     "exception": false,
     "start_time": "2022-03-14T19:38:37.200776",
     "status": "completed"
    },
    "tags": []
   },
   "outputs": [
    {
     "data": {
      "text/plain": [
       "<sklearn.metrics._plot.confusion_matrix.ConfusionMatrixDisplay at 0x7f531cc378d0>"
      ]
     },
     "execution_count": 77,
     "metadata": {},
     "output_type": "execute_result"
    },
    {
     "data": {
      "image/png": "[encoded data removed]",
      "text/plain": [
       "<Figure size 432x288 with 2 Axes>"
      ]
     },
     "metadata": {
      "needs_background": "light"
     },
     "output_type": "display_data"
    }
   ],
   "source": [
    "metrics.plot_confusion_matrix(rfc,X_test,y_test)"
   ]
  }
 ],
 "metadata": {
  "kernelspec": {
   "display_name": "Python 3 (ipykernel)",
   "language": "python",
   "name": "python3"
  },
  "language_info": {
   "codemirror_mode": {
    "name": "ipython",
    "version": 3
   },
   "file_extension": ".py",
   "mimetype": "text/x-python",
   "name": "python",
   "nbconvert_exporter": "python",
   "pygments_lexer": "ipython3",
   "version": "3.11.5"
  },
  "papermill": {
   "default_parameters": {},
   "duration": 186.112148,
   "end_time": "2022-03-14T19:38:38.651398",
   "environment_variables": {},
   "exception": null,
   "input_path": "__notebook__.ipynb",
   "output_path": "__notebook__.ipynb",
   "parameters": {},
   "start_time": "2022-03-14T19:35:32.539250",
   "version": "2.3.3"
  }
 },
 "nbformat": 4,
 "nbformat_minor": 5
}
